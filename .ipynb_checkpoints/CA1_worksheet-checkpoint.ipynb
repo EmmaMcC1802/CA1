{
 "cells": [
  {
   "cell_type": "markdown",
   "id": "6cd16ee7",
   "metadata": {},
   "source": [
    "# Assignment 1\n",
    "**Emma McCready**\n",
    "\n",
    "---\n",
    "\n",
    "### Analysis of population over time\n",
    "\n",
    "You are required to collect, process, analyse and interpret the data in order to identify possible issues/problems at present and make predictions/classifications in regard to the future. This analysis will rely on the available data from CSO and any additional data you deem necessary (with supporting evidence) to support your hypothesis for this scenario.\n",
    "\n",
    "Areas of focus:\n",
    "* Annual Population Change\n",
    "* Population Forecasting\n",
    "\n",
    "To do:\n",
    "\n",
    "* Re organise this sheet into Data Cleaning, then Data prep (if this is the correct order?), then EDA... and so on\n",
    "* Maybe write a function to automatically prepare the data for each type of migration?\n",
    "* I'd rather if net migration included the thousands in it\n",
    "* Investigate \"All countries\" under countries dataset\n",
    "\n",
    "--- \n",
    "\n",
    "- diagnosing the “tidiness” of the data — how much data cleaning we will have to do\n",
    "- reshaping the data — getting right rows and columns for effective analysis\n",
    "- combining multiple files\n",
    "- changing the types of values — how we fix a column where numerical values are stored as strings, for example\n",
    "- dropping or filling missing values - how we deal with data that is incomplete or missing\n",
    "- manipulating strings to represent the data better\n",
    "\n",
    "https://www.cso.ie/en/releasesandpublications/ep/p-pme/populationandmigrationestimatesapril2023/keyfindings/"
   ]
  },
  {
   "cell_type": "code",
   "execution_count": 1,
   "id": "786af22e",
   "metadata": {},
   "outputs": [],
   "source": [
    "# Dependencies.. put any packages I install here:\n",
    "#!pip install flask pandas==2.1.2"
   ]
  },
  {
   "cell_type": "code",
   "execution_count": 2,
   "id": "dbe711a8",
   "metadata": {},
   "outputs": [],
   "source": [
    "# Load in packages\n",
    "\n",
    "import pandas as pd\n",
    "import numpy as np\n",
    "from scipy import stats\n",
    "import seaborn as sns\n",
    "import matplotlib.pyplot as plt\n"
   ]
  },
  {
   "cell_type": "markdown",
   "id": "46edd045",
   "metadata": {},
   "source": [
    "<summary style=\"color:blue;\">\n",
    "\n",
    "# 1. Data Inspection\n",
    "    \n",
    "First, I need to load in the data, and then take a quick look at the data to get a sense of what I'm dealing with. I'm initially interested in what unique columns there are, the data types of the columns,"
   ]
  },
  {
   "cell_type": "code",
   "execution_count": 3,
   "id": "b83e688e",
   "metadata": {
    "scrolled": false
   },
   "outputs": [
    {
     "data": {
      "text/html": [
       "<div>\n",
       "<style scoped>\n",
       "    .dataframe tbody tr th:only-of-type {\n",
       "        vertical-align: middle;\n",
       "    }\n",
       "\n",
       "    .dataframe tbody tr th {\n",
       "        vertical-align: top;\n",
       "    }\n",
       "\n",
       "    .dataframe thead th {\n",
       "        text-align: right;\n",
       "    }\n",
       "</style>\n",
       "<table border=\"1\" class=\"dataframe\">\n",
       "  <thead>\n",
       "    <tr style=\"text-align: right;\">\n",
       "      <th></th>\n",
       "      <th>STATISTIC Label</th>\n",
       "      <th>Year</th>\n",
       "      <th>Country</th>\n",
       "      <th>Sex</th>\n",
       "      <th>Origin or Destination</th>\n",
       "      <th>UNIT</th>\n",
       "      <th>VALUE</th>\n",
       "    </tr>\n",
       "  </thead>\n",
       "  <tbody>\n",
       "    <tr>\n",
       "      <th>0</th>\n",
       "      <td>Estimated Migration (Persons in April)</td>\n",
       "      <td>1987</td>\n",
       "      <td>United Kingdom (1)</td>\n",
       "      <td>Both sexes</td>\n",
       "      <td>Net migration</td>\n",
       "      <td>Thousand</td>\n",
       "      <td>-13.7</td>\n",
       "    </tr>\n",
       "    <tr>\n",
       "      <th>1</th>\n",
       "      <td>Estimated Migration (Persons in April)</td>\n",
       "      <td>1987</td>\n",
       "      <td>United Kingdom (1)</td>\n",
       "      <td>Both sexes</td>\n",
       "      <td>Emigrants: All destinations</td>\n",
       "      <td>Thousand</td>\n",
       "      <td>21.8</td>\n",
       "    </tr>\n",
       "    <tr>\n",
       "      <th>2</th>\n",
       "      <td>Estimated Migration (Persons in April)</td>\n",
       "      <td>1987</td>\n",
       "      <td>United Kingdom (1)</td>\n",
       "      <td>Both sexes</td>\n",
       "      <td>Immigrants: All origins</td>\n",
       "      <td>Thousand</td>\n",
       "      <td>8.1</td>\n",
       "    </tr>\n",
       "    <tr>\n",
       "      <th>3</th>\n",
       "      <td>Estimated Migration (Persons in April)</td>\n",
       "      <td>1987</td>\n",
       "      <td>United Kingdom (1)</td>\n",
       "      <td>Male</td>\n",
       "      <td>Net migration</td>\n",
       "      <td>Thousand</td>\n",
       "      <td>-9.0</td>\n",
       "    </tr>\n",
       "    <tr>\n",
       "      <th>4</th>\n",
       "      <td>Estimated Migration (Persons in April)</td>\n",
       "      <td>1987</td>\n",
       "      <td>United Kingdom (1)</td>\n",
       "      <td>Male</td>\n",
       "      <td>Emigrants: All destinations</td>\n",
       "      <td>Thousand</td>\n",
       "      <td>13.1</td>\n",
       "    </tr>\n",
       "  </tbody>\n",
       "</table>\n",
       "</div>"
      ],
      "text/plain": [
       "                          STATISTIC Label  Year             Country  \\\n",
       "0  Estimated Migration (Persons in April)  1987  United Kingdom (1)   \n",
       "1  Estimated Migration (Persons in April)  1987  United Kingdom (1)   \n",
       "2  Estimated Migration (Persons in April)  1987  United Kingdom (1)   \n",
       "3  Estimated Migration (Persons in April)  1987  United Kingdom (1)   \n",
       "4  Estimated Migration (Persons in April)  1987  United Kingdom (1)   \n",
       "\n",
       "          Sex        Origin or Destination      UNIT  VALUE  \n",
       "0  Both sexes                Net migration  Thousand  -13.7  \n",
       "1  Both sexes  Emigrants: All destinations  Thousand   21.8  \n",
       "2  Both sexes      Immigrants: All origins  Thousand    8.1  \n",
       "3        Male                Net migration  Thousand   -9.0  \n",
       "4        Male  Emigrants: All destinations  Thousand   13.1  "
      ]
     },
     "execution_count": 3,
     "metadata": {},
     "output_type": "execute_result"
    }
   ],
   "source": [
    "# Load in data\n",
    "\n",
    "pop_data = pd.read_csv(\"migration_data.csv\")\n",
    "\n",
    "#printing the first 5 rows\n",
    "pop_data.head()"
   ]
  },
  {
   "cell_type": "markdown",
   "id": "6cf8d154",
   "metadata": {},
   "source": [
    "<summary style=\"color:blue;\">\n",
    "\n",
    "__Notes on the above:__\n",
    "\n",
    "the dataframe is already in a good format, in that it has each variable as a separate column, and each row as a separate observation. So, no need for pd_melt() on first look. \n",
    "* The statistic label column seems a bit redundant though, and it would be more favourable to remove the unit column and instead have the VALUE column reflect it instead (ie. multiply it by 1000).\n",
    "* Will need to confirm the varibales are stored as the correct data type.\n"
   ]
  },
  {
   "cell_type": "markdown",
   "id": "b55e6676",
   "metadata": {},
   "source": [
    "<summary style=\"color:blue;\">\n",
    "\n",
    "### Getting a sense of the data...\n",
    "\n",
    "By running `.info`, I can also check for null values:"
   ]
  },
  {
   "cell_type": "code",
   "execution_count": 4,
   "id": "df91772f",
   "metadata": {
    "scrolled": false
   },
   "outputs": [
    {
     "name": "stdout",
     "output_type": "stream",
     "text": [
      "<class 'pandas.core.frame.DataFrame'>\n",
      "RangeIndex: 2664 entries, 0 to 2663\n",
      "Data columns (total 7 columns):\n",
      " #   Column                 Non-Null Count  Dtype  \n",
      "---  ------                 --------------  -----  \n",
      " 0   STATISTIC Label        2664 non-null   object \n",
      " 1   Year                   2664 non-null   int64  \n",
      " 2   Country                2664 non-null   object \n",
      " 3   Sex                    2664 non-null   object \n",
      " 4   Origin or Destination  2664 non-null   object \n",
      " 5   UNIT                   2664 non-null   object \n",
      " 6   VALUE                  2104 non-null   float64\n",
      "dtypes: float64(1), int64(1), object(5)\n",
      "memory usage: 145.8+ KB\n"
     ]
    }
   ],
   "source": [
    "pop_data.info()"
   ]
  },
  {
   "cell_type": "markdown",
   "id": "d439e56e",
   "metadata": {},
   "source": [
    "<summary style=\"color:blue;\">\n",
    "\n",
    "__Notes on the above:__\n",
    "    \n",
    "* Shape: there's 2664 rows, and 7 columns in the dataset (no need to use `.shape`, as I now have this info);\n",
    "* the \"year\" column and the \"VALUE\" column are the only numerical variables. While this is correct for VALUE, Year is technically a categorical variable, but is numeric so should be okay. I will see about amending data types this when tidying the data in Section 2 of this codebook;\n",
    "* I see that there's missing values in the VALUE column (note the difference between the total number of rows (2664) and the count of non-null values for the VALUE column (2104), so for convenience/to save doing any maths, I'm just going to _run the following code to get the total number of missing values, and may as well check to ensure there's no duplicates while I'm at it:_"
   ]
  },
  {
   "cell_type": "code",
   "execution_count": 5,
   "id": "cf20f798",
   "metadata": {},
   "outputs": [
    {
     "name": "stdout",
     "output_type": "stream",
     "text": [
      "STATISTIC Label            0\n",
      "Year                       0\n",
      "Country                    0\n",
      "Sex                        0\n",
      "Origin or Destination      0\n",
      "UNIT                       0\n",
      "VALUE                    560\n",
      "dtype: int64\n"
     ]
    }
   ],
   "source": [
    "print(pop_data.isnull().sum())"
   ]
  },
  {
   "cell_type": "code",
   "execution_count": 6,
   "id": "9e8f550e",
   "metadata": {
    "scrolled": true
   },
   "outputs": [
    {
     "name": "stdout",
     "output_type": "stream",
     "text": [
      "False    2664\n",
      "Name: count, dtype: int64\n"
     ]
    }
   ],
   "source": [
    "duplicates = pop_data.duplicated()\n",
    "print(duplicates.value_counts())  "
   ]
  },
  {
   "cell_type": "markdown",
   "id": "c8de0a19",
   "metadata": {},
   "source": [
    "<summary style=\"color:blue;\">\n",
    "\n",
    "###### Getting a closer look, with summaries for the numerical variables:"
   ]
  },
  {
   "cell_type": "code",
   "execution_count": 7,
   "id": "013fc91e",
   "metadata": {},
   "outputs": [
    {
     "data": {
      "text/html": [
       "<div>\n",
       "<style scoped>\n",
       "    .dataframe tbody tr th:only-of-type {\n",
       "        vertical-align: middle;\n",
       "    }\n",
       "\n",
       "    .dataframe tbody tr th {\n",
       "        vertical-align: top;\n",
       "    }\n",
       "\n",
       "    .dataframe thead th {\n",
       "        text-align: right;\n",
       "    }\n",
       "</style>\n",
       "<table border=\"1\" class=\"dataframe\">\n",
       "  <thead>\n",
       "    <tr style=\"text-align: right;\">\n",
       "      <th></th>\n",
       "      <th>Year</th>\n",
       "      <th>VALUE</th>\n",
       "    </tr>\n",
       "  </thead>\n",
       "  <tbody>\n",
       "    <tr>\n",
       "      <th>count</th>\n",
       "      <td>2664.000000</td>\n",
       "      <td>2104.000000</td>\n",
       "    </tr>\n",
       "    <tr>\n",
       "      <th>mean</th>\n",
       "      <td>2005.000000</td>\n",
       "      <td>8.943726</td>\n",
       "    </tr>\n",
       "    <tr>\n",
       "      <th>std</th>\n",
       "      <td>10.679083</td>\n",
       "      <td>15.513703</td>\n",
       "    </tr>\n",
       "    <tr>\n",
       "      <th>min</th>\n",
       "      <td>1987.000000</td>\n",
       "      <td>-43.900000</td>\n",
       "    </tr>\n",
       "    <tr>\n",
       "      <th>25%</th>\n",
       "      <td>1996.000000</td>\n",
       "      <td>1.800000</td>\n",
       "    </tr>\n",
       "    <tr>\n",
       "      <th>50%</th>\n",
       "      <td>2005.000000</td>\n",
       "      <td>4.700000</td>\n",
       "    </tr>\n",
       "    <tr>\n",
       "      <th>75%</th>\n",
       "      <td>2014.000000</td>\n",
       "      <td>10.200000</td>\n",
       "    </tr>\n",
       "    <tr>\n",
       "      <th>max</th>\n",
       "      <td>2023.000000</td>\n",
       "      <td>151.100000</td>\n",
       "    </tr>\n",
       "  </tbody>\n",
       "</table>\n",
       "</div>"
      ],
      "text/plain": [
       "              Year        VALUE\n",
       "count  2664.000000  2104.000000\n",
       "mean   2005.000000     8.943726\n",
       "std      10.679083    15.513703\n",
       "min    1987.000000   -43.900000\n",
       "25%    1996.000000     1.800000\n",
       "50%    2005.000000     4.700000\n",
       "75%    2014.000000    10.200000\n",
       "max    2023.000000   151.100000"
      ]
     },
     "execution_count": 7,
     "metadata": {},
     "output_type": "execute_result"
    }
   ],
   "source": [
    "pop_data.describe()"
   ]
  },
  {
   "cell_type": "markdown",
   "id": "35f0a648",
   "metadata": {},
   "source": [
    "<summary style=\"color:blue;\">\n",
    "\n",
    "    \n",
    "__Notes on the above:__\n",
    "    \n",
    "* From min/max of the Year col, I can see that the population data ranges from the years 1987 to 2023;\n",
    "* Regarding the value column, I note from when I called `pop_data.head()` that this is variable contains information on the net migration, as well as the number of incoming and outgoing people all as individual observations. So, the statistical information extracted (ie. the mean, std, etc.) isn't reliable."
   ]
  },
  {
   "cell_type": "markdown",
   "id": "b4645eff",
   "metadata": {},
   "source": [
    "<summary style=\"color:blue;\">\n",
    "    \n",
    "###### Summaries for the categorical variables:"
   ]
  },
  {
   "cell_type": "code",
   "execution_count": 8,
   "id": "2739af5e",
   "metadata": {
    "scrolled": true
   },
   "outputs": [
    {
     "data": {
      "text/html": [
       "<div>\n",
       "<style scoped>\n",
       "    .dataframe tbody tr th:only-of-type {\n",
       "        vertical-align: middle;\n",
       "    }\n",
       "\n",
       "    .dataframe tbody tr th {\n",
       "        vertical-align: top;\n",
       "    }\n",
       "\n",
       "    .dataframe thead th {\n",
       "        text-align: right;\n",
       "    }\n",
       "</style>\n",
       "<table border=\"1\" class=\"dataframe\">\n",
       "  <thead>\n",
       "    <tr style=\"text-align: right;\">\n",
       "      <th></th>\n",
       "      <th>STATISTIC Label</th>\n",
       "      <th>Country</th>\n",
       "      <th>Sex</th>\n",
       "      <th>Origin or Destination</th>\n",
       "      <th>UNIT</th>\n",
       "    </tr>\n",
       "  </thead>\n",
       "  <tbody>\n",
       "    <tr>\n",
       "      <th>count</th>\n",
       "      <td>2664</td>\n",
       "      <td>2664</td>\n",
       "      <td>2664</td>\n",
       "      <td>2664</td>\n",
       "      <td>2664</td>\n",
       "    </tr>\n",
       "    <tr>\n",
       "      <th>unique</th>\n",
       "      <td>1</td>\n",
       "      <td>8</td>\n",
       "      <td>3</td>\n",
       "      <td>3</td>\n",
       "      <td>1</td>\n",
       "    </tr>\n",
       "    <tr>\n",
       "      <th>top</th>\n",
       "      <td>Estimated Migration (Persons in April)</td>\n",
       "      <td>United Kingdom (1)</td>\n",
       "      <td>Both sexes</td>\n",
       "      <td>Net migration</td>\n",
       "      <td>Thousand</td>\n",
       "    </tr>\n",
       "    <tr>\n",
       "      <th>freq</th>\n",
       "      <td>2664</td>\n",
       "      <td>333</td>\n",
       "      <td>888</td>\n",
       "      <td>888</td>\n",
       "      <td>2664</td>\n",
       "    </tr>\n",
       "  </tbody>\n",
       "</table>\n",
       "</div>"
      ],
      "text/plain": [
       "                               STATISTIC Label             Country  \\\n",
       "count                                     2664                2664   \n",
       "unique                                       1                   8   \n",
       "top     Estimated Migration (Persons in April)  United Kingdom (1)   \n",
       "freq                                      2664                 333   \n",
       "\n",
       "               Sex Origin or Destination      UNIT  \n",
       "count         2664                  2664      2664  \n",
       "unique           3                     3         1  \n",
       "top     Both sexes         Net migration  Thousand  \n",
       "freq           888                   888      2664  "
      ]
     },
     "execution_count": 8,
     "metadata": {},
     "output_type": "execute_result"
    }
   ],
   "source": [
    "pop_data.describe(include=object)"
   ]
  },
  {
   "cell_type": "markdown",
   "id": "064aeb59",
   "metadata": {},
   "source": [
    "   \n",
    "<summary style=\"color:blue;\">\n",
    "\n",
    "    \n",
    "__Notes on the above:__\n",
    "    \n",
    "*  I note that \"STATISTIC Label\" and \"UNIT\" only have one unique value each and what they are ('Estimated Migration (Persons in April)' and 'Thousand' respectively). The former refers to this data being true for April each year, and the latter is referring to the \"VALUE\" column having the units \"thousand\", (i.e.a VALUE of 1 would be 1 thousand). I may decide to remove these columns when tidying the data as they feel a bit redundant, and capture the information they provide elsewhere.\n",
    "* I'm curious about the modes for each of these, I assume they are just listed in as the mode as they are the top value in the dataset, but just for piece of mind:"
   ]
  },
  {
   "cell_type": "code",
   "execution_count": 9,
   "id": "55c0a439",
   "metadata": {},
   "outputs": [
    {
     "name": "stdout",
     "output_type": "stream",
     "text": [
      "Value counts for \"Country\":\n",
      " Country\n",
      "United Kingdom (1)                                     333\n",
      "United States                                          333\n",
      "Canada                                                 333\n",
      "Australia                                              333\n",
      "Other countries (23)                                   333\n",
      "All countries                                          333\n",
      "EU14 excl Irl (UK & Ireland)                           333\n",
      "EU15 to EU27 (accession countries joined post 2004)    333\n",
      "Name: count, dtype: int64 \n",
      "\n",
      "Value counts for \"Sex\":\n",
      " Sex\n",
      "Both sexes    888\n",
      "Male          888\n",
      "Female        888\n",
      "Name: count, dtype: int64 \n",
      "\n",
      "Value counts for \"UNIT\":\n",
      " UNIT\n",
      "Thousand    2664\n",
      "Name: count, dtype: int64\n"
     ]
    }
   ],
   "source": [
    "print('Value counts for \"Country\":\\n', pop_data['Country'].value_counts(),\n",
    "      '\\n\\nValue counts for \"Sex\":\\n', pop_data['Sex'].value_counts(),\n",
    "      '\\n\\nValue counts for \"UNIT\":\\n', pop_data['UNIT'].value_counts())\n"
   ]
  },
  {
   "cell_type": "markdown",
   "id": "893efc29",
   "metadata": {},
   "source": [
    "<summary style=\"color:blue;\">\n",
    "\n",
    "My initial instinct is correct, that these are just listed as the modes because they were the first value in the dataset.\n",
    "    \n",
    "    \n",
    "I also wanted to confirm the values for the Sex and UNIT columns, and just added this into the above code block instead of running individual `.unique()` codeblocks for them so it's a bit tidier. I can forsee having summary data for \"both sexes\" which probably contains the sum of the values for male and female, as well as a potential summary data for \"all countries\" which is the sum of all the other countries. I will have to confirm that this is the case before I exclude them. Otherwise, they might impact the analysis. I think they will be useful in their own right, and I can use them to produce summary graphs, but for later analysis they are probably better removed.\n",
    "    \n",
    "    \n",
    "I dislike these labels for countries - may have to amend and change to UK, US, Canada, Australia, Other, All countries, EU14 (Excl UK, IE), EU 15-27. I will do this as part of my attempt to make the data easier to work with."
   ]
  },
  {
   "cell_type": "markdown",
   "id": "cee2f419",
   "metadata": {},
   "source": [
    "<summary style=\"color:blue;\">\n",
    "\n",
    "# 2. Data Tidying\n",
    "Ideas for tidying:\n",
    "* make some things lower case?\n",
    "* Drop the unnecessary \"Statistic Label\" column\n",
    "* rename cols, e.g. instead of \"Origin or Destination\" change it to migration_type\n",
    "* Change the strings under the \"Country\" column\n",
    "    \n"
   ]
  },
  {
   "cell_type": "markdown",
   "id": "e5b5dd5b",
   "metadata": {},
   "source": [
    "<summary style=\"color:blue;\">\n",
    "\n",
    "###### 2.1 Dropping \"Statistic Label\" and \"UNIT\" columns \n",
    "Motivation for removing the \"Statistic Label\" is that it's providing no purpose in the analysis that will be conducted on this dataframe. I will instead capture the information that this column is providing (i.e. that the values are true for April each year), in the output/report.\n",
    "    \n",
    "    \n",
    "I'm also removing the \"UNIT\" column, as I would rather include this in the \"VALUE\" column (by multiplying the values by a thousand)\n",
    "    \n",
    "    \n",
    "Doing this should make the dataframe less clunky and easier to explore\n",
    "    "
   ]
  },
  {
   "cell_type": "code",
   "execution_count": 10,
   "id": "4e9cc3f1",
   "metadata": {
    "scrolled": true
   },
   "outputs": [
    {
     "data": {
      "text/html": [
       "<div>\n",
       "<style scoped>\n",
       "    .dataframe tbody tr th:only-of-type {\n",
       "        vertical-align: middle;\n",
       "    }\n",
       "\n",
       "    .dataframe tbody tr th {\n",
       "        vertical-align: top;\n",
       "    }\n",
       "\n",
       "    .dataframe thead th {\n",
       "        text-align: right;\n",
       "    }\n",
       "</style>\n",
       "<table border=\"1\" class=\"dataframe\">\n",
       "  <thead>\n",
       "    <tr style=\"text-align: right;\">\n",
       "      <th></th>\n",
       "      <th>Year</th>\n",
       "      <th>Country</th>\n",
       "      <th>Sex</th>\n",
       "      <th>Origin or Destination</th>\n",
       "      <th>VALUE</th>\n",
       "    </tr>\n",
       "  </thead>\n",
       "  <tbody>\n",
       "    <tr>\n",
       "      <th>0</th>\n",
       "      <td>1987</td>\n",
       "      <td>United Kingdom (1)</td>\n",
       "      <td>Both sexes</td>\n",
       "      <td>Net migration</td>\n",
       "      <td>-13.7</td>\n",
       "    </tr>\n",
       "    <tr>\n",
       "      <th>1</th>\n",
       "      <td>1987</td>\n",
       "      <td>United Kingdom (1)</td>\n",
       "      <td>Both sexes</td>\n",
       "      <td>Emigrants: All destinations</td>\n",
       "      <td>21.8</td>\n",
       "    </tr>\n",
       "    <tr>\n",
       "      <th>2</th>\n",
       "      <td>1987</td>\n",
       "      <td>United Kingdom (1)</td>\n",
       "      <td>Both sexes</td>\n",
       "      <td>Immigrants: All origins</td>\n",
       "      <td>8.1</td>\n",
       "    </tr>\n",
       "    <tr>\n",
       "      <th>3</th>\n",
       "      <td>1987</td>\n",
       "      <td>United Kingdom (1)</td>\n",
       "      <td>Male</td>\n",
       "      <td>Net migration</td>\n",
       "      <td>-9.0</td>\n",
       "    </tr>\n",
       "    <tr>\n",
       "      <th>4</th>\n",
       "      <td>1987</td>\n",
       "      <td>United Kingdom (1)</td>\n",
       "      <td>Male</td>\n",
       "      <td>Emigrants: All destinations</td>\n",
       "      <td>13.1</td>\n",
       "    </tr>\n",
       "  </tbody>\n",
       "</table>\n",
       "</div>"
      ],
      "text/plain": [
       "   Year             Country         Sex        Origin or Destination  VALUE\n",
       "0  1987  United Kingdom (1)  Both sexes                Net migration  -13.7\n",
       "1  1987  United Kingdom (1)  Both sexes  Emigrants: All destinations   21.8\n",
       "2  1987  United Kingdom (1)  Both sexes      Immigrants: All origins    8.1\n",
       "3  1987  United Kingdom (1)        Male                Net migration   -9.0\n",
       "4  1987  United Kingdom (1)        Male  Emigrants: All destinations   13.1"
      ]
     },
     "execution_count": 10,
     "metadata": {},
     "output_type": "execute_result"
    }
   ],
   "source": [
    "pop_data = pop_data.drop(columns = ['STATISTIC Label', 'UNIT'])\n",
    "\n",
    "# Making sure it was a success:\n",
    "pop_data.head()"
   ]
  },
  {
   "cell_type": "markdown",
   "id": "48df40ae",
   "metadata": {},
   "source": [
    "<summary style=\"color:blue;\">\n",
    "\n",
    "###### 2.2 Renaming the column headings, \n",
    "This is just to make it easier to write code, and also to make headings reflect the data their respective column contains more accurately. I also want to make them all lowercase so it's more convenient to type."
   ]
  },
  {
   "cell_type": "code",
   "execution_count": 11,
   "id": "96fbbe59",
   "metadata": {},
   "outputs": [
    {
     "data": {
      "text/plain": [
       "Index(['year', 'country', 'sex', 'migration_type', 'total_migration'], dtype='object')"
      ]
     },
     "execution_count": 11,
     "metadata": {},
     "output_type": "execute_result"
    }
   ],
   "source": [
    "pop_data = pop_data.rename(columns = {'Year':'year', \n",
    "                                      'Country':'country', \n",
    "                                      'Sex':'sex', \n",
    "                                      'Origin or Destination':'migration_type', \n",
    "                                      'VALUE':'total_migration'})\n",
    "pop_data.columns"
   ]
  },
  {
   "cell_type": "markdown",
   "id": "284aeb09",
   "metadata": {},
   "source": [
    "<summary style=\"color:blue;\">\n",
    "\n",
    "###### 2.3 Fixing data in the 'total_migration' column\n",
    "As I removed the \"UNIT\" column, which indicated that the number in the now-'total_migration' column is in thousands, I now need to multiply the column by 1000 to reflect the thousands."
   ]
  },
  {
   "cell_type": "code",
   "execution_count": 12,
   "id": "6c4c270c",
   "metadata": {
    "scrolled": true
   },
   "outputs": [
    {
     "data": {
      "text/html": [
       "<div>\n",
       "<style scoped>\n",
       "    .dataframe tbody tr th:only-of-type {\n",
       "        vertical-align: middle;\n",
       "    }\n",
       "\n",
       "    .dataframe tbody tr th {\n",
       "        vertical-align: top;\n",
       "    }\n",
       "\n",
       "    .dataframe thead th {\n",
       "        text-align: right;\n",
       "    }\n",
       "</style>\n",
       "<table border=\"1\" class=\"dataframe\">\n",
       "  <thead>\n",
       "    <tr style=\"text-align: right;\">\n",
       "      <th></th>\n",
       "      <th>year</th>\n",
       "      <th>country</th>\n",
       "      <th>sex</th>\n",
       "      <th>migration_type</th>\n",
       "      <th>total_migration</th>\n",
       "    </tr>\n",
       "  </thead>\n",
       "  <tbody>\n",
       "    <tr>\n",
       "      <th>0</th>\n",
       "      <td>1987</td>\n",
       "      <td>United Kingdom (1)</td>\n",
       "      <td>Both sexes</td>\n",
       "      <td>Net migration</td>\n",
       "      <td>-13700.0</td>\n",
       "    </tr>\n",
       "    <tr>\n",
       "      <th>1</th>\n",
       "      <td>1987</td>\n",
       "      <td>United Kingdom (1)</td>\n",
       "      <td>Both sexes</td>\n",
       "      <td>Emigrants: All destinations</td>\n",
       "      <td>21800.0</td>\n",
       "    </tr>\n",
       "    <tr>\n",
       "      <th>2</th>\n",
       "      <td>1987</td>\n",
       "      <td>United Kingdom (1)</td>\n",
       "      <td>Both sexes</td>\n",
       "      <td>Immigrants: All origins</td>\n",
       "      <td>8100.0</td>\n",
       "    </tr>\n",
       "    <tr>\n",
       "      <th>3</th>\n",
       "      <td>1987</td>\n",
       "      <td>United Kingdom (1)</td>\n",
       "      <td>Male</td>\n",
       "      <td>Net migration</td>\n",
       "      <td>-9000.0</td>\n",
       "    </tr>\n",
       "    <tr>\n",
       "      <th>4</th>\n",
       "      <td>1987</td>\n",
       "      <td>United Kingdom (1)</td>\n",
       "      <td>Male</td>\n",
       "      <td>Emigrants: All destinations</td>\n",
       "      <td>13100.0</td>\n",
       "    </tr>\n",
       "  </tbody>\n",
       "</table>\n",
       "</div>"
      ],
      "text/plain": [
       "   year             country         sex               migration_type  \\\n",
       "0  1987  United Kingdom (1)  Both sexes                Net migration   \n",
       "1  1987  United Kingdom (1)  Both sexes  Emigrants: All destinations   \n",
       "2  1987  United Kingdom (1)  Both sexes      Immigrants: All origins   \n",
       "3  1987  United Kingdom (1)        Male                Net migration   \n",
       "4  1987  United Kingdom (1)        Male  Emigrants: All destinations   \n",
       "\n",
       "   total_migration  \n",
       "0         -13700.0  \n",
       "1          21800.0  \n",
       "2           8100.0  \n",
       "3          -9000.0  \n",
       "4          13100.0  "
      ]
     },
     "execution_count": 12,
     "metadata": {},
     "output_type": "execute_result"
    }
   ],
   "source": [
    "pop_data['total_migration'] = (pop_data['total_migration'] * 1000)\n",
    "pop_data.head()"
   ]
  },
  {
   "cell_type": "markdown",
   "id": "bb22220c",
   "metadata": {},
   "source": [
    "<summary style=\"color:blue;\">\n",
    "\n",
    "###### 2.4 Shortening the values under \"country\"\n",
    "I want to make them a bit shorter and hopefully easier to work with. As there are widely known and well-defined abbreviations for some of the countries (e.g. UK for United Kingdom),  I think it's appropriate.\n",
    "    \n",
    "First, I just want to have the country values on-hand. Then, I'll change the strings. I decided to do this manually as I was struggling to understand the explanations on stackoverflow. I called `.unique()` and it's useful to see the change in output for the next two code blocks:"
   ]
  },
  {
   "cell_type": "code",
   "execution_count": 13,
   "id": "d03a6b37",
   "metadata": {},
   "outputs": [
    {
     "data": {
      "text/plain": [
       "array(['United Kingdom (1)', 'United States', 'Canada', 'Australia',\n",
       "       'Other countries (23)', 'All countries',\n",
       "       'EU14 excl Irl (UK & Ireland)',\n",
       "       'EU15 to EU27 (accession countries joined post 2004)'],\n",
       "      dtype=object)"
      ]
     },
     "execution_count": 13,
     "metadata": {},
     "output_type": "execute_result"
    }
   ],
   "source": [
    "pop_data['country'].unique()"
   ]
  },
  {
   "cell_type": "code",
   "execution_count": 14,
   "id": "5fc1efdb",
   "metadata": {
    "scrolled": true
   },
   "outputs": [
    {
     "data": {
      "text/plain": [
       "array(['UK', 'US', 'Canada', 'Australia', 'Other countries',\n",
       "       'All countries', 'EU14 (Excl UK, IRE)', 'EU15 to EU27'],\n",
       "      dtype=object)"
      ]
     },
     "execution_count": 14,
     "metadata": {},
     "output_type": "execute_result"
    }
   ],
   "source": [
    "#Countries = pd.DataFrame[{'country':['UK', 'US', 'Canada', 'Australia', 'Other Countries', ] }\n",
    "\n",
    "pop_data['country'] = pop_data['country'].str.replace('United Kingdom (1)', 'UK')\n",
    "pop_data['country'] = pop_data['country'].str.replace('United States', 'US')\n",
    "pop_data['country'] = pop_data['country'].str.replace('Other countries (23)', 'Other countries')\n",
    "pop_data['country'] = pop_data['country'].str.replace('EU14 excl Irl (UK & Ireland)', 'EU14 (Excl UK, IRE)') # UK no longer in EU but it would've been for a lot of the colleciton of this data\n",
    "pop_data['country'] = pop_data['country'].str.replace('EU15 to EU27 (accession countries joined post 2004)', 'EU15 to EU27')\n",
    "\n",
    "pop_data['country'].unique()"
   ]
  },
  {
   "cell_type": "markdown",
   "id": "081234a7",
   "metadata": {},
   "source": [
    "<summary style=\"color:blue;\">\n",
    "\n",
    "###### 2.4 Changing the values under \"migration_type\"\n",
    "\n",
    "Same as above. I'd like to shorten them to make it easier to call."
   ]
  },
  {
   "cell_type": "code",
   "execution_count": 43,
   "id": "9c8d714e",
   "metadata": {},
   "outputs": [
    {
     "data": {
      "text/plain": [
       "['Net migration', 'Emigrants: All destinations', 'Immigrants: All origins']\n",
       "Categories (3, object): ['Emigrants: All destinations', 'Immigrants: All origins', 'Net migration']"
      ]
     },
     "execution_count": 43,
     "metadata": {},
     "output_type": "execute_result"
    }
   ],
   "source": [
    "pop_data['migration_type'].unique()"
   ]
  },
  {
   "cell_type": "code",
   "execution_count": 46,
   "id": "ffe5341e",
   "metadata": {},
   "outputs": [
    {
     "data": {
      "text/plain": [
       "array(['Net migration', 'Emigration', 'Immigration'], dtype=object)"
      ]
     },
     "execution_count": 46,
     "metadata": {},
     "output_type": "execute_result"
    }
   ],
   "source": [
    "pop_data['migration_type'] = pop_data['migration_type'].str.replace('Emigrants: All destinations', 'Emigration')\n",
    "pop_data['migration_type'] = pop_data['migration_type'].str.replace('Immigrants: All origins', 'Immigration')\n",
    "\n",
    "pop_data['migration_type'].unique()"
   ]
  },
  {
   "cell_type": "markdown",
   "id": "f2444120",
   "metadata": {},
   "source": [
    "<summary style=\"color:blue;\">\n",
    "\n",
    "###### 2.4 Amending data types\n",
    "\n",
    "The year, country, sex and migration type are categorical, as it's a finite list, so should amend that, and confirm using .info:"
   ]
  },
  {
   "cell_type": "code",
   "execution_count": 48,
   "id": "a3119926",
   "metadata": {},
   "outputs": [
    {
     "name": "stdout",
     "output_type": "stream",
     "text": [
      "<class 'pandas.core.frame.DataFrame'>\n",
      "RangeIndex: 2664 entries, 0 to 2663\n",
      "Data columns (total 5 columns):\n",
      " #   Column           Non-Null Count  Dtype   \n",
      "---  ------           --------------  -----   \n",
      " 0   year             2664 non-null   int64   \n",
      " 1   country          2664 non-null   object  \n",
      " 2   sex              2664 non-null   object  \n",
      " 3   migration_type   2664 non-null   category\n",
      " 4   total_migration  2104 non-null   float64 \n",
      "dtypes: category(1), float64(1), int64(1), object(2)\n",
      "memory usage: 86.1+ KB\n"
     ]
    }
   ],
   "source": [
    "#pop_data['country'] = pop_data['country'].astype('category')\n",
    "#pop_data['sex'] = pop_data['sex'].astype('category')\n",
    "pop_data['migration_type'] = pop_data['migration_type'].astype('category')\n",
    "#pop_data['year'] = pop_data['year'].astype('category')\n",
    "\n",
    "\n",
    "pop_data.info()"
   ]
  },
  {
   "cell_type": "markdown",
   "id": "227e4bfd",
   "metadata": {},
   "source": [
    "<summary style=\"color:blue;\">\n",
    "\n",
    "###### 2.5 Missing Values\n",
    "\n",
    "Probably the most important aspect - trying to deal with the missing values. This data is likely missing due to systematic causes, i.e. the data was never provided in the first place. This data is missing at random (MAR), as there's no real logic or explanation other than it's generally older data that seems to be missing.\n",
    "* For this reason, it might be appropriate to delete all of the rows containing empty values, OR to limit the range of the analysis (e.g. limit it from 2010 -> present)\n",
    "* It could be considered to try to insert the mean of the values above and below each missing value. Will have to investigate and decide"
   ]
  },
  {
   "cell_type": "code",
   "execution_count": null,
   "id": "250de8d9",
   "metadata": {},
   "outputs": [],
   "source": []
  },
  {
   "cell_type": "code",
   "execution_count": null,
   "id": "7aec4b18",
   "metadata": {},
   "outputs": [],
   "source": []
  },
  {
   "cell_type": "markdown",
   "id": "b12c971c",
   "metadata": {},
   "source": [
    "<summary style=\"color:blue;\">\n",
    "\n",
    "# 3. Continuing inspection    \n",
    "    \n"
   ]
  },
  {
   "cell_type": "markdown",
   "id": "bd633093",
   "metadata": {},
   "source": [
    "<summary style=\"color:blue;\">\n",
    "\n",
    "###### 3.1 Looking at the values I suspect are the sum of the other values in their respective columns:\n",
    "\n",
    "###### 3.1.1 \"All countries\"    \n",
    "    \n",
    "Concerned about \"All countries\" under the Country column, is it a total? \n",
    "First, I created a new dataframe called `checking_pop_data` to isolate the data for a particular year, choosing a recent year as the data is most likely to have no missing values. But, I still ran `.info()` to confirm.     \n",
    "    "
   ]
  },
  {
   "cell_type": "markdown",
   "id": "59a8798c",
   "metadata": {},
   "source": [
    "<details>\n",
    "    <summary style=\"display:list-item; font-size:16px; color:blue;\"><i>Failed code, for my own reference, so I don't make the same silly mistakes</i></summary>\n",
    "Below are all my failed attempts at trying to isolate the column - I realised I was overthinking it and went back to basics (in the code block below). All of these obviously failed as I wasn't sure what I was doing and was overcomplicating. \n",
    "\n",
    "\n",
    "`print((pop_data['Year'] == 2020))`\n",
    "      \n",
    "\n",
    "`for year in pop_data['Year']:`\\\n",
    "    `if year == 2020:`\\\n",
    "    `print(pop_data['Country'], pop_data['VALUE'])`\n",
    "            \n",
    "`pop_data.loc[2020:2021, 'Country':'VALUE']`\n",
    "    \n",
    "`pop_data.loc[pop_data['Year' == 2020]]`\n",
    "    \n",
    "`pop_data.loc['Year', 2020]`\n",
    "    \n",
    "\n",
    "\n",
    "</details>"
   ]
  },
  {
   "cell_type": "code",
   "execution_count": 16,
   "id": "88f0d9dd",
   "metadata": {},
   "outputs": [
    {
     "name": "stdout",
     "output_type": "stream",
     "text": [
      "<class 'pandas.core.frame.DataFrame'>\n",
      "Index: 72 entries, 2376 to 2447\n",
      "Data columns (total 5 columns):\n",
      " #   Column           Non-Null Count  Dtype   \n",
      "---  ------           --------------  -----   \n",
      " 0   year             72 non-null     int64   \n",
      " 1   country          72 non-null     object  \n",
      " 2   sex              72 non-null     object  \n",
      " 3   migration_type   72 non-null     category\n",
      " 4   total_migration  72 non-null     float64 \n",
      "dtypes: category(1), float64(1), int64(1), object(2)\n",
      "memory usage: 3.0+ KB\n"
     ]
    }
   ],
   "source": [
    "checking_pop_data = pop_data[pop_data['year'] == 2020]\n",
    "checking_pop_data.info()"
   ]
  },
  {
   "cell_type": "markdown",
   "id": "0f89a492",
   "metadata": {},
   "source": [
    "<summary style=\"color:blue;\">\n",
    "From the above, I'm happy that there's no missing values, and so I can proceed to make sure check the totals for \"All countries\" vs the total of the other countries.\n",
    "To do this, I'll loop through each country to sum the total migration value, and to compare it to the value for \"all countries\":"
   ]
  },
  {
   "cell_type": "code",
   "execution_count": 17,
   "id": "81569a05",
   "metadata": {},
   "outputs": [
    {
     "name": "stdout",
     "output_type": "stream",
     "text": [
      "Sum for selected countries: 382400.0\n",
      "Sum for 'all countries': 382400.0\n"
     ]
    }
   ],
   "source": [
    "Countries = ['UK', 'US', 'Canada', 'Australia', 'Other countries', 'EU14 (Excl UK, IRE)', 'EU15 to EU27']\n",
    "\n",
    "sum_countries = 0\n",
    "sum_all_countries = 0\n",
    "\n",
    "\n",
    "for index, row in checking_pop_data.iterrows():\n",
    "    if row['country'] in Countries:\n",
    "        sum_countries += row['total_migration']\n",
    "    elif row['country'] == 'All countries':\n",
    "        sum_all_countries += row['total_migration']\n",
    "        \n",
    "print(\"Sum for selected countries:\", sum_countries)\n",
    "print(\"Sum for 'all countries':\", sum_all_countries)"
   ]
  },
  {
   "cell_type": "markdown",
   "id": "52646fc9",
   "metadata": {},
   "source": [
    "<summary style=\"color:blue;\">\n",
    "\n",
    "I'm satisfied that this confirms that the data for \"All countries\" is the sum of all of the other countries in the dataset.\n",
    "    \n",
    "To explain the loop I wrote, I first defined two variables to store the sum of the total_migration values for both \"All countries\" and all of the other countries. Then, I used `.iterrows()` from pandas to iterate through each row. I was inspired by the answer to <a href=\"https://stackoverflow.com/questions/16476924/how-to-iterate-over-rows-in-a-dataframe-in-pandas\">this post</a>  on stackoverflow, and added my own code after it."
   ]
  },
  {
   "cell_type": "markdown",
   "id": "43c7f48a",
   "metadata": {},
   "source": [
    "<summary style=\"color:blue;\">\n",
    "\n",
    "###### 3.1.2 \"Both sexes\" \n",
    "\n",
    "The same as above, but I'm checking to see if \"Both sexes\" is the sum of the \"Male\" and \"Female\" migration count. (Safe to assume yes, but better safe than sorry). I'm just going to adapt the code above:"
   ]
  },
  {
   "cell_type": "code",
   "execution_count": 18,
   "id": "b58bed9e",
   "metadata": {},
   "outputs": [
    {
     "name": "stdout",
     "output_type": "stream",
     "text": [
      "Sum for individual sexes: 382400.0\n",
      "Sum for both sexes: 382400.0\n"
     ]
    }
   ],
   "source": [
    "sexes = ['Male', 'Female']\n",
    "\n",
    "individual_sexes = 0\n",
    "both_sexes = 0\n",
    "\n",
    "\n",
    "for index, row in checking_pop_data.iterrows():\n",
    "    if row['sex'] in sexes:\n",
    "        individual_sexes += row['total_migration']\n",
    "    elif row['sex'] == 'Both sexes':\n",
    "        both_sexes += row['total_migration']\n",
    "        \n",
    "print(\"Sum for individual sexes:\", individual_sexes)\n",
    "print(\"Sum for both sexes:\", both_sexes)"
   ]
  },
  {
   "cell_type": "markdown",
   "id": "01a5030f",
   "metadata": {},
   "source": [
    "<summary style=\"color:blue;\">\n",
    "    \n",
    "Although I could've done this by simply looking at the dataset, as there's fewer rows to count. I'm going to manually take the UK net migration values for Both sexes, male, and female."
   ]
  },
  {
   "cell_type": "code",
   "execution_count": 19,
   "id": "3f34373d",
   "metadata": {},
   "outputs": [
    {
     "data": {
      "text/html": [
       "<div>\n",
       "<style scoped>\n",
       "    .dataframe tbody tr th:only-of-type {\n",
       "        vertical-align: middle;\n",
       "    }\n",
       "\n",
       "    .dataframe tbody tr th {\n",
       "        vertical-align: top;\n",
       "    }\n",
       "\n",
       "    .dataframe thead th {\n",
       "        text-align: right;\n",
       "    }\n",
       "</style>\n",
       "<table border=\"1\" class=\"dataframe\">\n",
       "  <thead>\n",
       "    <tr style=\"text-align: right;\">\n",
       "      <th></th>\n",
       "      <th>year</th>\n",
       "      <th>country</th>\n",
       "      <th>sex</th>\n",
       "      <th>migration_type</th>\n",
       "      <th>total_migration</th>\n",
       "    </tr>\n",
       "  </thead>\n",
       "  <tbody>\n",
       "    <tr>\n",
       "      <th>2376</th>\n",
       "      <td>2020</td>\n",
       "      <td>UK</td>\n",
       "      <td>Both sexes</td>\n",
       "      <td>Net migration</td>\n",
       "      <td>7900.0</td>\n",
       "    </tr>\n",
       "    <tr>\n",
       "      <th>2377</th>\n",
       "      <td>2020</td>\n",
       "      <td>UK</td>\n",
       "      <td>Both sexes</td>\n",
       "      <td>Emigrants: All destinations</td>\n",
       "      <td>9700.0</td>\n",
       "    </tr>\n",
       "    <tr>\n",
       "      <th>2378</th>\n",
       "      <td>2020</td>\n",
       "      <td>UK</td>\n",
       "      <td>Both sexes</td>\n",
       "      <td>Immigrants: All origins</td>\n",
       "      <td>17600.0</td>\n",
       "    </tr>\n",
       "    <tr>\n",
       "      <th>2379</th>\n",
       "      <td>2020</td>\n",
       "      <td>UK</td>\n",
       "      <td>Male</td>\n",
       "      <td>Net migration</td>\n",
       "      <td>3900.0</td>\n",
       "    </tr>\n",
       "    <tr>\n",
       "      <th>2380</th>\n",
       "      <td>2020</td>\n",
       "      <td>UK</td>\n",
       "      <td>Male</td>\n",
       "      <td>Emigrants: All destinations</td>\n",
       "      <td>4500.0</td>\n",
       "    </tr>\n",
       "    <tr>\n",
       "      <th>2381</th>\n",
       "      <td>2020</td>\n",
       "      <td>UK</td>\n",
       "      <td>Male</td>\n",
       "      <td>Immigrants: All origins</td>\n",
       "      <td>8400.0</td>\n",
       "    </tr>\n",
       "    <tr>\n",
       "      <th>2382</th>\n",
       "      <td>2020</td>\n",
       "      <td>UK</td>\n",
       "      <td>Female</td>\n",
       "      <td>Net migration</td>\n",
       "      <td>4000.0</td>\n",
       "    </tr>\n",
       "    <tr>\n",
       "      <th>2383</th>\n",
       "      <td>2020</td>\n",
       "      <td>UK</td>\n",
       "      <td>Female</td>\n",
       "      <td>Emigrants: All destinations</td>\n",
       "      <td>5200.0</td>\n",
       "    </tr>\n",
       "    <tr>\n",
       "      <th>2384</th>\n",
       "      <td>2020</td>\n",
       "      <td>UK</td>\n",
       "      <td>Female</td>\n",
       "      <td>Immigrants: All origins</td>\n",
       "      <td>9200.0</td>\n",
       "    </tr>\n",
       "    <tr>\n",
       "      <th>2385</th>\n",
       "      <td>2020</td>\n",
       "      <td>US</td>\n",
       "      <td>Both sexes</td>\n",
       "      <td>Net migration</td>\n",
       "      <td>700.0</td>\n",
       "    </tr>\n",
       "  </tbody>\n",
       "</table>\n",
       "</div>"
      ],
      "text/plain": [
       "      year country         sex               migration_type  total_migration\n",
       "2376  2020      UK  Both sexes                Net migration           7900.0\n",
       "2377  2020      UK  Both sexes  Emigrants: All destinations           9700.0\n",
       "2378  2020      UK  Both sexes      Immigrants: All origins          17600.0\n",
       "2379  2020      UK        Male                Net migration           3900.0\n",
       "2380  2020      UK        Male  Emigrants: All destinations           4500.0\n",
       "2381  2020      UK        Male      Immigrants: All origins           8400.0\n",
       "2382  2020      UK      Female                Net migration           4000.0\n",
       "2383  2020      UK      Female  Emigrants: All destinations           5200.0\n",
       "2384  2020      UK      Female      Immigrants: All origins           9200.0\n",
       "2385  2020      US  Both sexes                Net migration            700.0"
      ]
     },
     "execution_count": 19,
     "metadata": {},
     "output_type": "execute_result"
    }
   ],
   "source": [
    "checking_pop_data.head(10)"
   ]
  },
  {
   "cell_type": "code",
   "execution_count": 20,
   "id": "542f29e2",
   "metadata": {},
   "outputs": [
    {
     "name": "stdout",
     "output_type": "stream",
     "text": [
      "Sum for individual sexes: 7900\n",
      "Sum for both sexes: 7900\n"
     ]
    }
   ],
   "source": [
    "individual_sexes = 3900 + 4000\n",
    "both_sexes = 7900\n",
    "\n",
    "print(\"Sum for individual sexes:\", individual_sexes)\n",
    "print(\"Sum for both sexes:\", both_sexes)"
   ]
  },
  {
   "cell_type": "markdown",
   "id": "84ca3200",
   "metadata": {},
   "source": [
    "<summary style=\"color:blue;\">\n",
    "\n",
    "Double confirmation that both sexes is the sum of the values for male and female. So, I'm satisfied!"
   ]
  },
  {
   "cell_type": "markdown",
   "id": "335534cb",
   "metadata": {},
   "source": [
    "<summary style=\"color:blue;\">\n",
    "\n",
    "# 4. Data Preparation and Visualisation "
   ]
  },
  {
   "cell_type": "markdown",
   "id": "ea5b627e",
   "metadata": {},
   "source": [
    "<summary style=\"color:blue;\">\n",
    "\n",
    "###### 4.1 Looking at migration vs sex\n",
    "\n",
    "I was doing this manually in the subsections below, but I was repeating a lot of code so I decided to attempt to write a function to clean it up a bit. I left _Section 4.1.1_ as it is so I can compare the output from my function to it, and then I can speed up the rest of the comparisons."
   ]
  },
  {
   "cell_type": "code",
   "execution_count": 56,
   "id": "b09f30a2",
   "metadata": {},
   "outputs": [],
   "source": [
    "def filter_migration_by_sex_and_type(dataframe, sex_to_filter, migration_type_to_filter):\n",
    "    specific_sex = (pop_data[\"sex\"] == sex_to_filter)\n",
    "    specific_migration_type = (pop_data[\"migration_type\"] == migration_type_to_filter)\n",
    "    filtered_data = (pop_data[specific_sex & specific_migration_type])\n",
    "    return filtered_data\n",
    "\n",
    "### Note to self: change the name of the function and the output"
   ]
  },
  {
   "cell_type": "code",
   "execution_count": 55,
   "id": "a530c466",
   "metadata": {},
   "outputs": [
    {
     "data": {
      "text/html": [
       "<div>\n",
       "<style scoped>\n",
       "    .dataframe tbody tr th:only-of-type {\n",
       "        vertical-align: middle;\n",
       "    }\n",
       "\n",
       "    .dataframe tbody tr th {\n",
       "        vertical-align: top;\n",
       "    }\n",
       "\n",
       "    .dataframe thead th {\n",
       "        text-align: right;\n",
       "    }\n",
       "</style>\n",
       "<table border=\"1\" class=\"dataframe\">\n",
       "  <thead>\n",
       "    <tr style=\"text-align: right;\">\n",
       "      <th></th>\n",
       "      <th>year</th>\n",
       "      <th>country</th>\n",
       "      <th>sex</th>\n",
       "      <th>migration_type</th>\n",
       "      <th>total_migration</th>\n",
       "    </tr>\n",
       "  </thead>\n",
       "  <tbody>\n",
       "    <tr>\n",
       "      <th>1</th>\n",
       "      <td>1987</td>\n",
       "      <td>UK</td>\n",
       "      <td>Both sexes</td>\n",
       "      <td>Emigration</td>\n",
       "      <td>21800.0</td>\n",
       "    </tr>\n",
       "    <tr>\n",
       "      <th>10</th>\n",
       "      <td>1987</td>\n",
       "      <td>US</td>\n",
       "      <td>Both sexes</td>\n",
       "      <td>Emigration</td>\n",
       "      <td>9900.0</td>\n",
       "    </tr>\n",
       "    <tr>\n",
       "      <th>19</th>\n",
       "      <td>1987</td>\n",
       "      <td>Canada</td>\n",
       "      <td>Both sexes</td>\n",
       "      <td>Emigration</td>\n",
       "      <td>NaN</td>\n",
       "    </tr>\n",
       "    <tr>\n",
       "      <th>28</th>\n",
       "      <td>1987</td>\n",
       "      <td>Australia</td>\n",
       "      <td>Both sexes</td>\n",
       "      <td>Emigration</td>\n",
       "      <td>NaN</td>\n",
       "    </tr>\n",
       "    <tr>\n",
       "      <th>37</th>\n",
       "      <td>1987</td>\n",
       "      <td>Other countries</td>\n",
       "      <td>Both sexes</td>\n",
       "      <td>Emigration</td>\n",
       "      <td>5400.0</td>\n",
       "    </tr>\n",
       "  </tbody>\n",
       "</table>\n",
       "</div>"
      ],
      "text/plain": [
       "    year          country         sex migration_type  total_migration\n",
       "1   1987               UK  Both sexes     Emigration          21800.0\n",
       "10  1987               US  Both sexes     Emigration           9900.0\n",
       "19  1987           Canada  Both sexes     Emigration              NaN\n",
       "28  1987        Australia  Both sexes     Emigration              NaN\n",
       "37  1987  Other countries  Both sexes     Emigration           5400.0"
      ]
     },
     "execution_count": 55,
     "metadata": {},
     "output_type": "execute_result"
    }
   ],
   "source": [
    "# Example usage to filter for \"Both sexes\" and \"Emigrant\":\n",
    "filtered_data = filter_migration_by_sex_and_type(pop_data, sex_to_filter=\"Both sexes\", migration_type_to_filter=\"Emigration\")\n",
    "filtered_data.head()"
   ]
  },
  {
   "cell_type": "markdown",
   "id": "a09136fa",
   "metadata": {},
   "source": [
    "<summary style=\"color:blue;\">\n",
    "\n",
    "###### 4.1.1 Looking at Net Migration for Both Sexes\n",
    "\n",
    "Initial thoughts and overview: This dataset is a count of the total number of emigrants and immigrants in any given year, to and from a given county. It's a bit inconvenient to have the net migration plus the number of immigrants and emigrants in the same column I think, but I should be able to find a work around without making additional unnecessary columns. But first, I want to make use of the three types of `migration_type` and visualise them.\n",
    "    \n",
    "First, I'll focus on \"Net migration\": Extract all instances of net migration and move it into a new dataframe. Make sure to bring all other cols with it. I've been learning Python on Codecademy.com, and one of the conceps covered was boolean masks, so I made use for this task. These work by assigning each row with a true or false based on whether or not a condition is true (i.e. in this case, if the data refers to net migration, and then for both sexes). Then I can create a new dataframe with this info."
   ]
  },
  {
   "cell_type": "code",
   "execution_count": 40,
   "id": "275f2210",
   "metadata": {},
   "outputs": [
    {
     "data": {
      "text/html": [
       "<div>\n",
       "<style scoped>\n",
       "    .dataframe tbody tr th:only-of-type {\n",
       "        vertical-align: middle;\n",
       "    }\n",
       "\n",
       "    .dataframe tbody tr th {\n",
       "        vertical-align: top;\n",
       "    }\n",
       "\n",
       "    .dataframe thead th {\n",
       "        text-align: right;\n",
       "    }\n",
       "</style>\n",
       "<table border=\"1\" class=\"dataframe\">\n",
       "  <thead>\n",
       "    <tr style=\"text-align: right;\">\n",
       "      <th></th>\n",
       "      <th>year</th>\n",
       "      <th>country</th>\n",
       "      <th>sex</th>\n",
       "      <th>migration_type</th>\n",
       "      <th>total_migration</th>\n",
       "    </tr>\n",
       "  </thead>\n",
       "  <tbody>\n",
       "    <tr>\n",
       "      <th>0</th>\n",
       "      <td>1987</td>\n",
       "      <td>UK</td>\n",
       "      <td>Both sexes</td>\n",
       "      <td>Net migration</td>\n",
       "      <td>-13700.0</td>\n",
       "    </tr>\n",
       "    <tr>\n",
       "      <th>9</th>\n",
       "      <td>1987</td>\n",
       "      <td>US</td>\n",
       "      <td>Both sexes</td>\n",
       "      <td>Net migration</td>\n",
       "      <td>-6900.0</td>\n",
       "    </tr>\n",
       "    <tr>\n",
       "      <th>18</th>\n",
       "      <td>1987</td>\n",
       "      <td>Canada</td>\n",
       "      <td>Both sexes</td>\n",
       "      <td>Net migration</td>\n",
       "      <td>NaN</td>\n",
       "    </tr>\n",
       "    <tr>\n",
       "      <th>27</th>\n",
       "      <td>1987</td>\n",
       "      <td>Australia</td>\n",
       "      <td>Both sexes</td>\n",
       "      <td>Net migration</td>\n",
       "      <td>NaN</td>\n",
       "    </tr>\n",
       "    <tr>\n",
       "      <th>36</th>\n",
       "      <td>1987</td>\n",
       "      <td>Other countries</td>\n",
       "      <td>Both sexes</td>\n",
       "      <td>Net migration</td>\n",
       "      <td>-1400.0</td>\n",
       "    </tr>\n",
       "  </tbody>\n",
       "</table>\n",
       "</div>"
      ],
      "text/plain": [
       "    year          country         sex migration_type  total_migration\n",
       "0   1987               UK  Both sexes  Net migration         -13700.0\n",
       "9   1987               US  Both sexes  Net migration          -6900.0\n",
       "18  1987           Canada  Both sexes  Net migration              NaN\n",
       "27  1987        Australia  Both sexes  Net migration              NaN\n",
       "36  1987  Other countries  Both sexes  Net migration          -1400.0"
      ]
     },
     "execution_count": 40,
     "metadata": {},
     "output_type": "execute_result"
    }
   ],
   "source": [
    "net_migration = (pop_data[\"migration_type\"] == \"Net migration\")  \n",
    "both_sexes = (pop_data[\"sex\"] == \"Both sexes\") \n",
    "countries_for_inclusion = (pop_data[\"country\"] != \"All countries\") \n",
    "net_migration_both_sexes = pop_data[net_migration & both_sexes & countries_for_inclusion]\n",
    "\n",
    "net_migration_both_sexes.head()"
   ]
  },
  {
   "cell_type": "markdown",
   "id": "f0375c66",
   "metadata": {},
   "source": [
    "<summary style=\"color:blue;\"> \n",
    "    \n",
    "I want to make sure the countries are correct;   "
   ]
  },
  {
   "cell_type": "code",
   "execution_count": 42,
   "id": "066e7604",
   "metadata": {},
   "outputs": [
    {
     "data": {
      "text/plain": [
       "array(['UK', 'US', 'Canada', 'Australia', 'Other countries',\n",
       "       'EU14 (Excl UK, IRE)', 'EU15 to EU27'], dtype=object)"
      ]
     },
     "execution_count": 42,
     "metadata": {},
     "output_type": "execute_result"
    }
   ],
   "source": [
    "net_migration_both_sexes['country'].unique()"
   ]
  },
  {
   "cell_type": "markdown",
   "id": "d875fb6b",
   "metadata": {},
   "source": [
    "<summary style=\"color:blue;\"> \n",
    "    \n",
    "I'm happy they are, so I can proceed with having a look at this new dataset, which only contains the net migration total for each country (excluding the sum of all countries) for both sexes."
   ]
  },
  {
   "cell_type": "code",
   "execution_count": 36,
   "id": "37e6d9ce",
   "metadata": {},
   "outputs": [
    {
     "data": {
      "text/plain": [
       "count      199.000000\n",
       "mean      3148.743719\n",
       "std      10932.233219\n",
       "min     -34200.000000\n",
       "25%      -1200.000000\n",
       "50%       1200.000000\n",
       "75%       5700.000000\n",
       "max      64900.000000\n",
       "Name: total_migration, dtype: float64"
      ]
     },
     "execution_count": 36,
     "metadata": {},
     "output_type": "execute_result"
    }
   ],
   "source": [
    "net_migration[\"total_migration\"].describe()"
   ]
  },
  {
   "cell_type": "code",
   "execution_count": 37,
   "id": "49a99459",
   "metadata": {},
   "outputs": [
    {
     "name": "stdout",
     "output_type": "stream",
     "text": [
      "<class 'pandas.core.frame.DataFrame'>\n",
      "Index: 259 entries, 0 to 2655\n",
      "Data columns (total 5 columns):\n",
      " #   Column           Non-Null Count  Dtype   \n",
      "---  ------           --------------  -----   \n",
      " 0   year             259 non-null    int64   \n",
      " 1   country          259 non-null    object  \n",
      " 2   sex              259 non-null    object  \n",
      " 3   migration_type   259 non-null    category\n",
      " 4   total_migration  199 non-null    float64 \n",
      "dtypes: category(1), float64(1), int64(1), object(2)\n",
      "memory usage: 10.5+ KB\n"
     ]
    }
   ],
   "source": [
    "# up to date look at the data..\n",
    "net_migration.info()"
   ]
  },
  {
   "cell_type": "code",
   "execution_count": null,
   "id": "dd51c987",
   "metadata": {},
   "outputs": [],
   "source": []
  },
  {
   "cell_type": "markdown",
   "id": "5e78876e",
   "metadata": {},
   "source": [
    "Now the statistical info for the migration will be much more meaningful;"
   ]
  },
  {
   "cell_type": "code",
   "execution_count": 25,
   "id": "47fccf76",
   "metadata": {
    "scrolled": true
   },
   "outputs": [
    {
     "data": {
      "text/plain": [
       "count       236.000000\n",
       "mean       5311.016949\n",
       "std       17635.191046\n",
       "min      -43900.000000\n",
       "25%       -1400.000000\n",
       "50%        1550.000000\n",
       "75%        7250.000000\n",
       "max      104800.000000\n",
       "Name: total_migration, dtype: float64"
      ]
     },
     "execution_count": 25,
     "metadata": {},
     "output_type": "execute_result"
    }
   ],
   "source": [
    "net_migration[\"total_migration\"].describe()"
   ]
  },
  {
   "cell_type": "code",
   "execution_count": 26,
   "id": "ce80fd87",
   "metadata": {},
   "outputs": [
    {
     "data": {
      "text/html": [
       "<div>\n",
       "<style scoped>\n",
       "    .dataframe tbody tr th:only-of-type {\n",
       "        vertical-align: middle;\n",
       "    }\n",
       "\n",
       "    .dataframe tbody tr th {\n",
       "        vertical-align: top;\n",
       "    }\n",
       "\n",
       "    .dataframe thead th {\n",
       "        text-align: right;\n",
       "    }\n",
       "</style>\n",
       "<table border=\"1\" class=\"dataframe\">\n",
       "  <thead>\n",
       "    <tr style=\"text-align: right;\">\n",
       "      <th></th>\n",
       "      <th>year</th>\n",
       "      <th>total_migration</th>\n",
       "    </tr>\n",
       "  </thead>\n",
       "  <tbody>\n",
       "    <tr>\n",
       "      <th>count</th>\n",
       "      <td>2664.000000</td>\n",
       "      <td>2104.000000</td>\n",
       "    </tr>\n",
       "    <tr>\n",
       "      <th>mean</th>\n",
       "      <td>2005.000000</td>\n",
       "      <td>8943.726236</td>\n",
       "    </tr>\n",
       "    <tr>\n",
       "      <th>std</th>\n",
       "      <td>10.679083</td>\n",
       "      <td>15513.702887</td>\n",
       "    </tr>\n",
       "    <tr>\n",
       "      <th>min</th>\n",
       "      <td>1987.000000</td>\n",
       "      <td>-43900.000000</td>\n",
       "    </tr>\n",
       "    <tr>\n",
       "      <th>25%</th>\n",
       "      <td>1996.000000</td>\n",
       "      <td>1800.000000</td>\n",
       "    </tr>\n",
       "    <tr>\n",
       "      <th>50%</th>\n",
       "      <td>2005.000000</td>\n",
       "      <td>4700.000000</td>\n",
       "    </tr>\n",
       "    <tr>\n",
       "      <th>75%</th>\n",
       "      <td>2014.000000</td>\n",
       "      <td>10200.000000</td>\n",
       "    </tr>\n",
       "    <tr>\n",
       "      <th>max</th>\n",
       "      <td>2023.000000</td>\n",
       "      <td>151100.000000</td>\n",
       "    </tr>\n",
       "  </tbody>\n",
       "</table>\n",
       "</div>"
      ],
      "text/plain": [
       "              year  total_migration\n",
       "count  2664.000000      2104.000000\n",
       "mean   2005.000000      8943.726236\n",
       "std      10.679083     15513.702887\n",
       "min    1987.000000    -43900.000000\n",
       "25%    1996.000000      1800.000000\n",
       "50%    2005.000000      4700.000000\n",
       "75%    2014.000000     10200.000000\n",
       "max    2023.000000    151100.000000"
      ]
     },
     "execution_count": 26,
     "metadata": {},
     "output_type": "execute_result"
    }
   ],
   "source": [
    "# Should expect to see only statistics for the total column now, and not year anymore:\n",
    "pop_data.describe()"
   ]
  },
  {
   "cell_type": "markdown",
   "id": "53b2790d",
   "metadata": {},
   "source": [
    "<summary style=\"color:blue;\">\n",
    "\n",
    "###### 4.1.2 Looking at Net Migration for Individual sexes\n",
    "\n",
    "I need to ensure I get rid of the \"All countries\" data as well. Same approach as above in Section 4.1.1, but I've already defined the `countries_for_inclusion` variable, so no need to so that again."
   ]
  },
  {
   "cell_type": "code",
   "execution_count": 38,
   "id": "fcfd6647",
   "metadata": {},
   "outputs": [
    {
     "data": {
      "text/html": [
       "<div>\n",
       "<style scoped>\n",
       "    .dataframe tbody tr th:only-of-type {\n",
       "        vertical-align: middle;\n",
       "    }\n",
       "\n",
       "    .dataframe tbody tr th {\n",
       "        vertical-align: top;\n",
       "    }\n",
       "\n",
       "    .dataframe thead th {\n",
       "        text-align: right;\n",
       "    }\n",
       "</style>\n",
       "<table border=\"1\" class=\"dataframe\">\n",
       "  <thead>\n",
       "    <tr style=\"text-align: right;\">\n",
       "      <th></th>\n",
       "      <th>year</th>\n",
       "      <th>country</th>\n",
       "      <th>sex</th>\n",
       "      <th>migration_type</th>\n",
       "      <th>total_migration</th>\n",
       "    </tr>\n",
       "  </thead>\n",
       "  <tbody>\n",
       "    <tr>\n",
       "      <th>3</th>\n",
       "      <td>1987</td>\n",
       "      <td>UK</td>\n",
       "      <td>Male</td>\n",
       "      <td>Net migration</td>\n",
       "      <td>-9000.0</td>\n",
       "    </tr>\n",
       "    <tr>\n",
       "      <th>6</th>\n",
       "      <td>1987</td>\n",
       "      <td>UK</td>\n",
       "      <td>Female</td>\n",
       "      <td>Net migration</td>\n",
       "      <td>-4700.0</td>\n",
       "    </tr>\n",
       "    <tr>\n",
       "      <th>12</th>\n",
       "      <td>1987</td>\n",
       "      <td>US</td>\n",
       "      <td>Male</td>\n",
       "      <td>Net migration</td>\n",
       "      <td>-3600.0</td>\n",
       "    </tr>\n",
       "    <tr>\n",
       "      <th>15</th>\n",
       "      <td>1987</td>\n",
       "      <td>US</td>\n",
       "      <td>Female</td>\n",
       "      <td>Net migration</td>\n",
       "      <td>-3500.0</td>\n",
       "    </tr>\n",
       "    <tr>\n",
       "      <th>21</th>\n",
       "      <td>1987</td>\n",
       "      <td>Canada</td>\n",
       "      <td>Male</td>\n",
       "      <td>Net migration</td>\n",
       "      <td>NaN</td>\n",
       "    </tr>\n",
       "  </tbody>\n",
       "</table>\n",
       "</div>"
      ],
      "text/plain": [
       "    year country     sex migration_type  total_migration\n",
       "3   1987      UK    Male  Net migration          -9000.0\n",
       "6   1987      UK  Female  Net migration          -4700.0\n",
       "12  1987      US    Male  Net migration          -3600.0\n",
       "15  1987      US  Female  Net migration          -3500.0\n",
       "21  1987  Canada    Male  Net migration              NaN"
      ]
     },
     "execution_count": 38,
     "metadata": {},
     "output_type": "execute_result"
    }
   ],
   "source": [
    "net_migration_sex = (pop_data[\"migration_type\"] == \"Net migration\")  \n",
    "individual_sexes = (pop_data[\"sex\"] == \"Male\") | (pop_data[\"sex\"] == \"Female\")\n",
    "\n",
    "net_migration_by_sex = pop_data[net_migration_sex & individual_sexes & countries_for_inclusion]\n",
    "\n",
    "net_migration_by_sex.head()"
   ]
  },
  {
   "cell_type": "code",
   "execution_count": null,
   "id": "a6597e58",
   "metadata": {},
   "outputs": [],
   "source": []
  },
  {
   "cell_type": "code",
   "execution_count": null,
   "id": "97b6bf54",
   "metadata": {},
   "outputs": [],
   "source": []
  },
  {
   "cell_type": "code",
   "execution_count": null,
   "id": "c913a84a",
   "metadata": {},
   "outputs": [],
   "source": []
  },
  {
   "cell_type": "code",
   "execution_count": 31,
   "id": "7620f200",
   "metadata": {},
   "outputs": [
    {
     "ename": "TypeError",
     "evalue": "'FacetGrid' object is not subscriptable",
     "output_type": "error",
     "traceback": [
      "\u001b[1;31m---------------------------------------------------------------------------\u001b[0m",
      "\u001b[1;31mTypeError\u001b[0m                                 Traceback (most recent call last)",
      "Cell \u001b[1;32mIn[31], line 1\u001b[0m\n\u001b[1;32m----> 1\u001b[0m first_graph \u001b[38;5;241m=\u001b[39m net_migration[[\u001b[38;5;124m'\u001b[39m\u001b[38;5;124myear\u001b[39m\u001b[38;5;124m'\u001b[39m,\u001b[38;5;124m'\u001b[39m\u001b[38;5;124mcountry\u001b[39m\u001b[38;5;124m'\u001b[39m, \u001b[38;5;124m'\u001b[39m\u001b[38;5;124mtotal_migration\u001b[39m\u001b[38;5;124m'\u001b[39m]]\n\u001b[0;32m      3\u001b[0m net_migration \u001b[38;5;241m=\u001b[39m sns\u001b[38;5;241m.\u001b[39mcatplot(data\u001b[38;5;241m=\u001b[39mfirst_graph, kind\u001b[38;5;241m=\u001b[39m\u001b[38;5;124m\"\u001b[39m\u001b[38;5;124mbar\u001b[39m\u001b[38;5;124m\"\u001b[39m, x\u001b[38;5;241m=\u001b[39m\u001b[38;5;124m\"\u001b[39m\u001b[38;5;124myear\u001b[39m\u001b[38;5;124m\"\u001b[39m, y\u001b[38;5;241m=\u001b[39m\u001b[38;5;124m\"\u001b[39m\u001b[38;5;124mcountry\u001b[39m\u001b[38;5;124m\"\u001b[39m, height \u001b[38;5;241m=\u001b[39m \u001b[38;5;241m6\u001b[39m, aspect \u001b[38;5;241m=\u001b[39m \u001b[38;5;241m2\u001b[39m)\n",
      "\u001b[1;31mTypeError\u001b[0m: 'FacetGrid' object is not subscriptable"
     ]
    }
   ],
   "source": [
    "#first_graph = net_migration[['year','country', 'total_migration']]\n",
    "\n",
    "#net_migration = sns.catplot(data=first_graph, kind=\"bar\", x=\"year\", y=\"country\", height = 6, aspect = 2)"
   ]
  },
  {
   "cell_type": "code",
   "execution_count": 28,
   "id": "5cd991a5",
   "metadata": {},
   "outputs": [],
   "source": [
    "#attempt_2 = sns.boxplot(x=\"country\", y=\"total_migration\", data=net_migration)"
   ]
  }
 ],
 "metadata": {
  "kernelspec": {
   "display_name": "Python 3 (ipykernel)",
   "language": "python",
   "name": "python3"
  },
  "language_info": {
   "codemirror_mode": {
    "name": "ipython",
    "version": 3
   },
   "file_extension": ".py",
   "mimetype": "text/x-python",
   "name": "python",
   "nbconvert_exporter": "python",
   "pygments_lexer": "ipython3",
   "version": "3.11.4"
  }
 },
 "nbformat": 4,
 "nbformat_minor": 5
}
