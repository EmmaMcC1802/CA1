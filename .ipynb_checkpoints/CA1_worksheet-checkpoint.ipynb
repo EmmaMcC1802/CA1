{
 "cells": [
  {
   "cell_type": "markdown",
   "id": "6cd16ee7",
   "metadata": {},
   "source": [
    "# Assignment 1\n",
    "**Emma McCready**\n",
    "\n",
    "---\n",
    "\n",
    "### Analysis of population over time\n",
    "\n",
    "You are required to collect, process, analyse and interpret the data in order to identify possible issues/problems at present and make predictions/classifications in regard to the future. This analysis will rely on the available data from CSO and any additional data you deem necessary (with supporting evidence) to support your hypothesis for this scenario.\n",
    "\n",
    "Areas of focus:\n",
    "* Annual Population Change\n",
    "* Population Forecasting\n",
    "\n",
    "To do:\n",
    "\n",
    "* Re organise this sheet into Data Cleaning, then Data prep (if this is the correct order?), then EDA... and so on\n",
    "* Maybe write a function to automatically prepare the data for each type of migration?\n",
    "* I'd rather if net migration included the thousands in it\n",
    "* Investigate \"All countries\" under countries dataset\n",
    "\n",
    "--- \n",
    "\n",
    "- diagnosing the “tidiness” of the data — how much data cleaning we will have to do\n",
    "- reshaping the data — getting right rows and columns for effective analysis\n",
    "- combining multiple files\n",
    "- changing the types of values — how we fix a column where numerical values are stored as strings, for example\n",
    "- dropping or filling missing values - how we deal with data that is incomplete or missing\n",
    "- manipulating strings to represent the data better\n",
    "\n",
    "https://www.cso.ie/en/releasesandpublications/ep/p-pme/populationandmigrationestimatesapril2023/keyfindings/"
   ]
  },
  {
   "cell_type": "code",
   "execution_count": 49,
   "id": "786af22e",
   "metadata": {},
   "outputs": [],
   "source": [
    "# Dependencies.. put any packages I install here:\n",
    "#!pip install pandas==2.1.2\n",
    "#!pip install ydata_profiling --user"
   ]
  },
  {
   "cell_type": "code",
   "execution_count": 50,
   "id": "dbe711a8",
   "metadata": {},
   "outputs": [],
   "source": [
    "# Load in packages\n",
    "\n",
    "import pandas as pd\n",
    "import numpy as np\n",
    "from scipy import stats\n",
    "import seaborn as sns\n",
    "import matplotlib.pyplot as plt\n",
    "\n",
    "import warnings\n",
    "warnings.filterwarnings('ignore') \n"
   ]
  },
  {
   "cell_type": "markdown",
   "id": "46edd045",
   "metadata": {},
   "source": [
    "<summary style=\"color:blue;\">\n",
    "\n",
    "# 1. Data Inspection\n",
    "    \n",
    "First, I need to load in the data, and then take a quick look at the data to get a sense of what I'm dealing with. I'm initially interested in what unique columns there are, the data types of the columns,"
   ]
  },
  {
   "cell_type": "code",
   "execution_count": 51,
   "id": "b83e688e",
   "metadata": {
    "scrolled": false
   },
   "outputs": [
    {
     "data": {
      "text/html": [
       "<div>\n",
       "<style scoped>\n",
       "    .dataframe tbody tr th:only-of-type {\n",
       "        vertical-align: middle;\n",
       "    }\n",
       "\n",
       "    .dataframe tbody tr th {\n",
       "        vertical-align: top;\n",
       "    }\n",
       "\n",
       "    .dataframe thead th {\n",
       "        text-align: right;\n",
       "    }\n",
       "</style>\n",
       "<table border=\"1\" class=\"dataframe\">\n",
       "  <thead>\n",
       "    <tr style=\"text-align: right;\">\n",
       "      <th></th>\n",
       "      <th>STATISTIC Label</th>\n",
       "      <th>Year</th>\n",
       "      <th>Country</th>\n",
       "      <th>Sex</th>\n",
       "      <th>Origin or Destination</th>\n",
       "      <th>UNIT</th>\n",
       "      <th>VALUE</th>\n",
       "    </tr>\n",
       "  </thead>\n",
       "  <tbody>\n",
       "    <tr>\n",
       "      <th>2659</th>\n",
       "      <td>Estimated Migration (Persons in April)</td>\n",
       "      <td>2023</td>\n",
       "      <td>EU15 to EU27 (accession countries joined post ...</td>\n",
       "      <td>Male</td>\n",
       "      <td>Emigrants: All destinations</td>\n",
       "      <td>Thousand</td>\n",
       "      <td>3.6</td>\n",
       "    </tr>\n",
       "    <tr>\n",
       "      <th>2660</th>\n",
       "      <td>Estimated Migration (Persons in April)</td>\n",
       "      <td>2023</td>\n",
       "      <td>EU15 to EU27 (accession countries joined post ...</td>\n",
       "      <td>Male</td>\n",
       "      <td>Immigrants: All origins</td>\n",
       "      <td>Thousand</td>\n",
       "      <td>3.9</td>\n",
       "    </tr>\n",
       "    <tr>\n",
       "      <th>2661</th>\n",
       "      <td>Estimated Migration (Persons in April)</td>\n",
       "      <td>2023</td>\n",
       "      <td>EU15 to EU27 (accession countries joined post ...</td>\n",
       "      <td>Female</td>\n",
       "      <td>Net migration</td>\n",
       "      <td>Thousand</td>\n",
       "      <td>-0.2</td>\n",
       "    </tr>\n",
       "    <tr>\n",
       "      <th>2662</th>\n",
       "      <td>Estimated Migration (Persons in April)</td>\n",
       "      <td>2023</td>\n",
       "      <td>EU15 to EU27 (accession countries joined post ...</td>\n",
       "      <td>Female</td>\n",
       "      <td>Emigrants: All destinations</td>\n",
       "      <td>Thousand</td>\n",
       "      <td>5.2</td>\n",
       "    </tr>\n",
       "    <tr>\n",
       "      <th>2663</th>\n",
       "      <td>Estimated Migration (Persons in April)</td>\n",
       "      <td>2023</td>\n",
       "      <td>EU15 to EU27 (accession countries joined post ...</td>\n",
       "      <td>Female</td>\n",
       "      <td>Immigrants: All origins</td>\n",
       "      <td>Thousand</td>\n",
       "      <td>5.0</td>\n",
       "    </tr>\n",
       "  </tbody>\n",
       "</table>\n",
       "</div>"
      ],
      "text/plain": [
       "                             STATISTIC Label  Year  \\\n",
       "2659  Estimated Migration (Persons in April)  2023   \n",
       "2660  Estimated Migration (Persons in April)  2023   \n",
       "2661  Estimated Migration (Persons in April)  2023   \n",
       "2662  Estimated Migration (Persons in April)  2023   \n",
       "2663  Estimated Migration (Persons in April)  2023   \n",
       "\n",
       "                                                Country     Sex  \\\n",
       "2659  EU15 to EU27 (accession countries joined post ...    Male   \n",
       "2660  EU15 to EU27 (accession countries joined post ...    Male   \n",
       "2661  EU15 to EU27 (accession countries joined post ...  Female   \n",
       "2662  EU15 to EU27 (accession countries joined post ...  Female   \n",
       "2663  EU15 to EU27 (accession countries joined post ...  Female   \n",
       "\n",
       "            Origin or Destination      UNIT  VALUE  \n",
       "2659  Emigrants: All destinations  Thousand    3.6  \n",
       "2660      Immigrants: All origins  Thousand    3.9  \n",
       "2661                Net migration  Thousand   -0.2  \n",
       "2662  Emigrants: All destinations  Thousand    5.2  \n",
       "2663      Immigrants: All origins  Thousand    5.0  "
      ]
     },
     "execution_count": 51,
     "metadata": {},
     "output_type": "execute_result"
    }
   ],
   "source": [
    "pop_data = pd.read_csv(\"migration_data.csv\")\n",
    "\n",
    "\n",
    "#pop_data.head()\n",
    "pop_data.tail()"
   ]
  },
  {
   "cell_type": "markdown",
   "id": "6cf8d154",
   "metadata": {},
   "source": [
    "<summary style=\"color:blue;\">\n",
    "\n",
    "__Notes on the above:__\n",
    "\n",
    "the dataframe is already in a good format, in that it has each variable as a separate column, and each row as a separate observation. So, no need for pd_melt() on first look. \n",
    "* The statistic label column seems a bit redundant though, and it would be more favourable to remove the unit column and instead have the VALUE column reflect it instead (ie. multiply it by 1000).\n",
    "* Will need to confirm the variabless are stored as the correct data type.\n",
    "\n",
    "</summary>\n",
    "    \n",
    "When doing some research on EDA online, I found some articles discussing a package called `ydata-profiling` so I decided to try it. \n",
    "    \n",
    "The below code created a report with a lot of the initial exploratory anlaysis I conducted manually. It is saved in my Github repository also. In the future, this would save a lot of time if I were working with a dataset with much more features, as it automatically provides information on missing values, duplications, preliminary information on correlations, etc. It negates the need for a lot of early exploration, like calling `.head()`, `.tail()`, `.columns`, `.info()`. Unfortunately this was after I'd done all the manual work below! It also gives some alerts, like highlighting columns with constants and the high missing value rate. A full explanation of how this report can be used is found <a href=\"https://towardsdatascience.com/a-data-scientists-essential-guide-to-exploratory-data-analysis-25637eee0cf6\">here in this article. </a>\n",
    "    "
   ]
  },
  {
   "cell_type": "code",
   "execution_count": 52,
   "id": "d79ea54e",
   "metadata": {},
   "outputs": [
    {
     "data": {
      "application/vnd.jupyter.widget-view+json": {
       "model_id": "197d361d355e4a20908c411baf62eeb1",
       "version_major": 2,
       "version_minor": 0
      },
      "text/plain": [
       "Summarize dataset:   0%|          | 0/5 [00:00<?, ?it/s]"
      ]
     },
     "metadata": {},
     "output_type": "display_data"
    },
    {
     "data": {
      "application/vnd.jupyter.widget-view+json": {
       "model_id": "c7642683f4bc48f4bdfec14367414f3d",
       "version_major": 2,
       "version_minor": 0
      },
      "text/plain": [
       "Generate report structure:   0%|          | 0/1 [00:00<?, ?it/s]"
      ]
     },
     "metadata": {},
     "output_type": "display_data"
    },
    {
     "data": {
      "application/vnd.jupyter.widget-view+json": {
       "model_id": "831282ff6e7a4939b3d70405de2687f0",
       "version_major": 2,
       "version_minor": 0
      },
      "text/plain": [
       "Render HTML:   0%|          | 0/1 [00:00<?, ?it/s]"
      ]
     },
     "metadata": {},
     "output_type": "display_data"
    },
    {
     "data": {
      "application/vnd.jupyter.widget-view+json": {
       "model_id": "6d78d654118649a19e5961f4886c5b11",
       "version_major": 2,
       "version_minor": 0
      },
      "text/plain": [
       "Export report to file:   0%|          | 0/1 [00:00<?, ?it/s]"
      ]
     },
     "metadata": {},
     "output_type": "display_data"
    }
   ],
   "source": [
    "# trying out ydata-profiling\n",
    "from ydata_profiling import ProfileReport\n",
    "\n",
    "# Generate the report\n",
    "profile = ProfileReport(pop_data,title=\"Ireland Migration Trends\")\n",
    "\n",
    "# Save the report to .html\n",
    "profile.to_file(\"migration_report.html\")"
   ]
  },
  {
   "cell_type": "markdown",
   "id": "b55e6676",
   "metadata": {},
   "source": [
    "<summary style=\"color:blue;\">\n",
    "\n",
    "### Exploring the data...\n",
    "\n",
    "By running `.info`, I can also check for null values:"
   ]
  },
  {
   "cell_type": "code",
   "execution_count": 53,
   "id": "df91772f",
   "metadata": {
    "scrolled": false
   },
   "outputs": [
    {
     "name": "stdout",
     "output_type": "stream",
     "text": [
      "<class 'pandas.core.frame.DataFrame'>\n",
      "RangeIndex: 2664 entries, 0 to 2663\n",
      "Data columns (total 7 columns):\n",
      " #   Column                 Non-Null Count  Dtype  \n",
      "---  ------                 --------------  -----  \n",
      " 0   STATISTIC Label        2664 non-null   object \n",
      " 1   Year                   2664 non-null   int64  \n",
      " 2   Country                2664 non-null   object \n",
      " 3   Sex                    2664 non-null   object \n",
      " 4   Origin or Destination  2664 non-null   object \n",
      " 5   UNIT                   2664 non-null   object \n",
      " 6   VALUE                  2104 non-null   float64\n",
      "dtypes: float64(1), int64(1), object(5)\n",
      "memory usage: 145.8+ KB\n"
     ]
    }
   ],
   "source": [
    "pop_data.info()"
   ]
  },
  {
   "cell_type": "markdown",
   "id": "d439e56e",
   "metadata": {},
   "source": [
    "<summary style=\"color:blue;\">\n",
    "\n",
    "\n",
    "__Notes on the above:__\n",
    "    \n",
    "* Shape: there's 2664 rows, and 7 columns in the dataset (no need to use `.shape`, as I now have this info);\n",
    "* the \"year\" column and the \"VALUE\" column are the only numerical variables. While this is correct for VALUE, Year is technically a categorical variable, but is numeric so should be okay. I will see about amending data types this when tidying the data in Section 2 of this codebook;\n",
    "* I see that there's missing values in the VALUE column (note the difference between the total number of rows (2664) and the count of non-null values for the VALUE column (2104), so for convenience/to save doing any maths, I ran the following code to get the total number of missing values and to ensure there's no duplicates:"
   ]
  },
  {
   "cell_type": "code",
   "execution_count": 54,
   "id": "cf20f798",
   "metadata": {},
   "outputs": [
    {
     "name": "stdout",
     "output_type": "stream",
     "text": [
      "STATISTIC Label            0\n",
      "Year                       0\n",
      "Country                    0\n",
      "Sex                        0\n",
      "Origin or Destination      0\n",
      "UNIT                       0\n",
      "VALUE                    560\n",
      "dtype: int64\n"
     ]
    }
   ],
   "source": [
    "print(pop_data.isnull().sum())"
   ]
  },
  {
   "cell_type": "code",
   "execution_count": 55,
   "id": "9e8f550e",
   "metadata": {
    "scrolled": true
   },
   "outputs": [
    {
     "name": "stdout",
     "output_type": "stream",
     "text": [
      "False    2664\n",
      "Name: count, dtype: int64\n"
     ]
    }
   ],
   "source": [
    "duplicates = pop_data.duplicated()\n",
    "print(duplicates.value_counts())  "
   ]
  },
  {
   "cell_type": "markdown",
   "id": "c8de0a19",
   "metadata": {},
   "source": [
    "<summary style=\"color:blue;\">\n",
    "\n",
    "###### Getting a closer look, with summaries for the numerical variables:"
   ]
  },
  {
   "cell_type": "code",
   "execution_count": 56,
   "id": "013fc91e",
   "metadata": {},
   "outputs": [
    {
     "data": {
      "text/html": [
       "<div>\n",
       "<style scoped>\n",
       "    .dataframe tbody tr th:only-of-type {\n",
       "        vertical-align: middle;\n",
       "    }\n",
       "\n",
       "    .dataframe tbody tr th {\n",
       "        vertical-align: top;\n",
       "    }\n",
       "\n",
       "    .dataframe thead th {\n",
       "        text-align: right;\n",
       "    }\n",
       "</style>\n",
       "<table border=\"1\" class=\"dataframe\">\n",
       "  <thead>\n",
       "    <tr style=\"text-align: right;\">\n",
       "      <th></th>\n",
       "      <th>Year</th>\n",
       "      <th>VALUE</th>\n",
       "    </tr>\n",
       "  </thead>\n",
       "  <tbody>\n",
       "    <tr>\n",
       "      <th>count</th>\n",
       "      <td>2664.000000</td>\n",
       "      <td>2104.000000</td>\n",
       "    </tr>\n",
       "    <tr>\n",
       "      <th>mean</th>\n",
       "      <td>2005.000000</td>\n",
       "      <td>8.943726</td>\n",
       "    </tr>\n",
       "    <tr>\n",
       "      <th>std</th>\n",
       "      <td>10.679083</td>\n",
       "      <td>15.513703</td>\n",
       "    </tr>\n",
       "    <tr>\n",
       "      <th>min</th>\n",
       "      <td>1987.000000</td>\n",
       "      <td>-43.900000</td>\n",
       "    </tr>\n",
       "    <tr>\n",
       "      <th>25%</th>\n",
       "      <td>1996.000000</td>\n",
       "      <td>1.800000</td>\n",
       "    </tr>\n",
       "    <tr>\n",
       "      <th>50%</th>\n",
       "      <td>2005.000000</td>\n",
       "      <td>4.700000</td>\n",
       "    </tr>\n",
       "    <tr>\n",
       "      <th>75%</th>\n",
       "      <td>2014.000000</td>\n",
       "      <td>10.200000</td>\n",
       "    </tr>\n",
       "    <tr>\n",
       "      <th>max</th>\n",
       "      <td>2023.000000</td>\n",
       "      <td>151.100000</td>\n",
       "    </tr>\n",
       "  </tbody>\n",
       "</table>\n",
       "</div>"
      ],
      "text/plain": [
       "              Year        VALUE\n",
       "count  2664.000000  2104.000000\n",
       "mean   2005.000000     8.943726\n",
       "std      10.679083    15.513703\n",
       "min    1987.000000   -43.900000\n",
       "25%    1996.000000     1.800000\n",
       "50%    2005.000000     4.700000\n",
       "75%    2014.000000    10.200000\n",
       "max    2023.000000   151.100000"
      ]
     },
     "execution_count": 56,
     "metadata": {},
     "output_type": "execute_result"
    }
   ],
   "source": [
    "pop_data.describe()"
   ]
  },
  {
   "cell_type": "markdown",
   "id": "35f0a648",
   "metadata": {},
   "source": [
    "<summary style=\"color:blue;\">\n",
    "\n",
    "The only useful information above is that the from the min/max of the Year col, I can see that the population data ranges from the years 1987 to 2023. The other information isn't reliable as there's a lot of additional data which needs to be filtered out (such as the rows that are the totals for both sexes and all countries) before the summary statistics can be trusted. I noted this when I called `pop_data.head()` that this is variable contains information on the net migration, as well as the number of incoming and outgoing people all as individual observations. So, the statistical information extracted (ie. the mean, std, etc.) isn't reliable.\n",
    "    \n",
    "__Notes on what I've sussed so far:__\n",
    "\n",
    "* This dataset is the total estimated migration true for April each year. \n",
    "* The VALUE column refers to the total number of people who either immigrated or emigrated, and are summed through the \"Net migration\" row for each year. A positive VALUE indicates that more people immigrated to Ireland, and similarly a negative value indicates a higher population emigrated from Ireland.\n",
    "* **Important thing I know I'll keep forgetting:** the year column refers to the year the data became available, and covers from April the previous year to the April that the data was reported. For the sake of simplicity, I may ignore this fact until it comes time to analysis and discussing it."
   ]
  },
  {
   "cell_type": "markdown",
   "id": "b4645eff",
   "metadata": {},
   "source": [
    "<summary style=\"color:blue;\">\n",
    "    \n",
    "###### Summaries for the categorical variables:"
   ]
  },
  {
   "cell_type": "code",
   "execution_count": 57,
   "id": "2739af5e",
   "metadata": {
    "scrolled": true
   },
   "outputs": [
    {
     "data": {
      "text/html": [
       "<div>\n",
       "<style scoped>\n",
       "    .dataframe tbody tr th:only-of-type {\n",
       "        vertical-align: middle;\n",
       "    }\n",
       "\n",
       "    .dataframe tbody tr th {\n",
       "        vertical-align: top;\n",
       "    }\n",
       "\n",
       "    .dataframe thead th {\n",
       "        text-align: right;\n",
       "    }\n",
       "</style>\n",
       "<table border=\"1\" class=\"dataframe\">\n",
       "  <thead>\n",
       "    <tr style=\"text-align: right;\">\n",
       "      <th></th>\n",
       "      <th>STATISTIC Label</th>\n",
       "      <th>Country</th>\n",
       "      <th>Sex</th>\n",
       "      <th>Origin or Destination</th>\n",
       "      <th>UNIT</th>\n",
       "    </tr>\n",
       "  </thead>\n",
       "  <tbody>\n",
       "    <tr>\n",
       "      <th>count</th>\n",
       "      <td>2664</td>\n",
       "      <td>2664</td>\n",
       "      <td>2664</td>\n",
       "      <td>2664</td>\n",
       "      <td>2664</td>\n",
       "    </tr>\n",
       "    <tr>\n",
       "      <th>unique</th>\n",
       "      <td>1</td>\n",
       "      <td>8</td>\n",
       "      <td>3</td>\n",
       "      <td>3</td>\n",
       "      <td>1</td>\n",
       "    </tr>\n",
       "    <tr>\n",
       "      <th>top</th>\n",
       "      <td>Estimated Migration (Persons in April)</td>\n",
       "      <td>United Kingdom (1)</td>\n",
       "      <td>Both sexes</td>\n",
       "      <td>Net migration</td>\n",
       "      <td>Thousand</td>\n",
       "    </tr>\n",
       "    <tr>\n",
       "      <th>freq</th>\n",
       "      <td>2664</td>\n",
       "      <td>333</td>\n",
       "      <td>888</td>\n",
       "      <td>888</td>\n",
       "      <td>2664</td>\n",
       "    </tr>\n",
       "  </tbody>\n",
       "</table>\n",
       "</div>"
      ],
      "text/plain": [
       "                               STATISTIC Label             Country  \\\n",
       "count                                     2664                2664   \n",
       "unique                                       1                   8   \n",
       "top     Estimated Migration (Persons in April)  United Kingdom (1)   \n",
       "freq                                      2664                 333   \n",
       "\n",
       "               Sex Origin or Destination      UNIT  \n",
       "count         2664                  2664      2664  \n",
       "unique           3                     3         1  \n",
       "top     Both sexes         Net migration  Thousand  \n",
       "freq           888                   888      2664  "
      ]
     },
     "execution_count": 57,
     "metadata": {},
     "output_type": "execute_result"
    }
   ],
   "source": [
    "pop_data.describe(include=object)"
   ]
  },
  {
   "cell_type": "markdown",
   "id": "064aeb59",
   "metadata": {},
   "source": [
    "   \n",
    "<summary style=\"color:blue;\">\n",
    "\n",
    "    \n",
    "__Notes on the above:__\n",
    "    \n",
    "*  I note that \"STATISTIC Label\" and \"UNIT\" only have one unique value each and what they are ('Estimated Migration (Persons in April)' and 'Thousand' respectively). The former refers to this data being true for April each year, and the latter is referring to the \"VALUE\" column having the units \"thousand\", (i.e.a VALUE of 1 would be 1 thousand). I may decide to remove these columns when tidying the data as they feel a bit redundant, and capture the information they provide elsewhere.\n",
    "* I'm curious about the modes for each of these, I assume they are just listed in as the mode as they are the top value in the dataset, but just for piece of mind:"
   ]
  },
  {
   "cell_type": "code",
   "execution_count": 58,
   "id": "55c0a439",
   "metadata": {},
   "outputs": [
    {
     "name": "stdout",
     "output_type": "stream",
     "text": [
      "Value counts for \"Country\":\n",
      " Country\n",
      "United Kingdom (1)                                     333\n",
      "United States                                          333\n",
      "Canada                                                 333\n",
      "Australia                                              333\n",
      "Other countries (23)                                   333\n",
      "All countries                                          333\n",
      "EU14 excl Irl (UK & Ireland)                           333\n",
      "EU15 to EU27 (accession countries joined post 2004)    333\n",
      "Name: count, dtype: int64 \n",
      "\n",
      "Value counts for \"Sex\":\n",
      " Sex\n",
      "Both sexes    888\n",
      "Male          888\n",
      "Female        888\n",
      "Name: count, dtype: int64 \n",
      "\n",
      "Value counts for \"UNIT\":\n",
      " UNIT\n",
      "Thousand    2664\n",
      "Name: count, dtype: int64\n"
     ]
    }
   ],
   "source": [
    "print('Value counts for \"Country\":\\n', pop_data['Country'].value_counts(),\n",
    "      '\\n\\nValue counts for \"Sex\":\\n', pop_data['Sex'].value_counts(),\n",
    "      '\\n\\nValue counts for \"UNIT\":\\n', pop_data['UNIT'].value_counts())\n"
   ]
  },
  {
   "cell_type": "markdown",
   "id": "893efc29",
   "metadata": {},
   "source": [
    "<summary style=\"color:blue;\">\n",
    "\n",
    "My initial instinct is correct, that these are just listed as the modes because they were the first value in the dataset.\n",
    "    \n",
    "    \n",
    "I also wanted to confirm the values for the Sex and UNIT columns, and just added this into the above code block instead of running individual `.unique()` codeblocks for them so it's a bit tidier. I can forsee having summary data for \"both sexes\" which probably contains the sum of the values for male and female, as well as a potential summary data for \"all countries\" which is the sum of all the other countries. I will have to confirm that this is the case before I exclude them. Otherwise, they might impact the analysis. I think they will be useful in their own right, and I can use them to produce summary graphs, but for later analysis they are probably better removed.\n",
    "    \n",
    "    \n",
    "I dislike these labels for countries - may have to amend and change to UK, US, Canada, Australia, Other, All countries, EU14 (Excl UK, IE), EU 15-27. I will do this as part of my attempt to make the data easier to work with."
   ]
  },
  {
   "cell_type": "markdown",
   "id": "cee2f419",
   "metadata": {},
   "source": [
    "<summary style=\"color:blue;\">\n",
    "\n",
    "# 2. Data Tidying\n",
    "Ideas for tidying:\n",
    "* make some things lower case?\n",
    "* Drop the unnecessary \"Statistic Label\" column\n",
    "* rename cols, e.g. instead of \"Origin or Destination\" change it to migration_type\n",
    "* Change the strings under the \"Country\" column\n",
    "    \n"
   ]
  },
  {
   "cell_type": "markdown",
   "id": "e5b5dd5b",
   "metadata": {},
   "source": [
    "<summary style=\"color:blue;\">\n",
    "\n",
    "###### 2.1 Dropping \"Statistic Label\" and \"UNIT\" columns \n",
    "    \n",
    "</summary>\n",
    "\n",
    "\n",
    "Motivation for removing the \"Statistic Label\" is that it's providing no purpose in the analysis that will be conducted on this dataframe. I will instead capture the information that this column is providing (i.e. that the values are true for April each year), in the output/report.\n",
    "    \n",
    "    \n",
    "I'm also removing the \"UNIT\" column, as I would rather include this in the \"VALUE\" column (by multiplying the values by a thousand)\n",
    "    \n",
    "    \n",
    "Doing this should make the dataframe less clunky and easier to explore\n",
    "    "
   ]
  },
  {
   "cell_type": "code",
   "execution_count": 59,
   "id": "4e9cc3f1",
   "metadata": {
    "scrolled": true
   },
   "outputs": [],
   "source": [
    "pop_data = pop_data.drop(columns = ['STATISTIC Label', 'UNIT'])\n",
    "#pop_data.head()"
   ]
  },
  {
   "cell_type": "markdown",
   "id": "48df40ae",
   "metadata": {},
   "source": [
    "<summary style=\"color:blue;\">\n",
    "\n",
    "###### 2.2 Column changes...\n",
    "\n",
    "###### 2.2.1 Renaming the column headings,\n",
    "    \n",
    "</summary>\n",
    "    \n",
    "This is just to make it easier to write code, and also to make headings reflect the data their respective column contains more accurately. I also want to make them all lowercase so it's more convenient to type."
   ]
  },
  {
   "cell_type": "code",
   "execution_count": 60,
   "id": "96fbbe59",
   "metadata": {},
   "outputs": [
    {
     "data": {
      "text/plain": [
       "Index(['year', 'country', 'sex', 'migration_type', 'total_migration'], dtype='object')"
      ]
     },
     "execution_count": 60,
     "metadata": {},
     "output_type": "execute_result"
    }
   ],
   "source": [
    "pop_data = pop_data.rename(columns = {'Year':'year', \n",
    "                                      'Country':'country', \n",
    "                                      'Sex':'sex', \n",
    "                                      'Origin or Destination':'migration_type', \n",
    "                                      'VALUE':'total_migration'})\n",
    "pop_data.columns"
   ]
  },
  {
   "cell_type": "markdown",
   "id": "284aeb09",
   "metadata": {},
   "source": [
    "<summary style=\"color:blue;\">\n",
    "\n",
    "###### 2.2.2 The data in the 'total_migration' column\n",
    "</summary>    \n",
    "Below, I multiplied the 'total_migration' column by 1000 to reflect the thousands as I removed the \"UNIT\" column, which indicated that the number in the now-'total_migration' column is in thousands. I debated whether or not to do this, as the only benefit would be that I could turn this into an integer (as multipling by 1000 would get rid of the numbers after the decimal points, therefore it wouldn't need to be a float anymore. After doing some research online I see that integer, as they require less memory and less computer resources, although I know this probably won't make much of a difference for this relatively small dataset.\n",
    "\n",
    "When I was looking at the missing data in section 2.6, I realised by changing the datatype to int64 turned all of the missing values to 0. So I converted all of the 0s to NaNs but noted a difference in the number of missing values, and realised that there was likely already net migration of 0 in the dataset. So I abandoned this plan, and commented out the code below. I may consider changing the data types before implementing ML if I note performance issues."
   ]
  },
  {
   "cell_type": "code",
   "execution_count": 61,
   "id": "58bb8b83",
   "metadata": {},
   "outputs": [],
   "source": [
    "pop_data['total_migration'] = (pop_data['total_migration'] * 1000)\n",
    "#pop_data['total_migration'] = pop_data['year'].astype('int64')"
   ]
  },
  {
   "cell_type": "markdown",
   "id": "bb22220c",
   "metadata": {},
   "source": [
    "<summary style=\"color:blue;\">\n",
    "\n",
    "###### 2.3 Shortening the values under \"country\"\n",
    "</summary>\n",
    "    \n",
    "I want to make them a bit shorter and hopefully easier to work with. As there are widely known and well-defined abbreviations for some of the countries (e.g. UK for United Kingdom),  I think it's appropriate.\n",
    "    \n",
    "First, I just want to have the country values on-hand. Then, I'll change the strings. I decided to do this manually as I was struggling to understand the explanations on stackoverflow. I called `.unique()` again after to confirm it was successful (it was)."
   ]
  },
  {
   "cell_type": "code",
   "execution_count": 62,
   "id": "d03a6b37",
   "metadata": {},
   "outputs": [
    {
     "data": {
      "text/plain": [
       "array(['United Kingdom (1)', 'United States', 'Canada', 'Australia',\n",
       "       'Other countries (23)', 'All countries',\n",
       "       'EU14 excl Irl (UK & Ireland)',\n",
       "       'EU15 to EU27 (accession countries joined post 2004)'],\n",
       "      dtype=object)"
      ]
     },
     "execution_count": 62,
     "metadata": {},
     "output_type": "execute_result"
    }
   ],
   "source": [
    "pop_data['country'].unique()"
   ]
  },
  {
   "cell_type": "code",
   "execution_count": 63,
   "id": "5fc1efdb",
   "metadata": {
    "scrolled": true
   },
   "outputs": [
    {
     "data": {
      "text/plain": [
       "array(['UK', 'US', 'Canada', 'Australia', 'Other countries',\n",
       "       'All countries', 'EU14 (Excl UK, IRE)', 'EU15 to EU27'],\n",
       "      dtype=object)"
      ]
     },
     "execution_count": 63,
     "metadata": {},
     "output_type": "execute_result"
    }
   ],
   "source": [
    "pop_data['country'] = pop_data['country'].str.replace('United Kingdom (1)', 'UK')\n",
    "pop_data['country'] = pop_data['country'].str.replace('United States', 'US')\n",
    "pop_data['country'] = pop_data['country'].str.replace('Other countries (23)', 'Other countries')\n",
    "pop_data['country'] = pop_data['country'].str.replace('EU14 excl Irl (UK & Ireland)', 'EU14 (Excl UK, IRE)') # UK no longer in EU but it would've been for a lot of the colleciton of this data\n",
    "pop_data['country'] = pop_data['country'].str.replace('EU15 to EU27 (accession countries joined post 2004)', 'EU15 to EU27')\n",
    "\n",
    "pop_data['country'].unique() "
   ]
  },
  {
   "cell_type": "markdown",
   "id": "fa323375",
   "metadata": {},
   "source": [
    "<summary style=\"color:blue;\">\n",
    "\n",
    "###### 2.4 Changing the values under \"migration_type\"\n",
    "</summary>\n",
    "\n",
    "Same as above. I'd like to shorten them to make it easier to call."
   ]
  },
  {
   "cell_type": "code",
   "execution_count": 64,
   "id": "21398508",
   "metadata": {},
   "outputs": [
    {
     "data": {
      "text/plain": [
       "array(['Net migration', 'Emigrants: All destinations',\n",
       "       'Immigrants: All origins'], dtype=object)"
      ]
     },
     "execution_count": 64,
     "metadata": {},
     "output_type": "execute_result"
    }
   ],
   "source": [
    "pop_data['migration_type'].unique()"
   ]
  },
  {
   "cell_type": "code",
   "execution_count": 65,
   "id": "b1fc95e5",
   "metadata": {},
   "outputs": [
    {
     "data": {
      "text/plain": [
       "array(['Net migration', 'Emigration', 'Immigration'], dtype=object)"
      ]
     },
     "execution_count": 65,
     "metadata": {},
     "output_type": "execute_result"
    }
   ],
   "source": [
    "pop_data['migration_type'] = pop_data['migration_type'].str.replace('Emigrants: All destinations', 'Emigration')\n",
    "pop_data['migration_type'] = pop_data['migration_type'].str.replace('Immigrants: All origins', 'Immigration')\n",
    "\n",
    "pop_data['migration_type'].unique()"
   ]
  },
  {
   "cell_type": "markdown",
   "id": "f2444120",
   "metadata": {},
   "source": [
    "<summary style=\"color:blue;\">\n",
    "\n",
    "###### 2.5 Amending data types \n",
    "    \n",
    "# Come back to this??\n",
    "\n",
    "The year, country, sex and migration type are categorical, as it's a finite list, so should amend that, and confirm using .info:"
   ]
  },
  {
   "cell_type": "code",
   "execution_count": 66,
   "id": "5cbf897c",
   "metadata": {
    "scrolled": true
   },
   "outputs": [
    {
     "name": "stdout",
     "output_type": "stream",
     "text": [
      "<class 'pandas.core.frame.DataFrame'>\n",
      "RangeIndex: 2664 entries, 0 to 2663\n",
      "Data columns (total 5 columns):\n",
      " #   Column           Non-Null Count  Dtype  \n",
      "---  ------           --------------  -----  \n",
      " 0   year             2664 non-null   int64  \n",
      " 1   country          2664 non-null   object \n",
      " 2   sex              2664 non-null   object \n",
      " 3   migration_type   2664 non-null   object \n",
      " 4   total_migration  2104 non-null   float64\n",
      "dtypes: float64(1), int64(1), object(3)\n",
      "memory usage: 104.2+ KB\n"
     ]
    }
   ],
   "source": [
    "pop_data.info()"
   ]
  },
  {
   "cell_type": "code",
   "execution_count": 67,
   "id": "a3119926",
   "metadata": {},
   "outputs": [
    {
     "name": "stdout",
     "output_type": "stream",
     "text": [
      "<class 'pandas.core.frame.DataFrame'>\n",
      "RangeIndex: 2664 entries, 0 to 2663\n",
      "Data columns (total 5 columns):\n",
      " #   Column           Non-Null Count  Dtype   \n",
      "---  ------           --------------  -----   \n",
      " 0   year             2664 non-null   int64   \n",
      " 1   country          2664 non-null   object  \n",
      " 2   sex              2664 non-null   object  \n",
      " 3   migration_type   2664 non-null   category\n",
      " 4   total_migration  2104 non-null   float64 \n",
      "dtypes: category(1), float64(1), int64(1), object(2)\n",
      "memory usage: 86.1+ KB\n"
     ]
    }
   ],
   "source": [
    "#pop_data['country'] = pop_data['country'].astype('category')\n",
    "#pop_data['sex'] = pop_data['sex'].astype('category')\n",
    "pop_data['migration_type'] = pop_data['migration_type'].astype('category')\n",
    "\n",
    "\n",
    "pop_data.info()"
   ]
  },
  {
   "cell_type": "markdown",
   "id": "227e4bfd",
   "metadata": {},
   "source": [
    "<summary style=\"color:blue;\">\n",
    "\n",
    "###### 2.6 Missing Values\n",
    "\n",
    "Probably the most important aspect - trying to deal with the missing values. This data is likely missing due to systematic causes, i.e. the data was never provided in the first place. This data is missing at random (MAR), as there's no real logic or explanation other than it's generally older data that seems to be missing.\n",
    "* For this reason, it might be appropriate to delete all of the rows containing empty values, OR to limit the range of the analysis (e.g. limit it from 2010 -> present)\n",
    "* It could be considered to try to insert the mean of the values above and below each missing value. Will have to investigate and decide\n",
    "    \n",
    "First, I want to look at the missing values, so I'll move them into a new dataset. I'm particularly interested in what values are actually missing (i.e. if it's just emigration or immigration counts or does it include the net migration). Also interested in what year the missing data is, so I can decide if limiting the analysis to a particular year range is better. As noted from calling `.info()` on the dataset earlier, only \"total_migration\" contains missing values, so I can streamline the code a little:    "
   ]
  },
  {
   "cell_type": "code",
   "execution_count": 68,
   "id": "639ead72",
   "metadata": {},
   "outputs": [
    {
     "name": "stdout",
     "output_type": "stream",
     "text": [
      "There are 560 missing values in the total_migration column.\n"
     ]
    },
    {
     "data": {
      "text/html": [
       "<div>\n",
       "<style scoped>\n",
       "    .dataframe tbody tr th:only-of-type {\n",
       "        vertical-align: middle;\n",
       "    }\n",
       "\n",
       "    .dataframe tbody tr th {\n",
       "        vertical-align: top;\n",
       "    }\n",
       "\n",
       "    .dataframe thead th {\n",
       "        text-align: right;\n",
       "    }\n",
       "</style>\n",
       "<table border=\"1\" class=\"dataframe\">\n",
       "  <thead>\n",
       "    <tr style=\"text-align: right;\">\n",
       "      <th></th>\n",
       "      <th>year</th>\n",
       "      <th>country</th>\n",
       "      <th>sex</th>\n",
       "      <th>migration_type</th>\n",
       "      <th>total_migration</th>\n",
       "    </tr>\n",
       "  </thead>\n",
       "  <tbody>\n",
       "    <tr>\n",
       "      <th>18</th>\n",
       "      <td>1987</td>\n",
       "      <td>Canada</td>\n",
       "      <td>Both sexes</td>\n",
       "      <td>Net migration</td>\n",
       "      <td>NaN</td>\n",
       "    </tr>\n",
       "    <tr>\n",
       "      <th>19</th>\n",
       "      <td>1987</td>\n",
       "      <td>Canada</td>\n",
       "      <td>Both sexes</td>\n",
       "      <td>Emigration</td>\n",
       "      <td>NaN</td>\n",
       "    </tr>\n",
       "    <tr>\n",
       "      <th>20</th>\n",
       "      <td>1987</td>\n",
       "      <td>Canada</td>\n",
       "      <td>Both sexes</td>\n",
       "      <td>Immigration</td>\n",
       "      <td>NaN</td>\n",
       "    </tr>\n",
       "    <tr>\n",
       "      <th>21</th>\n",
       "      <td>1987</td>\n",
       "      <td>Canada</td>\n",
       "      <td>Male</td>\n",
       "      <td>Net migration</td>\n",
       "      <td>NaN</td>\n",
       "    </tr>\n",
       "    <tr>\n",
       "      <th>22</th>\n",
       "      <td>1987</td>\n",
       "      <td>Canada</td>\n",
       "      <td>Male</td>\n",
       "      <td>Emigration</td>\n",
       "      <td>NaN</td>\n",
       "    </tr>\n",
       "    <tr>\n",
       "      <th>...</th>\n",
       "      <td>...</td>\n",
       "      <td>...</td>\n",
       "      <td>...</td>\n",
       "      <td>...</td>\n",
       "      <td>...</td>\n",
       "    </tr>\n",
       "    <tr>\n",
       "      <th>1471</th>\n",
       "      <td>2007</td>\n",
       "      <td>Australia</td>\n",
       "      <td>Male</td>\n",
       "      <td>Emigration</td>\n",
       "      <td>NaN</td>\n",
       "    </tr>\n",
       "    <tr>\n",
       "      <th>1472</th>\n",
       "      <td>2007</td>\n",
       "      <td>Australia</td>\n",
       "      <td>Male</td>\n",
       "      <td>Immigration</td>\n",
       "      <td>NaN</td>\n",
       "    </tr>\n",
       "    <tr>\n",
       "      <th>1473</th>\n",
       "      <td>2007</td>\n",
       "      <td>Australia</td>\n",
       "      <td>Female</td>\n",
       "      <td>Net migration</td>\n",
       "      <td>NaN</td>\n",
       "    </tr>\n",
       "    <tr>\n",
       "      <th>1474</th>\n",
       "      <td>2007</td>\n",
       "      <td>Australia</td>\n",
       "      <td>Female</td>\n",
       "      <td>Emigration</td>\n",
       "      <td>NaN</td>\n",
       "    </tr>\n",
       "    <tr>\n",
       "      <th>1475</th>\n",
       "      <td>2007</td>\n",
       "      <td>Australia</td>\n",
       "      <td>Female</td>\n",
       "      <td>Immigration</td>\n",
       "      <td>NaN</td>\n",
       "    </tr>\n",
       "  </tbody>\n",
       "</table>\n",
       "<p>560 rows × 5 columns</p>\n",
       "</div>"
      ],
      "text/plain": [
       "      year    country         sex migration_type  total_migration\n",
       "18    1987     Canada  Both sexes  Net migration              NaN\n",
       "19    1987     Canada  Both sexes     Emigration              NaN\n",
       "20    1987     Canada  Both sexes    Immigration              NaN\n",
       "21    1987     Canada        Male  Net migration              NaN\n",
       "22    1987     Canada        Male     Emigration              NaN\n",
       "...    ...        ...         ...            ...              ...\n",
       "1471  2007  Australia        Male     Emigration              NaN\n",
       "1472  2007  Australia        Male    Immigration              NaN\n",
       "1473  2007  Australia      Female  Net migration              NaN\n",
       "1474  2007  Australia      Female     Emigration              NaN\n",
       "1475  2007  Australia      Female    Immigration              NaN\n",
       "\n",
       "[560 rows x 5 columns]"
      ]
     },
     "execution_count": 68,
     "metadata": {},
     "output_type": "execute_result"
    }
   ],
   "source": [
    "print('There are', pop_data['total_migration'].isnull().sum(), 'missing values in the total_migration column.')\n",
    "missing = pd.isnull(pop_data['total_migration'])\n",
    "missing_data = pop_data[missing]\n",
    "missing_data"
   ]
  },
  {
   "cell_type": "code",
   "execution_count": 69,
   "id": "5a0934d1",
   "metadata": {
    "scrolled": true
   },
   "outputs": [
    {
     "name": "stdout",
     "output_type": "stream",
     "text": [
      "migration_type\n",
      "Emigration       190\n",
      "Immigration      190\n",
      "Net migration    180\n",
      "Name: count, dtype: int64 \n",
      " \n",
      " sex\n",
      "Male          190\n",
      "Female        190\n",
      "Both sexes    180\n",
      "Name: count, dtype: int64 \n",
      " \n",
      " year\n",
      "1987    31\n",
      "1989    31\n",
      "1990    31\n",
      "1991    31\n",
      "1988    31\n",
      "1999    27\n",
      "2004    27\n",
      "2003    27\n",
      "2002    27\n",
      "2001    27\n",
      "2000    27\n",
      "1997    27\n",
      "1998    27\n",
      "1996    27\n",
      "1995    27\n",
      "1994    27\n",
      "1993    27\n",
      "1992    27\n",
      "2005    18\n",
      "2006    18\n",
      "2007    18\n",
      "Name: count, dtype: int64 \n",
      " \n",
      " country\n",
      "Canada           189\n",
      "Australia        189\n",
      "EU15 to EU27     162\n",
      "All countries     20\n",
      "Name: count, dtype: int64\n"
     ]
    }
   ],
   "source": [
    "print(missing_data['migration_type'].value_counts(),\"\\n\",\"\\n\",missing_data['sex'].value_counts(),\"\\n\",\"\\n\",\n",
    "      missing_data['year'].value_counts(),\"\\n\",\"\\n\",missing_data['country'].value_counts())\n"
   ]
  },
  {
   "cell_type": "code",
   "execution_count": 70,
   "id": "7aec4b18",
   "metadata": {},
   "outputs": [
    {
     "name": "stdout",
     "output_type": "stream",
     "text": [
      "The total percentage of missing values is  21.02 %\n"
     ]
    }
   ],
   "source": [
    "print(\"The total percentage of missing values is \", round((560/2664) * 100, 2), '%')"
   ]
  },
  {
   "cell_type": "markdown",
   "id": "28099879",
   "metadata": {},
   "source": [
    "<summary style=\"color:DarkRed;\">\n",
    "\n",
    "From the above, I'm disappointed that the missing data is as recent as 2007. \n",
    "21% of the data missing accounts for a large percentage of the dataset. For this reason, I don't feel it's appropriate to input values. The issue persists even if I narrow the scope to both sexes and net migration. \n",
    "    \n",
    "However, it's interesting that the data is only missing for four values under the 'country' column (Canada, Australia, EU15 to EU27, All countries). This might help focus me with my analysis, as I note there's no missing data for the UK. I wonder has Brexit impacted the total number of migrants too and from the UK. Also, only 20 values are missing from 'All countries', so there's scope there to see about\n",
    "    \n",
    "I'm hesitant to try to input values, but I know there's multiple methods available to me. I'm even more hesitant to drop values as it's potentially important information, particular as 21% of the data is NaN.\n",
    "    \n",
    "Looking closer at 'All countries':    "
   ]
  },
  {
   "cell_type": "code",
   "execution_count": 71,
   "id": "52412bfe",
   "metadata": {},
   "outputs": [
    {
     "data": {
      "text/html": [
       "<div>\n",
       "<style scoped>\n",
       "    .dataframe tbody tr th:only-of-type {\n",
       "        vertical-align: middle;\n",
       "    }\n",
       "\n",
       "    .dataframe tbody tr th {\n",
       "        vertical-align: top;\n",
       "    }\n",
       "\n",
       "    .dataframe thead th {\n",
       "        text-align: right;\n",
       "    }\n",
       "</style>\n",
       "<table border=\"1\" class=\"dataframe\">\n",
       "  <thead>\n",
       "    <tr style=\"text-align: right;\">\n",
       "      <th></th>\n",
       "      <th>year</th>\n",
       "      <th>country</th>\n",
       "      <th>sex</th>\n",
       "      <th>migration_type</th>\n",
       "      <th>total_migration</th>\n",
       "    </tr>\n",
       "  </thead>\n",
       "  <tbody>\n",
       "    <tr>\n",
       "      <th>49</th>\n",
       "      <td>1987</td>\n",
       "      <td>All countries</td>\n",
       "      <td>Male</td>\n",
       "      <td>Emigration</td>\n",
       "      <td>NaN</td>\n",
       "    </tr>\n",
       "    <tr>\n",
       "      <th>50</th>\n",
       "      <td>1987</td>\n",
       "      <td>All countries</td>\n",
       "      <td>Male</td>\n",
       "      <td>Immigration</td>\n",
       "      <td>NaN</td>\n",
       "    </tr>\n",
       "    <tr>\n",
       "      <th>52</th>\n",
       "      <td>1987</td>\n",
       "      <td>All countries</td>\n",
       "      <td>Female</td>\n",
       "      <td>Emigration</td>\n",
       "      <td>NaN</td>\n",
       "    </tr>\n",
       "    <tr>\n",
       "      <th>53</th>\n",
       "      <td>1987</td>\n",
       "      <td>All countries</td>\n",
       "      <td>Female</td>\n",
       "      <td>Immigration</td>\n",
       "      <td>NaN</td>\n",
       "    </tr>\n",
       "    <tr>\n",
       "      <th>121</th>\n",
       "      <td>1988</td>\n",
       "      <td>All countries</td>\n",
       "      <td>Male</td>\n",
       "      <td>Emigration</td>\n",
       "      <td>NaN</td>\n",
       "    </tr>\n",
       "    <tr>\n",
       "      <th>122</th>\n",
       "      <td>1988</td>\n",
       "      <td>All countries</td>\n",
       "      <td>Male</td>\n",
       "      <td>Immigration</td>\n",
       "      <td>NaN</td>\n",
       "    </tr>\n",
       "    <tr>\n",
       "      <th>124</th>\n",
       "      <td>1988</td>\n",
       "      <td>All countries</td>\n",
       "      <td>Female</td>\n",
       "      <td>Emigration</td>\n",
       "      <td>NaN</td>\n",
       "    </tr>\n",
       "    <tr>\n",
       "      <th>125</th>\n",
       "      <td>1988</td>\n",
       "      <td>All countries</td>\n",
       "      <td>Female</td>\n",
       "      <td>Immigration</td>\n",
       "      <td>NaN</td>\n",
       "    </tr>\n",
       "    <tr>\n",
       "      <th>193</th>\n",
       "      <td>1989</td>\n",
       "      <td>All countries</td>\n",
       "      <td>Male</td>\n",
       "      <td>Emigration</td>\n",
       "      <td>NaN</td>\n",
       "    </tr>\n",
       "    <tr>\n",
       "      <th>194</th>\n",
       "      <td>1989</td>\n",
       "      <td>All countries</td>\n",
       "      <td>Male</td>\n",
       "      <td>Immigration</td>\n",
       "      <td>NaN</td>\n",
       "    </tr>\n",
       "    <tr>\n",
       "      <th>196</th>\n",
       "      <td>1989</td>\n",
       "      <td>All countries</td>\n",
       "      <td>Female</td>\n",
       "      <td>Emigration</td>\n",
       "      <td>NaN</td>\n",
       "    </tr>\n",
       "    <tr>\n",
       "      <th>197</th>\n",
       "      <td>1989</td>\n",
       "      <td>All countries</td>\n",
       "      <td>Female</td>\n",
       "      <td>Immigration</td>\n",
       "      <td>NaN</td>\n",
       "    </tr>\n",
       "    <tr>\n",
       "      <th>265</th>\n",
       "      <td>1990</td>\n",
       "      <td>All countries</td>\n",
       "      <td>Male</td>\n",
       "      <td>Emigration</td>\n",
       "      <td>NaN</td>\n",
       "    </tr>\n",
       "    <tr>\n",
       "      <th>266</th>\n",
       "      <td>1990</td>\n",
       "      <td>All countries</td>\n",
       "      <td>Male</td>\n",
       "      <td>Immigration</td>\n",
       "      <td>NaN</td>\n",
       "    </tr>\n",
       "    <tr>\n",
       "      <th>268</th>\n",
       "      <td>1990</td>\n",
       "      <td>All countries</td>\n",
       "      <td>Female</td>\n",
       "      <td>Emigration</td>\n",
       "      <td>NaN</td>\n",
       "    </tr>\n",
       "    <tr>\n",
       "      <th>269</th>\n",
       "      <td>1990</td>\n",
       "      <td>All countries</td>\n",
       "      <td>Female</td>\n",
       "      <td>Immigration</td>\n",
       "      <td>NaN</td>\n",
       "    </tr>\n",
       "    <tr>\n",
       "      <th>337</th>\n",
       "      <td>1991</td>\n",
       "      <td>All countries</td>\n",
       "      <td>Male</td>\n",
       "      <td>Emigration</td>\n",
       "      <td>NaN</td>\n",
       "    </tr>\n",
       "    <tr>\n",
       "      <th>338</th>\n",
       "      <td>1991</td>\n",
       "      <td>All countries</td>\n",
       "      <td>Male</td>\n",
       "      <td>Immigration</td>\n",
       "      <td>NaN</td>\n",
       "    </tr>\n",
       "    <tr>\n",
       "      <th>340</th>\n",
       "      <td>1991</td>\n",
       "      <td>All countries</td>\n",
       "      <td>Female</td>\n",
       "      <td>Emigration</td>\n",
       "      <td>NaN</td>\n",
       "    </tr>\n",
       "    <tr>\n",
       "      <th>341</th>\n",
       "      <td>1991</td>\n",
       "      <td>All countries</td>\n",
       "      <td>Female</td>\n",
       "      <td>Immigration</td>\n",
       "      <td>NaN</td>\n",
       "    </tr>\n",
       "  </tbody>\n",
       "</table>\n",
       "</div>"
      ],
      "text/plain": [
       "     year        country     sex migration_type  total_migration\n",
       "49   1987  All countries    Male     Emigration              NaN\n",
       "50   1987  All countries    Male    Immigration              NaN\n",
       "52   1987  All countries  Female     Emigration              NaN\n",
       "53   1987  All countries  Female    Immigration              NaN\n",
       "121  1988  All countries    Male     Emigration              NaN\n",
       "122  1988  All countries    Male    Immigration              NaN\n",
       "124  1988  All countries  Female     Emigration              NaN\n",
       "125  1988  All countries  Female    Immigration              NaN\n",
       "193  1989  All countries    Male     Emigration              NaN\n",
       "194  1989  All countries    Male    Immigration              NaN\n",
       "196  1989  All countries  Female     Emigration              NaN\n",
       "197  1989  All countries  Female    Immigration              NaN\n",
       "265  1990  All countries    Male     Emigration              NaN\n",
       "266  1990  All countries    Male    Immigration              NaN\n",
       "268  1990  All countries  Female     Emigration              NaN\n",
       "269  1990  All countries  Female    Immigration              NaN\n",
       "337  1991  All countries    Male     Emigration              NaN\n",
       "338  1991  All countries    Male    Immigration              NaN\n",
       "340  1991  All countries  Female     Emigration              NaN\n",
       "341  1991  All countries  Female    Immigration              NaN"
      ]
     },
     "execution_count": 71,
     "metadata": {},
     "output_type": "execute_result"
    }
   ],
   "source": [
    "missing_all_countries = missing_data['country'] == 'All countries'\n",
    "missing_all_countries_data = missing_data[missing_all_countries]\n",
    "missing_all_countries_data"
   ]
  },
  {
   "cell_type": "markdown",
   "id": "88100d33",
   "metadata": {},
   "source": [
    "<summary style=\"color:DarkRed;\">\n",
    "\n",
    "**Conclusion from this:**    \n",
    "* There are no missing values for \"Net migration\" and \"Both sexes\" for \"All countries\". So, the net migration for both sexes for all countries may be interesting to look in order to identify patterns and maybe to predict Ireland's future migration. Furthermore, this data seems to be complete from 1992 onwards, which should also be a large enough dataset for a robust analysis if I so choose.\n",
    "* Data for the UK is also complete. So this is another area to potentially consider.   \n",
    "    \n",
    "    \n",
    "\n",
    "## I'm going to take the easy way out, and try to focus my analysis away from data which contains missing values. This is a conscious decision, as missing values will compromise the integrity of my dataset. Also, I want my machine learning to be as accurate as possible.\n",
    "    \n",
    "\n",
    "Out of interest, I will look at a plot of the net_migration for Australia to see how much the data varies. I'll limit this to just net migration for both sexes initially.\n",
    "</summary> \n",
    "\n",
    "\n",
    "<summary style=\"color:blue;\">\n",
    "\n",
    "    \n",
    "###### 2.6.1 A closer inspection of migration to and from Australia    \n",
    "    "
   ]
  },
  {
   "cell_type": "code",
   "execution_count": 72,
   "id": "6ca538b8",
   "metadata": {},
   "outputs": [
    {
     "data": {
      "text/html": [
       "<div>\n",
       "<style scoped>\n",
       "    .dataframe tbody tr th:only-of-type {\n",
       "        vertical-align: middle;\n",
       "    }\n",
       "\n",
       "    .dataframe tbody tr th {\n",
       "        vertical-align: top;\n",
       "    }\n",
       "\n",
       "    .dataframe thead th {\n",
       "        text-align: right;\n",
       "    }\n",
       "</style>\n",
       "<table border=\"1\" class=\"dataframe\">\n",
       "  <thead>\n",
       "    <tr style=\"text-align: right;\">\n",
       "      <th></th>\n",
       "      <th>year</th>\n",
       "      <th>country</th>\n",
       "      <th>sex</th>\n",
       "      <th>migration_type</th>\n",
       "      <th>total_migration</th>\n",
       "    </tr>\n",
       "  </thead>\n",
       "  <tbody>\n",
       "    <tr>\n",
       "      <th>27</th>\n",
       "      <td>1987</td>\n",
       "      <td>Australia</td>\n",
       "      <td>Both sexes</td>\n",
       "      <td>Net migration</td>\n",
       "      <td>NaN</td>\n",
       "    </tr>\n",
       "    <tr>\n",
       "      <th>99</th>\n",
       "      <td>1988</td>\n",
       "      <td>Australia</td>\n",
       "      <td>Both sexes</td>\n",
       "      <td>Net migration</td>\n",
       "      <td>NaN</td>\n",
       "    </tr>\n",
       "    <tr>\n",
       "      <th>171</th>\n",
       "      <td>1989</td>\n",
       "      <td>Australia</td>\n",
       "      <td>Both sexes</td>\n",
       "      <td>Net migration</td>\n",
       "      <td>NaN</td>\n",
       "    </tr>\n",
       "    <tr>\n",
       "      <th>243</th>\n",
       "      <td>1990</td>\n",
       "      <td>Australia</td>\n",
       "      <td>Both sexes</td>\n",
       "      <td>Net migration</td>\n",
       "      <td>NaN</td>\n",
       "    </tr>\n",
       "    <tr>\n",
       "      <th>315</th>\n",
       "      <td>1991</td>\n",
       "      <td>Australia</td>\n",
       "      <td>Both sexes</td>\n",
       "      <td>Net migration</td>\n",
       "      <td>NaN</td>\n",
       "    </tr>\n",
       "    <tr>\n",
       "      <th>387</th>\n",
       "      <td>1992</td>\n",
       "      <td>Australia</td>\n",
       "      <td>Both sexes</td>\n",
       "      <td>Net migration</td>\n",
       "      <td>NaN</td>\n",
       "    </tr>\n",
       "    <tr>\n",
       "      <th>459</th>\n",
       "      <td>1993</td>\n",
       "      <td>Australia</td>\n",
       "      <td>Both sexes</td>\n",
       "      <td>Net migration</td>\n",
       "      <td>NaN</td>\n",
       "    </tr>\n",
       "    <tr>\n",
       "      <th>531</th>\n",
       "      <td>1994</td>\n",
       "      <td>Australia</td>\n",
       "      <td>Both sexes</td>\n",
       "      <td>Net migration</td>\n",
       "      <td>NaN</td>\n",
       "    </tr>\n",
       "    <tr>\n",
       "      <th>603</th>\n",
       "      <td>1995</td>\n",
       "      <td>Australia</td>\n",
       "      <td>Both sexes</td>\n",
       "      <td>Net migration</td>\n",
       "      <td>NaN</td>\n",
       "    </tr>\n",
       "    <tr>\n",
       "      <th>675</th>\n",
       "      <td>1996</td>\n",
       "      <td>Australia</td>\n",
       "      <td>Both sexes</td>\n",
       "      <td>Net migration</td>\n",
       "      <td>NaN</td>\n",
       "    </tr>\n",
       "    <tr>\n",
       "      <th>747</th>\n",
       "      <td>1997</td>\n",
       "      <td>Australia</td>\n",
       "      <td>Both sexes</td>\n",
       "      <td>Net migration</td>\n",
       "      <td>NaN</td>\n",
       "    </tr>\n",
       "    <tr>\n",
       "      <th>819</th>\n",
       "      <td>1998</td>\n",
       "      <td>Australia</td>\n",
       "      <td>Both sexes</td>\n",
       "      <td>Net migration</td>\n",
       "      <td>NaN</td>\n",
       "    </tr>\n",
       "    <tr>\n",
       "      <th>891</th>\n",
       "      <td>1999</td>\n",
       "      <td>Australia</td>\n",
       "      <td>Both sexes</td>\n",
       "      <td>Net migration</td>\n",
       "      <td>NaN</td>\n",
       "    </tr>\n",
       "    <tr>\n",
       "      <th>963</th>\n",
       "      <td>2000</td>\n",
       "      <td>Australia</td>\n",
       "      <td>Both sexes</td>\n",
       "      <td>Net migration</td>\n",
       "      <td>NaN</td>\n",
       "    </tr>\n",
       "    <tr>\n",
       "      <th>1035</th>\n",
       "      <td>2001</td>\n",
       "      <td>Australia</td>\n",
       "      <td>Both sexes</td>\n",
       "      <td>Net migration</td>\n",
       "      <td>NaN</td>\n",
       "    </tr>\n",
       "    <tr>\n",
       "      <th>1107</th>\n",
       "      <td>2002</td>\n",
       "      <td>Australia</td>\n",
       "      <td>Both sexes</td>\n",
       "      <td>Net migration</td>\n",
       "      <td>NaN</td>\n",
       "    </tr>\n",
       "    <tr>\n",
       "      <th>1179</th>\n",
       "      <td>2003</td>\n",
       "      <td>Australia</td>\n",
       "      <td>Both sexes</td>\n",
       "      <td>Net migration</td>\n",
       "      <td>NaN</td>\n",
       "    </tr>\n",
       "    <tr>\n",
       "      <th>1251</th>\n",
       "      <td>2004</td>\n",
       "      <td>Australia</td>\n",
       "      <td>Both sexes</td>\n",
       "      <td>Net migration</td>\n",
       "      <td>NaN</td>\n",
       "    </tr>\n",
       "    <tr>\n",
       "      <th>1323</th>\n",
       "      <td>2005</td>\n",
       "      <td>Australia</td>\n",
       "      <td>Both sexes</td>\n",
       "      <td>Net migration</td>\n",
       "      <td>NaN</td>\n",
       "    </tr>\n",
       "    <tr>\n",
       "      <th>1395</th>\n",
       "      <td>2006</td>\n",
       "      <td>Australia</td>\n",
       "      <td>Both sexes</td>\n",
       "      <td>Net migration</td>\n",
       "      <td>NaN</td>\n",
       "    </tr>\n",
       "    <tr>\n",
       "      <th>1467</th>\n",
       "      <td>2007</td>\n",
       "      <td>Australia</td>\n",
       "      <td>Both sexes</td>\n",
       "      <td>Net migration</td>\n",
       "      <td>NaN</td>\n",
       "    </tr>\n",
       "    <tr>\n",
       "      <th>1539</th>\n",
       "      <td>2008</td>\n",
       "      <td>Australia</td>\n",
       "      <td>Both sexes</td>\n",
       "      <td>Net migration</td>\n",
       "      <td>-3200.0</td>\n",
       "    </tr>\n",
       "    <tr>\n",
       "      <th>1611</th>\n",
       "      <td>2009</td>\n",
       "      <td>Australia</td>\n",
       "      <td>Both sexes</td>\n",
       "      <td>Net migration</td>\n",
       "      <td>-4000.0</td>\n",
       "    </tr>\n",
       "    <tr>\n",
       "      <th>1683</th>\n",
       "      <td>2010</td>\n",
       "      <td>Australia</td>\n",
       "      <td>Both sexes</td>\n",
       "      <td>Net migration</td>\n",
       "      <td>-3900.0</td>\n",
       "    </tr>\n",
       "    <tr>\n",
       "      <th>1755</th>\n",
       "      <td>2011</td>\n",
       "      <td>Australia</td>\n",
       "      <td>Both sexes</td>\n",
       "      <td>Net migration</td>\n",
       "      <td>-9000.0</td>\n",
       "    </tr>\n",
       "    <tr>\n",
       "      <th>1827</th>\n",
       "      <td>2012</td>\n",
       "      <td>Australia</td>\n",
       "      <td>Both sexes</td>\n",
       "      <td>Net migration</td>\n",
       "      <td>-12000.0</td>\n",
       "    </tr>\n",
       "    <tr>\n",
       "      <th>1899</th>\n",
       "      <td>2013</td>\n",
       "      <td>Australia</td>\n",
       "      <td>Both sexes</td>\n",
       "      <td>Net migration</td>\n",
       "      <td>-8100.0</td>\n",
       "    </tr>\n",
       "    <tr>\n",
       "      <th>1971</th>\n",
       "      <td>2014</td>\n",
       "      <td>Australia</td>\n",
       "      <td>Both sexes</td>\n",
       "      <td>Net migration</td>\n",
       "      <td>-3800.0</td>\n",
       "    </tr>\n",
       "    <tr>\n",
       "      <th>2043</th>\n",
       "      <td>2015</td>\n",
       "      <td>Australia</td>\n",
       "      <td>Both sexes</td>\n",
       "      <td>Net migration</td>\n",
       "      <td>-700.0</td>\n",
       "    </tr>\n",
       "    <tr>\n",
       "      <th>2115</th>\n",
       "      <td>2016</td>\n",
       "      <td>Australia</td>\n",
       "      <td>Both sexes</td>\n",
       "      <td>Net migration</td>\n",
       "      <td>1600.0</td>\n",
       "    </tr>\n",
       "    <tr>\n",
       "      <th>2187</th>\n",
       "      <td>2017</td>\n",
       "      <td>Australia</td>\n",
       "      <td>Both sexes</td>\n",
       "      <td>Net migration</td>\n",
       "      <td>3400.0</td>\n",
       "    </tr>\n",
       "    <tr>\n",
       "      <th>2259</th>\n",
       "      <td>2018</td>\n",
       "      <td>Australia</td>\n",
       "      <td>Both sexes</td>\n",
       "      <td>Net migration</td>\n",
       "      <td>3400.0</td>\n",
       "    </tr>\n",
       "    <tr>\n",
       "      <th>2331</th>\n",
       "      <td>2019</td>\n",
       "      <td>Australia</td>\n",
       "      <td>Both sexes</td>\n",
       "      <td>Net migration</td>\n",
       "      <td>0.0</td>\n",
       "    </tr>\n",
       "    <tr>\n",
       "      <th>2403</th>\n",
       "      <td>2020</td>\n",
       "      <td>Australia</td>\n",
       "      <td>Both sexes</td>\n",
       "      <td>Net migration</td>\n",
       "      <td>2200.0</td>\n",
       "    </tr>\n",
       "    <tr>\n",
       "      <th>2475</th>\n",
       "      <td>2021</td>\n",
       "      <td>Australia</td>\n",
       "      <td>Both sexes</td>\n",
       "      <td>Net migration</td>\n",
       "      <td>3300.0</td>\n",
       "    </tr>\n",
       "    <tr>\n",
       "      <th>2547</th>\n",
       "      <td>2022</td>\n",
       "      <td>Australia</td>\n",
       "      <td>Both sexes</td>\n",
       "      <td>Net migration</td>\n",
       "      <td>-800.0</td>\n",
       "    </tr>\n",
       "    <tr>\n",
       "      <th>2619</th>\n",
       "      <td>2023</td>\n",
       "      <td>Australia</td>\n",
       "      <td>Both sexes</td>\n",
       "      <td>Net migration</td>\n",
       "      <td>3000.0</td>\n",
       "    </tr>\n",
       "  </tbody>\n",
       "</table>\n",
       "</div>"
      ],
      "text/plain": [
       "      year    country         sex migration_type  total_migration\n",
       "27    1987  Australia  Both sexes  Net migration              NaN\n",
       "99    1988  Australia  Both sexes  Net migration              NaN\n",
       "171   1989  Australia  Both sexes  Net migration              NaN\n",
       "243   1990  Australia  Both sexes  Net migration              NaN\n",
       "315   1991  Australia  Both sexes  Net migration              NaN\n",
       "387   1992  Australia  Both sexes  Net migration              NaN\n",
       "459   1993  Australia  Both sexes  Net migration              NaN\n",
       "531   1994  Australia  Both sexes  Net migration              NaN\n",
       "603   1995  Australia  Both sexes  Net migration              NaN\n",
       "675   1996  Australia  Both sexes  Net migration              NaN\n",
       "747   1997  Australia  Both sexes  Net migration              NaN\n",
       "819   1998  Australia  Both sexes  Net migration              NaN\n",
       "891   1999  Australia  Both sexes  Net migration              NaN\n",
       "963   2000  Australia  Both sexes  Net migration              NaN\n",
       "1035  2001  Australia  Both sexes  Net migration              NaN\n",
       "1107  2002  Australia  Both sexes  Net migration              NaN\n",
       "1179  2003  Australia  Both sexes  Net migration              NaN\n",
       "1251  2004  Australia  Both sexes  Net migration              NaN\n",
       "1323  2005  Australia  Both sexes  Net migration              NaN\n",
       "1395  2006  Australia  Both sexes  Net migration              NaN\n",
       "1467  2007  Australia  Both sexes  Net migration              NaN\n",
       "1539  2008  Australia  Both sexes  Net migration          -3200.0\n",
       "1611  2009  Australia  Both sexes  Net migration          -4000.0\n",
       "1683  2010  Australia  Both sexes  Net migration          -3900.0\n",
       "1755  2011  Australia  Both sexes  Net migration          -9000.0\n",
       "1827  2012  Australia  Both sexes  Net migration         -12000.0\n",
       "1899  2013  Australia  Both sexes  Net migration          -8100.0\n",
       "1971  2014  Australia  Both sexes  Net migration          -3800.0\n",
       "2043  2015  Australia  Both sexes  Net migration           -700.0\n",
       "2115  2016  Australia  Both sexes  Net migration           1600.0\n",
       "2187  2017  Australia  Both sexes  Net migration           3400.0\n",
       "2259  2018  Australia  Both sexes  Net migration           3400.0\n",
       "2331  2019  Australia  Both sexes  Net migration              0.0\n",
       "2403  2020  Australia  Both sexes  Net migration           2200.0\n",
       "2475  2021  Australia  Both sexes  Net migration           3300.0\n",
       "2547  2022  Australia  Both sexes  Net migration           -800.0\n",
       "2619  2023  Australia  Both sexes  Net migration           3000.0"
      ]
     },
     "execution_count": 72,
     "metadata": {},
     "output_type": "execute_result"
    }
   ],
   "source": [
    "australia = (pop_data['country'] == 'Australia') & (pop_data['migration_type'] == 'Net migration') & (pop_data['sex'] == 'Both sexes')\n",
    "australia_data = pop_data[australia]\n",
    "\n",
    "\n",
    "australia_data"
   ]
  },
  {
   "cell_type": "markdown",
   "id": "23075d23",
   "metadata": {},
   "source": [
    "<summary style=\"color:blue;\">\n",
    "\n",
    "Not promising, as data is missing up pre-2008. This level of data relating to Australia probably wasn't collected by the CSO until then. I'll visualise the data for Australia anyway, once again out of interest. I'll drop the missing values so I can derive some statistical information as well:"
   ]
  },
  {
   "cell_type": "code",
   "execution_count": 73,
   "id": "61821e37",
   "metadata": {},
   "outputs": [],
   "source": [
    "australia_data = australia_data.dropna()"
   ]
  },
  {
   "cell_type": "code",
   "execution_count": 74,
   "id": "590c2dd5",
   "metadata": {},
   "outputs": [],
   "source": [
    "sns.lineplot(x='year', y='total_migration', data=australia_data)\n",
    "plt.axhline(y=0, color='r', linestyle='--', label='net migration = 0')\n",
    "plt.xlabel('Year')\n",
    "plt.ylabel('Net migration')\n",
    "plt.title('Net migration to and from Australia for the years 2008-2023')\n",
    "\n",
    "plt.show()"
   ]
  },
  {
   "cell_type": "code",
   "execution_count": 75,
   "id": "0faab1aa",
   "metadata": {
    "scrolled": false
   },
   "outputs": [],
   "source": [
    "# Boxplot\n",
    "sns.boxplot(data=australia_data, y='total_migration')\n",
    "plt.ylabel('Net migration')\n",
    "plt.show()\n"
   ]
  },
  {
   "cell_type": "code",
   "execution_count": 76,
   "id": "842678ee",
   "metadata": {
    "scrolled": true
   },
   "outputs": [
    {
     "data": {
      "text/plain": [
       "count       16.000000\n",
       "mean     -1787.500000\n",
       "std       4809.140602\n",
       "min     -12000.000000\n",
       "25%      -3925.000000\n",
       "50%       -750.000000\n",
       "75%       2400.000000\n",
       "max       3400.000000\n",
       "Name: total_migration, dtype: float64"
      ]
     },
     "execution_count": 76,
     "metadata": {},
     "output_type": "execute_result"
    }
   ],
   "source": [
    "australia_data['total_migration'].describe()"
   ]
  },
  {
   "cell_type": "code",
   "execution_count": 77,
   "id": "94c963f5",
   "metadata": {},
   "outputs": [
    {
     "name": "stdout",
     "output_type": "stream",
     "text": [
      "The average number of emigrants to Australia from Ireland is  8093.75 \n",
      "and the average number of immigrants from Australia to Ireland is  6306.25\n"
     ]
    }
   ],
   "source": [
    "australia_2 = (pop_data['country'] == 'Australia') & (pop_data['migration_type'] == 'Emigration') & (pop_data['sex'] == 'Both sexes')\n",
    "australia_3 = (pop_data['country'] == 'Australia') & (pop_data['migration_type'] == 'Immigration') & (pop_data['sex'] == 'Both sexes')\n",
    "\n",
    "emigrant_to_aus = pop_data[australia_2]\n",
    "immigrant_from_aus = pop_data[australia_3]\n",
    "\n",
    "#emigrant_to_aus\n",
    "#immigrant_from_aus      # checking to see if NaN values are pre-2008 - they are, so I can drop missing values\n",
    "\n",
    "emigrant_to_aus = emigrant_to_aus.dropna()\n",
    "immigrant_from_aus = immigrant_from_aus.dropna()\n",
    "\n",
    "print(\"The average number of emigrants to Australia from Ireland is \", emigrant_to_aus['total_migration'].mean(), '\\nand the average number of immigrants from Australia to Ireland is ', immigrant_from_aus['total_migration'].mean())"
   ]
  },
  {
   "cell_type": "markdown",
   "id": "846ce351",
   "metadata": {},
   "source": [
    "<summary style=\"color:DarkRed;\">\n",
    "\n",
    "#### Analysis of the above:\n",
    "\n",
    "There is only data available that covers the period April of 2007 (reported as 2008) until April of 2023 (Reported as 2023). \n",
    "\n",
    "For ease of interpreting, a line has been added to the lineplot which indicates where net migration would = 0. This better visualises how immigration from Ireland is on the rise after so much emigration from the period 2008-2012. Given the amount that emigrated, this increase in net migration is likely people returning to Ireland. This is interesting, as it shows the cyclical nature of migration/\n",
    "    \n",
    "However, this brief glimpse doesn't capture the total number of migrants to/from Ireland, so I included the print statements. This information isn't significant unless I look at similar data related other countries."
   ]
  },
  {
   "cell_type": "markdown",
   "id": "b12c971c",
   "metadata": {},
   "source": [
    "<summary style=\"color:blue;\">\n",
    "\n",
    "# 3. Continuing inspection of the dataset's features   \n",
    "    \n",
    "</summary>\n",
    "\n",
    "I've been learning Python on Codecademy.com, and one of the concepts covered was boolean masks, so I made use of that knowledge for this task. These work by assigning each row with a true or false based on whether or not a condition is true (i.e. in this case, if the data refers to net migration, and then for both sexes). Then I can create a new dataframe with this info. I also used this approach in Section 2.6 and 2.6.1. **To address missing values, I decided in Section 2.6 that I would ignore missing values instead of deleting any data with NaN values, and focus my anlaysis on areas where there is a complete set of data available.**\n",
    "    "
   ]
  },
  {
   "cell_type": "markdown",
   "id": "bd633093",
   "metadata": {},
   "source": [
    "<summary style=\"color:blue;\">\n",
    "\n",
    "###### 3.1 Looking at the values I suspect are the sum of the other values in their respective columns:\n",
    "\n",
    "###### 3.1.1 \"All countries\"    \n",
    "</summary>\n",
    "\n",
    "Concerned about \"All countries\" under the Country column, is it a total? \n",
    "First, I created a new dataframe called `checking_pop_data` to isolate the data for a particular year, choosing a recent year as the data is most likely to have no missing values. But, I still ran `.info()` to confirm.     \n",
    "    "
   ]
  },
  {
   "cell_type": "markdown",
   "id": "59a8798c",
   "metadata": {},
   "source": [
    "<details>\n",
    "    <summary style=\"display:list-item; font-size:16px; color:blue;\"><i>Failed code, for my own reference, so I don't make the same silly mistakes</i></summary>\n",
    "Below are all my failed attempts at trying to isolate the column - I realised I was overthinking it and went back to basics (in the code block below). All of these obviously failed as I wasn't sure what I was doing and was overcomplicating. \n",
    "\n",
    "\n",
    "`print((pop_data['Year'] == 2020))`\n",
    "      \n",
    "\n",
    "`for year in pop_data['Year']:`\\\n",
    "    `if year == 2020:`\\\n",
    "    `print(pop_data['Country'], pop_data['VALUE'])`\n",
    "            \n",
    "`pop_data.loc[2020:2021, 'Country':'VALUE']`\n",
    "    \n",
    "`pop_data.loc[pop_data['Year' == 2020]]`\n",
    "    \n",
    "`pop_data.loc['Year', 2020]`\n",
    "    \n",
    "\n",
    "\n",
    "</details>"
   ]
  },
  {
   "cell_type": "code",
   "execution_count": 78,
   "id": "88f0d9dd",
   "metadata": {},
   "outputs": [
    {
     "name": "stdout",
     "output_type": "stream",
     "text": [
      "<class 'pandas.core.frame.DataFrame'>\n",
      "Index: 72 entries, 2376 to 2447\n",
      "Data columns (total 5 columns):\n",
      " #   Column           Non-Null Count  Dtype   \n",
      "---  ------           --------------  -----   \n",
      " 0   year             72 non-null     int64   \n",
      " 1   country          72 non-null     object  \n",
      " 2   sex              72 non-null     object  \n",
      " 3   migration_type   72 non-null     category\n",
      " 4   total_migration  72 non-null     float64 \n",
      "dtypes: category(1), float64(1), int64(1), object(2)\n",
      "memory usage: 3.0+ KB\n"
     ]
    }
   ],
   "source": [
    "checking_pop_data = pop_data[pop_data['year'] == 2020]\n",
    "checking_pop_data.info()"
   ]
  },
  {
   "cell_type": "markdown",
   "id": "0f89a492",
   "metadata": {},
   "source": [
    "From the above, I'm happy that there's no missing values, and so I can proceed to make sure check the totals for \"All countries\" vs the total of the other countries.\n",
    "To do this, I'll loop through each country to sum the total migration value, and to compare it to the value for \"all countries\":"
   ]
  },
  {
   "cell_type": "code",
   "execution_count": 79,
   "id": "81569a05",
   "metadata": {},
   "outputs": [
    {
     "name": "stdout",
     "output_type": "stream",
     "text": [
      "Sum for selected countries: 382400.0\n",
      "Sum for 'all countries': 382400.0\n"
     ]
    }
   ],
   "source": [
    "Countries = ['UK', 'US', 'Canada', 'Australia', 'Other countries', 'EU14 (Excl UK, IRE)', 'EU15 to EU27']\n",
    "\n",
    "sum_countries = 0\n",
    "sum_all_countries = 0\n",
    "\n",
    "\n",
    "for index, row in checking_pop_data.iterrows():\n",
    "    if row['country'] in Countries:\n",
    "        sum_countries += row['total_migration']\n",
    "    elif row['country'] == 'All countries':\n",
    "        sum_all_countries += row['total_migration']\n",
    "        \n",
    "print(\"Sum for selected countries:\", sum_countries)\n",
    "print(\"Sum for 'all countries':\", sum_all_countries)"
   ]
  },
  {
   "cell_type": "markdown",
   "id": "52646fc9",
   "metadata": {},
   "source": [
    "I'm satisfied that this confirms that the data for \"All countries\" is the sum of all of the other countries in the dataset.\n",
    "    \n",
    "To explain the loop I wrote, I first defined two variables to store the sum of the total_migration values for both \"All countries\" and all of the other countries. Then, I used `.iterrows()` from pandas to iterate through each row. I was inspired by the answer to <a href=\"https://stackoverflow.com/questions/16476924/how-to-iterate-over-rows-in-a-dataframe-in-pandas\">this post</a>  on stackoverflow, and added my own code after it."
   ]
  },
  {
   "cell_type": "markdown",
   "id": "43c7f48a",
   "metadata": {},
   "source": [
    "<summary style=\"color:blue;\">\n",
    "\n",
    "###### 3.1.2 \"Both sexes\" \n",
    "\n",
    "The same as above, but I'm checking to see if \"Both sexes\" is the sum of the \"Male\" and \"Female\" migration count. (Safe to assume yes, but better safe than sorry). I'm just going to adapt the code above:"
   ]
  },
  {
   "cell_type": "code",
   "execution_count": 80,
   "id": "b58bed9e",
   "metadata": {},
   "outputs": [
    {
     "name": "stdout",
     "output_type": "stream",
     "text": [
      "Sum for individual sexes: 382400.0\n",
      "Sum for both sexes: 382400.0\n"
     ]
    }
   ],
   "source": [
    "sexes = ['Male', 'Female']\n",
    "\n",
    "individual_sexes = 0\n",
    "both_sexes = 0\n",
    "\n",
    "\n",
    "for index, row in checking_pop_data.iterrows():\n",
    "    if row['sex'] in sexes:\n",
    "        individual_sexes += row['total_migration']\n",
    "    elif row['sex'] == 'Both sexes':\n",
    "        both_sexes += row['total_migration']\n",
    "        \n",
    "print(\"Sum for individual sexes:\", individual_sexes)\n",
    "print(\"Sum for both sexes:\", both_sexes)"
   ]
  },
  {
   "cell_type": "markdown",
   "id": "01a5030f",
   "metadata": {},
   "source": [
    "<summary style=\"color:blue;\">\n",
    "    \n",
    "Although I could've done this by simply looking at the dataset, as there's fewer rows to count. I'm going to manually take the UK net migration values for Both sexes, male, and female."
   ]
  },
  {
   "cell_type": "code",
   "execution_count": 81,
   "id": "3f34373d",
   "metadata": {},
   "outputs": [
    {
     "data": {
      "text/html": [
       "<div>\n",
       "<style scoped>\n",
       "    .dataframe tbody tr th:only-of-type {\n",
       "        vertical-align: middle;\n",
       "    }\n",
       "\n",
       "    .dataframe tbody tr th {\n",
       "        vertical-align: top;\n",
       "    }\n",
       "\n",
       "    .dataframe thead th {\n",
       "        text-align: right;\n",
       "    }\n",
       "</style>\n",
       "<table border=\"1\" class=\"dataframe\">\n",
       "  <thead>\n",
       "    <tr style=\"text-align: right;\">\n",
       "      <th></th>\n",
       "      <th>year</th>\n",
       "      <th>country</th>\n",
       "      <th>sex</th>\n",
       "      <th>migration_type</th>\n",
       "      <th>total_migration</th>\n",
       "    </tr>\n",
       "  </thead>\n",
       "  <tbody>\n",
       "    <tr>\n",
       "      <th>2376</th>\n",
       "      <td>2020</td>\n",
       "      <td>UK</td>\n",
       "      <td>Both sexes</td>\n",
       "      <td>Net migration</td>\n",
       "      <td>7900.0</td>\n",
       "    </tr>\n",
       "    <tr>\n",
       "      <th>2377</th>\n",
       "      <td>2020</td>\n",
       "      <td>UK</td>\n",
       "      <td>Both sexes</td>\n",
       "      <td>Emigration</td>\n",
       "      <td>9700.0</td>\n",
       "    </tr>\n",
       "    <tr>\n",
       "      <th>2378</th>\n",
       "      <td>2020</td>\n",
       "      <td>UK</td>\n",
       "      <td>Both sexes</td>\n",
       "      <td>Immigration</td>\n",
       "      <td>17600.0</td>\n",
       "    </tr>\n",
       "    <tr>\n",
       "      <th>2379</th>\n",
       "      <td>2020</td>\n",
       "      <td>UK</td>\n",
       "      <td>Male</td>\n",
       "      <td>Net migration</td>\n",
       "      <td>3900.0</td>\n",
       "    </tr>\n",
       "    <tr>\n",
       "      <th>2380</th>\n",
       "      <td>2020</td>\n",
       "      <td>UK</td>\n",
       "      <td>Male</td>\n",
       "      <td>Emigration</td>\n",
       "      <td>4500.0</td>\n",
       "    </tr>\n",
       "    <tr>\n",
       "      <th>2381</th>\n",
       "      <td>2020</td>\n",
       "      <td>UK</td>\n",
       "      <td>Male</td>\n",
       "      <td>Immigration</td>\n",
       "      <td>8400.0</td>\n",
       "    </tr>\n",
       "    <tr>\n",
       "      <th>2382</th>\n",
       "      <td>2020</td>\n",
       "      <td>UK</td>\n",
       "      <td>Female</td>\n",
       "      <td>Net migration</td>\n",
       "      <td>4000.0</td>\n",
       "    </tr>\n",
       "    <tr>\n",
       "      <th>2383</th>\n",
       "      <td>2020</td>\n",
       "      <td>UK</td>\n",
       "      <td>Female</td>\n",
       "      <td>Emigration</td>\n",
       "      <td>5200.0</td>\n",
       "    </tr>\n",
       "    <tr>\n",
       "      <th>2384</th>\n",
       "      <td>2020</td>\n",
       "      <td>UK</td>\n",
       "      <td>Female</td>\n",
       "      <td>Immigration</td>\n",
       "      <td>9200.0</td>\n",
       "    </tr>\n",
       "    <tr>\n",
       "      <th>2385</th>\n",
       "      <td>2020</td>\n",
       "      <td>US</td>\n",
       "      <td>Both sexes</td>\n",
       "      <td>Net migration</td>\n",
       "      <td>700.0</td>\n",
       "    </tr>\n",
       "  </tbody>\n",
       "</table>\n",
       "</div>"
      ],
      "text/plain": [
       "      year country         sex migration_type  total_migration\n",
       "2376  2020      UK  Both sexes  Net migration           7900.0\n",
       "2377  2020      UK  Both sexes     Emigration           9700.0\n",
       "2378  2020      UK  Both sexes    Immigration          17600.0\n",
       "2379  2020      UK        Male  Net migration           3900.0\n",
       "2380  2020      UK        Male     Emigration           4500.0\n",
       "2381  2020      UK        Male    Immigration           8400.0\n",
       "2382  2020      UK      Female  Net migration           4000.0\n",
       "2383  2020      UK      Female     Emigration           5200.0\n",
       "2384  2020      UK      Female    Immigration           9200.0\n",
       "2385  2020      US  Both sexes  Net migration            700.0"
      ]
     },
     "execution_count": 81,
     "metadata": {},
     "output_type": "execute_result"
    }
   ],
   "source": [
    "checking_pop_data.head(10)"
   ]
  },
  {
   "cell_type": "code",
   "execution_count": 82,
   "id": "542f29e2",
   "metadata": {},
   "outputs": [
    {
     "name": "stdout",
     "output_type": "stream",
     "text": [
      "Sum for individual sexes: 7900\n",
      "Sum for both sexes: 7900\n"
     ]
    }
   ],
   "source": [
    "individual_sexes = 3900 + 4000\n",
    "both_sexes = 7900\n",
    "\n",
    "print(\"Sum for individual sexes:\", individual_sexes)\n",
    "print(\"Sum for both sexes:\", both_sexes)"
   ]
  },
  {
   "cell_type": "markdown",
   "id": "84ca3200",
   "metadata": {},
   "source": [
    "<summary style=\"color:blue;\">\n",
    "\n",
    "This is confirmation that both sexes is the sum of the values for male and female."
   ]
  },
  {
   "cell_type": "markdown",
   "id": "335534cb",
   "metadata": {},
   "source": [
    "<summary style=\"color:blue;\">\n",
    "\n",
    "###### 3.2 Looking at migration vs sex\n",
    "\n",
    "</summary>    \n",
    "    \n",
    "Initial thoughts and overview: This dataset is a count of the total number of emigrants and immigrants in any given year, to and from a given county. It's a bit inconvenient to have the net migration plus the number of immigrants and emigrants in the same column I think, but I should be able to find a work around without making additional unnecessary columns. But first, I want to make use of the three types of `migration_type` and visualise them.\n",
    "    \n",
    "I was doing this manually in the subsections below, but I was repeating a lot of code so I decided to attempt to write a function to clean it up a bit. I left _Section 4.1.1_ as it is so I can compare the output from my function to it, and then I can speed up the rest of the comparisons. This will be useful as there's countless ways I could explore my data, so being able to isolate it quickly and easily will be beneficial.\n",
    "     \n"
   ]
  },
  {
   "cell_type": "code",
   "execution_count": 83,
   "id": "5e106119",
   "metadata": {},
   "outputs": [],
   "source": [
    "def filter_migration(dataframe, sex_to_filter, migration_type_to_filter, countries_to_filter):\n",
    "    specific_sex = dataframe[\"sex\"].isin(sex_to_filter)\n",
    "    specific_migration_type = dataframe[\"migration_type\"].isin(migration_type_to_filter)\n",
    "    specific_countries = dataframe[\"country\"].isin(countries_to_filter)\n",
    "    filtered_data = (dataframe[specific_sex & specific_migration_type & specific_countries])\n",
    "    return filtered_data"
   ]
  },
  {
   "cell_type": "markdown",
   "id": "a09136fa",
   "metadata": {},
   "source": [
    "<summary style=\"color:blue;\">\n",
    "\n",
    "###### 3.2.1 Looking at Net Migration for Both Sexes\n",
    "\n",
    "</summary>\n",
    "\n",
    "The first area that I'll focus on is \"Net migration\" for each country. While I'd rather look at the \"all countries\" value first, I'd like to try to validate my function, as looking at all countries is a little more complicated given all the strings for `country` that I'll have to include when calling the function. \n",
    "    \n",
    "First, I will test my function, and save it to a variable `net_migration_both_sexes`, and then create a dataframe manually to ensure the function is working okay:"
   ]
  },
  {
   "cell_type": "code",
   "execution_count": 86,
   "id": "1572baef",
   "metadata": {},
   "outputs": [
    {
     "name": "stdout",
     "output_type": "stream",
     "text": [
      "<class 'pandas.core.frame.DataFrame'>\n",
      "Index: 259 entries, 0 to 2655\n",
      "Data columns (total 5 columns):\n",
      " #   Column           Non-Null Count  Dtype   \n",
      "---  ------           --------------  -----   \n",
      " 0   year             259 non-null    int64   \n",
      " 1   country          259 non-null    object  \n",
      " 2   sex              259 non-null    object  \n",
      " 3   migration_type   259 non-null    category\n",
      " 4   total_migration  199 non-null    float64 \n",
      "dtypes: category(1), float64(1), int64(1), object(2)\n",
      "memory usage: 10.5+ KB\n"
     ]
    }
   ],
   "source": [
    "# creating the dataset using the function\n",
    "\n",
    "net_migration_both_sexes = filter_migration(pop_data, sex_to_filter=[\"Both sexes\"], \n",
    "                                            migration_type_to_filter=[\"Net migration\"], \n",
    "                                            countries_to_filter = ['UK','US','Canada','Australia','Other countries','EU14 (Excl UK, IRE)','EU15 to EU27'])\n",
    "\n",
    "#net_migration_both_sexes.head()\n",
    "#net_migration_both_sexes.info()"
   ]
  },
  {
   "cell_type": "code",
   "execution_count": 85,
   "id": "275f2210",
   "metadata": {},
   "outputs": [],
   "source": [
    "# creating the dataset manually\n",
    "\n",
    "net_migration = (pop_data[\"migration_type\"] == \"Net migration\")  \n",
    "both_sexes = (pop_data[\"sex\"] == \"Both sexes\") \n",
    "countries_for_inclusion = (pop_data[\"country\"] != \"All countries\") \n",
    "net_migration_both_sexes_manual = pop_data[net_migration & both_sexes & countries_for_inclusion]\n",
    "\n",
    "#net_migration_both_sexes_manual.head()\n",
    "#net_migration_both_sexes_manual.info()"
   ]
  },
  {
   "cell_type": "markdown",
   "id": "df3b6f09",
   "metadata": {},
   "source": [
    "There's probably no need to reset the index using `.reset_index()` on the output, but I may change my mind later. I used .info() and /head() to verify the output, and noting the number of rows etc. Creating the dataframe manually to ensure my function works okay is probably unnecessary as I'm using similar code, but I would prefer to be safe than sorry.\n",
    "    \n",
    "They seem similar, but I'll use `.equals()` to checks if the two datasets are identical based on the output (either True or False): <a href=\"https://towardsdatascience.com/3-easy-ways-to-compare-two-pandas-dataframes-b2a18169c876#:~:text=Compare%20Pandas%20DataFrames%20using%20equals(),-Pandas%20offer%20an&text=DataFrame.,data%20at%20the%20same%20position.\">source</a>    "
   ]
  },
  {
   "cell_type": "code",
   "execution_count": 47,
   "id": "dd51c987",
   "metadata": {},
   "outputs": [
    {
     "data": {
      "text/plain": [
       "True"
      ]
     },
     "execution_count": 47,
     "metadata": {},
     "output_type": "execute_result"
    }
   ],
   "source": [
    "net_migration_both_sexes.equals(net_migration_both_sexes_manual)"
   ]
  },
  {
   "cell_type": "markdown",
   "id": "86c036c3",
   "metadata": {},
   "source": [
    "<summary style=\"color:darkred;\"> \n",
    "\n",
    "I'm satisfied that my formula works, so I'll apply it in subsequent subsections when filtering data."
   ]
  },
  {
   "cell_type": "markdown",
   "id": "0045da20",
   "metadata": {},
   "source": [
    "As I'm only visualising the data to get a broad look at it, I will just drop all the missing values instead of limiting the range from 2008 to present (as I discovered in section 2.6 that there were no missing values after 2007)."
   ]
  },
  {
   "cell_type": "code",
   "execution_count": 89,
   "id": "ae63073d",
   "metadata": {},
   "outputs": [
    {
     "name": "stdout",
     "output_type": "stream",
     "text": [
      "<class 'pandas.core.frame.DataFrame'>\n",
      "Index: 199 entries, 0 to 2655\n",
      "Data columns (total 5 columns):\n",
      " #   Column           Non-Null Count  Dtype   \n",
      "---  ------           --------------  -----   \n",
      " 0   year             199 non-null    int64   \n",
      " 1   country          199 non-null    object  \n",
      " 2   sex              199 non-null    object  \n",
      " 3   migration_type   199 non-null    category\n",
      " 4   total_migration  199 non-null    float64 \n",
      "dtypes: category(1), float64(1), int64(1), object(2)\n",
      "memory usage: 8.1+ KB\n"
     ]
    }
   ],
   "source": [
    "net_migration_both_sexes = net_migration_both_sexes.dropna()\n",
    "net_migration_both_sexes.info()"
   ]
  },
  {
   "cell_type": "code",
   "execution_count": null,
   "id": "6c71ee93",
   "metadata": {},
   "outputs": [],
   "source": []
  },
  {
   "cell_type": "markdown",
   "id": "7e4e0978",
   "metadata": {},
   "source": [
    "***Analysis of the above data visualisation etc, include that here. Maybe build it into the function?***"
   ]
  },
  {
   "cell_type": "markdown",
   "id": "81522084",
   "metadata": {},
   "source": [
    "<summary style=\"color:blue;\">\n",
    "\n",
    "###### 3.2.2 Looking at Net Migration for all countries overall for both sexes.\n",
    "\n",
    "</summary>    \n",
    "    \n",
    "I'll use the total values, `'All countries'` and `'Both sexes'`, to get a glimpse at how the data looks overall.\n",
    "First, I'll call the function to filter the data and move it to a new dataframe. Then, I'll derive some summary statistics.    \n"
   ]
  },
  {
   "cell_type": "code",
   "execution_count": 97,
   "id": "309b1943",
   "metadata": {},
   "outputs": [],
   "source": [
    "overall_net_migration = filter_migration(pop_data, sex_to_filter=[\"Both sexes\"], \n",
    "                                            migration_type_to_filter=[\"Net migration\"], \n",
    "                                            countries_to_filter = ['All countries'])\n",
    "\n",
    "#overall_net_migration.head()\n",
    "#overall_net_migration.info() # there are no missing values"
   ]
  },
  {
   "cell_type": "markdown",
   "id": "de123352",
   "metadata": {},
   "source": [
    "<summary style=\"color:blue;\">\n",
    "\n",
    "- ***3.2.2.1 Descriptive analysis of the net migration for all countries for both sexes***\n",
    "    \n",
    "</summary>\n",
    "\n",
    "This is the first meaningful statistic that has been derived, as there's no missing values, and no additional summary values that skew the `total_migration` values. Also, there's no need to call `.describe(include='object')` as there's nothing additional that can be derived for the other variables, as there's only one unique value for each. \n",
    "    \n",
    "The first thing I've noticed is that the mean is similar to the median (16941 vs 17300), but it's not identical and is slightly skewed. I can use a histogram to visualise this.\n",
    "The data ranges from -43900 to 104800.\n",
    "Also, the standard deviation is large, which suggests a high variability.\n",
    "Out of sheer interest, I would like to see which row had such a high migration;        "
   ]
  },
  {
   "cell_type": "code",
   "execution_count": 98,
   "id": "fd92e07e",
   "metadata": {
    "scrolled": true
   },
   "outputs": [
    {
     "data": {
      "text/html": [
       "<div>\n",
       "<style scoped>\n",
       "    .dataframe tbody tr th:only-of-type {\n",
       "        vertical-align: middle;\n",
       "    }\n",
       "\n",
       "    .dataframe tbody tr th {\n",
       "        vertical-align: top;\n",
       "    }\n",
       "\n",
       "    .dataframe thead th {\n",
       "        text-align: right;\n",
       "    }\n",
       "</style>\n",
       "<table border=\"1\" class=\"dataframe\">\n",
       "  <thead>\n",
       "    <tr style=\"text-align: right;\">\n",
       "      <th></th>\n",
       "      <th>year</th>\n",
       "      <th>total_migration</th>\n",
       "    </tr>\n",
       "  </thead>\n",
       "  <tbody>\n",
       "    <tr>\n",
       "      <th>count</th>\n",
       "      <td>37.000000</td>\n",
       "      <td>37.000000</td>\n",
       "    </tr>\n",
       "    <tr>\n",
       "      <th>mean</th>\n",
       "      <td>2005.000000</td>\n",
       "      <td>16940.540541</td>\n",
       "    </tr>\n",
       "    <tr>\n",
       "      <th>std</th>\n",
       "      <td>10.824355</td>\n",
       "      <td>34755.802549</td>\n",
       "    </tr>\n",
       "    <tr>\n",
       "      <th>min</th>\n",
       "      <td>1987.000000</td>\n",
       "      <td>-43900.000000</td>\n",
       "    </tr>\n",
       "    <tr>\n",
       "      <th>25%</th>\n",
       "      <td>1996.000000</td>\n",
       "      <td>-4700.000000</td>\n",
       "    </tr>\n",
       "    <tr>\n",
       "      <th>50%</th>\n",
       "      <td>2005.000000</td>\n",
       "      <td>17300.000000</td>\n",
       "    </tr>\n",
       "    <tr>\n",
       "      <th>75%</th>\n",
       "      <td>2014.000000</td>\n",
       "      <td>41300.000000</td>\n",
       "    </tr>\n",
       "    <tr>\n",
       "      <th>max</th>\n",
       "      <td>2023.000000</td>\n",
       "      <td>104800.000000</td>\n",
       "    </tr>\n",
       "  </tbody>\n",
       "</table>\n",
       "</div>"
      ],
      "text/plain": [
       "              year  total_migration\n",
       "count    37.000000        37.000000\n",
       "mean   2005.000000     16940.540541\n",
       "std      10.824355     34755.802549\n",
       "min    1987.000000    -43900.000000\n",
       "25%    1996.000000     -4700.000000\n",
       "50%    2005.000000     17300.000000\n",
       "75%    2014.000000     41300.000000\n",
       "max    2023.000000    104800.000000"
      ]
     },
     "execution_count": 98,
     "metadata": {},
     "output_type": "execute_result"
    }
   ],
   "source": [
    "overall_net_migration.describe()"
   ]
  },
  {
   "cell_type": "code",
   "execution_count": 101,
   "id": "2303b71d",
   "metadata": {},
   "outputs": [
    {
     "name": "stdout",
     "output_type": "stream",
     "text": [
      "Highest level of migration into Ireland:\n",
      "       year        country         sex migration_type  total_migration\n",
      "1485  2007  All countries  Both sexes  Net migration         104800.0 \n",
      "\n",
      "Highest level of migration from Ireland:\n",
      "      year        country         sex migration_type  total_migration\n",
      "189  1989  All countries  Both sexes  Net migration         -43900.0\n"
     ]
    }
   ],
   "source": [
    "max_value = overall_net_migration[overall_net_migration['total_migration'] == overall_net_migration['total_migration'].max()]\n",
    "min_value = overall_net_migration[overall_net_migration['total_migration'] == overall_net_migration['total_migration'].min()]\n",
    "print(\"Highest level of migration into Ireland:\\n\", max_value, \"\\n\")\n",
    "print(\"Highest level of migration from Ireland:\\n\", min_value)"
   ]
  },
  {
   "cell_type": "markdown",
   "id": "38b7181b",
   "metadata": {},
   "source": [
    "The year that the most migrated into Ireland is interesting - particularly as 2007 is just before the recession? Might look into this further later or discuss _briefly_ in the report?\n",
    "    \n",
    "Back to the original task: I should plot a histogram to see the distribution of overall_net_migration. I'll do this using the seaborn package, as it's easier to work with than matplotlib. When I first called the below code, I didn't include the number of bins, but I wanted to experiment with different numbers to see how the plot changed, particularly to unearth any multimodality. I then did some research to find the best number of bins, and noted the \"square root rule\", so I included that below as an afterthought:"
   ]
  },
  {
   "cell_type": "code",
   "execution_count": 103,
   "id": "1ecc7a96",
   "metadata": {
    "scrolled": false
   },
   "outputs": [
    {
     "name": "stdout",
     "output_type": "stream",
     "text": [
      "Axes(0.125,0.11;0.775x0.77)\n"
     ]
    }
   ],
   "source": [
    "n_bins = int(np.sqrt(len(overall_net_migration)))\n",
    "\n",
    "overall_net_migration_hist = sns.distplot(overall_net_migration['total_migration'], bins=n_bins, kde=False);\n",
    "overall_net_migration_hist.set(title='Histogram for the net migration in and out of Ireland, for the period 1987-2023')\n"
   ]
  },
  {
   "cell_type": "markdown",
   "id": "c9d16a7e",
   "metadata": {},
   "source": [
    "<summary style=\"color:blue;\">\n",
    "\n",
    "But then I got curious and continued looking at other methods.. Maybe explore these and then move them into an accordian filter thing.\n",
    "    "
   ]
  },
  {
   "cell_type": "code",
   "execution_count": null,
   "id": "678e4098",
   "metadata": {},
   "outputs": [],
   "source": []
  },
  {
   "cell_type": "code",
   "execution_count": null,
   "id": "96252fb5",
   "metadata": {},
   "outputs": [],
   "source": []
  },
  {
   "cell_type": "markdown",
   "id": "dec616c1",
   "metadata": {},
   "source": [
    "<summary style=\"color:blue;\">\n",
    "\n",
    "###### 3.2.2 Looking at net migration for all countries overall for each sex.\n",
    "\n",
    "</summary>  "
   ]
  },
  {
   "cell_type": "code",
   "execution_count": 90,
   "id": "fcfd6647",
   "metadata": {},
   "outputs": [
    {
     "data": {
      "text/html": [
       "<div>\n",
       "<style scoped>\n",
       "    .dataframe tbody tr th:only-of-type {\n",
       "        vertical-align: middle;\n",
       "    }\n",
       "\n",
       "    .dataframe tbody tr th {\n",
       "        vertical-align: top;\n",
       "    }\n",
       "\n",
       "    .dataframe thead th {\n",
       "        text-align: right;\n",
       "    }\n",
       "</style>\n",
       "<table border=\"1\" class=\"dataframe\">\n",
       "  <thead>\n",
       "    <tr style=\"text-align: right;\">\n",
       "      <th></th>\n",
       "      <th>year</th>\n",
       "      <th>country</th>\n",
       "      <th>sex</th>\n",
       "      <th>migration_type</th>\n",
       "      <th>total_migration</th>\n",
       "    </tr>\n",
       "  </thead>\n",
       "  <tbody>\n",
       "    <tr>\n",
       "      <th>0</th>\n",
       "      <td>1987</td>\n",
       "      <td>UK</td>\n",
       "      <td>Both sexes</td>\n",
       "      <td>Net migration</td>\n",
       "      <td>-13700.0</td>\n",
       "    </tr>\n",
       "    <tr>\n",
       "      <th>9</th>\n",
       "      <td>1987</td>\n",
       "      <td>US</td>\n",
       "      <td>Both sexes</td>\n",
       "      <td>Net migration</td>\n",
       "      <td>-6900.0</td>\n",
       "    </tr>\n",
       "    <tr>\n",
       "      <th>36</th>\n",
       "      <td>1987</td>\n",
       "      <td>Other countries</td>\n",
       "      <td>Both sexes</td>\n",
       "      <td>Net migration</td>\n",
       "      <td>-1400.0</td>\n",
       "    </tr>\n",
       "    <tr>\n",
       "      <th>54</th>\n",
       "      <td>1987</td>\n",
       "      <td>EU14 (Excl UK, IRE)</td>\n",
       "      <td>Both sexes</td>\n",
       "      <td>Net migration</td>\n",
       "      <td>-900.0</td>\n",
       "    </tr>\n",
       "    <tr>\n",
       "      <th>72</th>\n",
       "      <td>1988</td>\n",
       "      <td>UK</td>\n",
       "      <td>Both sexes</td>\n",
       "      <td>Net migration</td>\n",
       "      <td>-30300.0</td>\n",
       "    </tr>\n",
       "  </tbody>\n",
       "</table>\n",
       "</div>"
      ],
      "text/plain": [
       "    year              country         sex migration_type  total_migration\n",
       "0   1987                   UK  Both sexes  Net migration         -13700.0\n",
       "9   1987                   US  Both sexes  Net migration          -6900.0\n",
       "36  1987      Other countries  Both sexes  Net migration          -1400.0\n",
       "54  1987  EU14 (Excl UK, IRE)  Both sexes  Net migration           -900.0\n",
       "72  1988                   UK  Both sexes  Net migration         -30300.0"
      ]
     },
     "execution_count": 90,
     "metadata": {},
     "output_type": "execute_result"
    }
   ],
   "source": [
    "#this is for looking a countries individually for each country \n",
    "net_migration_individual_sex = filter_migration(pop_data, sex_to_filter=[\"Male\", \"Female\"], \n",
    "                                                migration_type_to_filter=[\"Net migration\"], \n",
    "                                                countries_to_filter = ['UK','US','Canada','Australia','Other countries','EU14 (Excl UK, IRE)','EU15 to EU27'])\n",
    "\n",
    "net_migration_both_sexes.head()"
   ]
  },
  {
   "cell_type": "code",
   "execution_count": null,
   "id": "a6597e58",
   "metadata": {},
   "outputs": [],
   "source": []
  },
  {
   "cell_type": "markdown",
   "id": "44bce3a2",
   "metadata": {},
   "source": [
    "<summary style=\"color:blue;\">\n",
    "    \n",
    "# 4. Statistical analysis"
   ]
  },
  {
   "cell_type": "code",
   "execution_count": null,
   "id": "c913a84a",
   "metadata": {},
   "outputs": [],
   "source": []
  },
  {
   "cell_type": "code",
   "execution_count": null,
   "id": "9397916a",
   "metadata": {},
   "outputs": [],
   "source": [
    "# Net migration for both sexes:\n",
    "\n",
    "total_net_migration_both_sexes = (pop_data[\"sex\"]==\"Both sexes\") & (pop_data[\"country\"]==\"All countries\") & (pop_data[\"migration_type\"]=='Net migration')\n",
    "total_net_migration_both_sexes = pop_data[total_net_migration_both_sexes]\n",
    "#total_net_migration_both_sexes.info()                  # verified no missing values\n",
    "\n",
    "# UK data:\n",
    "\n",
    "UK_data = (pop_data[\"country\"]==\"UK\")\n",
    "UK_data = pop_data[UK_data]\n",
    "# UK_data.info()                  # verified no missing values\n",
    "\n"
   ]
  },
  {
   "cell_type": "code",
   "execution_count": null,
   "id": "5f2b76af",
   "metadata": {},
   "outputs": [],
   "source": []
  },
  {
   "cell_type": "code",
   "execution_count": null,
   "id": "885efd6a",
   "metadata": {},
   "outputs": [],
   "source": []
  },
  {
   "cell_type": "code",
   "execution_count": null,
   "id": "abfcaec3",
   "metadata": {},
   "outputs": [],
   "source": []
  },
  {
   "cell_type": "code",
   "execution_count": null,
   "id": "7620f200",
   "metadata": {},
   "outputs": [],
   "source": [
    "#first_graph = net_migration[['year','country', 'total_migration']]\n",
    "\n",
    "#net_migration = sns.catplot(data=first_graph, kind=\"bar\", x=\"year\", y=\"country\", height = 6, aspect = 2)"
   ]
  },
  {
   "cell_type": "code",
   "execution_count": null,
   "id": "5cd991a5",
   "metadata": {},
   "outputs": [],
   "source": [
    "#attempt_2 = sns.boxplot(x=\"country\", y=\"total_migration\", data=net_migration)"
   ]
  },
  {
   "cell_type": "code",
   "execution_count": null,
   "id": "e38e9ca9",
   "metadata": {},
   "outputs": [],
   "source": [
    "\n",
    "## this is using = a boolean mask...\n",
    "net_migration = (pop_data[\"migration_type\"] == \"Net migration\")  # assigns each row w True or False based on whether or not the data is 'Net migration\n",
    "both_sexes = (pop_data[\"sex\"] == \"Both sexes\") # Same as above, but for both sexes\n",
    "net_migration = pop_data[net_migration & both_sexes]# creates a new dataframe with just rows where net_migration was true for both sexes\n",
    "\n",
    "#net_migration.head()\n",
    "\n",
    "# Creating the opposite dataset.. figure this out?\n",
    "#not_net_migration = ~pop_data[net_migration]\n",
    "#individual_sexes = ~both_sexes\n",
    "#migration_by_sex = not_net_migration & individual_sexes #pop_data[~net_migration & ~both_sexes]"
   ]
  }
 ],
 "metadata": {
  "kernelspec": {
   "display_name": "Python 3 (ipykernel)",
   "language": "python",
   "name": "python3"
  },
  "language_info": {
   "codemirror_mode": {
    "name": "ipython",
    "version": 3
   },
   "file_extension": ".py",
   "mimetype": "text/x-python",
   "name": "python",
   "nbconvert_exporter": "python",
   "pygments_lexer": "ipython3",
   "version": "3.11.4"
  }
 },
 "nbformat": 4,
 "nbformat_minor": 5
}
