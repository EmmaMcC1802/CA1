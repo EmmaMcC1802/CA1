{
 "cells": [
  {
   "cell_type": "markdown",
   "id": "6cd16ee7",
   "metadata": {},
   "source": [
    "# Assignment 1\n",
    "**Emma McCready**\n",
    "\n",
    "---\n",
    "\n",
    "### Analysis of population over time\n",
    "\n",
    "You are required to collect, process, analyse and interpret the data in order to identify possible issues/problems at present and make predictions/classifications in regard to the future. This analysis will rely on the available data from CSO and any additional data you deem necessary (with supporting evidence) to support your hypothesis for this scenario.\n",
    "\n",
    "Areas of focus:\n",
    "* Annual Population Change\n",
    "* Population Forecasting\n"
   ]
  },
  {
   "cell_type": "markdown",
   "id": "46edd045",
   "metadata": {},
   "source": [
    "# Part one: Data prep"
   ]
  },
  {
   "cell_type": "code",
   "execution_count": 2,
   "id": "2695131f",
   "metadata": {},
   "outputs": [],
   "source": [
    "# Load in packages\n",
    "import pandas as pd\n",
    "import numpy as np\n",
    "from scipy import stats\n"
   ]
  },
  {
   "cell_type": "code",
   "execution_count": 3,
   "id": "b83e688e",
   "metadata": {
    "scrolled": true
   },
   "outputs": [
    {
     "data": {
      "text/html": [
       "<div>\n",
       "<style scoped>\n",
       "    .dataframe tbody tr th:only-of-type {\n",
       "        vertical-align: middle;\n",
       "    }\n",
       "\n",
       "    .dataframe tbody tr th {\n",
       "        vertical-align: top;\n",
       "    }\n",
       "\n",
       "    .dataframe thead th {\n",
       "        text-align: right;\n",
       "    }\n",
       "</style>\n",
       "<table border=\"1\" class=\"dataframe\">\n",
       "  <thead>\n",
       "    <tr style=\"text-align: right;\">\n",
       "      <th></th>\n",
       "      <th>STATISTIC Label</th>\n",
       "      <th>Year</th>\n",
       "      <th>Country</th>\n",
       "      <th>Sex</th>\n",
       "      <th>Origin or Destination</th>\n",
       "      <th>UNIT</th>\n",
       "      <th>VALUE</th>\n",
       "    </tr>\n",
       "  </thead>\n",
       "  <tbody>\n",
       "    <tr>\n",
       "      <th>0</th>\n",
       "      <td>Estimated Migration (Persons in April)</td>\n",
       "      <td>1987</td>\n",
       "      <td>United Kingdom (1)</td>\n",
       "      <td>Both sexes</td>\n",
       "      <td>Net migration</td>\n",
       "      <td>Thousand</td>\n",
       "      <td>-13.7</td>\n",
       "    </tr>\n",
       "    <tr>\n",
       "      <th>1</th>\n",
       "      <td>Estimated Migration (Persons in April)</td>\n",
       "      <td>1987</td>\n",
       "      <td>United Kingdom (1)</td>\n",
       "      <td>Both sexes</td>\n",
       "      <td>Emigrants: All destinations</td>\n",
       "      <td>Thousand</td>\n",
       "      <td>21.8</td>\n",
       "    </tr>\n",
       "    <tr>\n",
       "      <th>2</th>\n",
       "      <td>Estimated Migration (Persons in April)</td>\n",
       "      <td>1987</td>\n",
       "      <td>United Kingdom (1)</td>\n",
       "      <td>Both sexes</td>\n",
       "      <td>Immigrants: All origins</td>\n",
       "      <td>Thousand</td>\n",
       "      <td>8.1</td>\n",
       "    </tr>\n",
       "    <tr>\n",
       "      <th>3</th>\n",
       "      <td>Estimated Migration (Persons in April)</td>\n",
       "      <td>1987</td>\n",
       "      <td>United Kingdom (1)</td>\n",
       "      <td>Male</td>\n",
       "      <td>Net migration</td>\n",
       "      <td>Thousand</td>\n",
       "      <td>-9.0</td>\n",
       "    </tr>\n",
       "    <tr>\n",
       "      <th>4</th>\n",
       "      <td>Estimated Migration (Persons in April)</td>\n",
       "      <td>1987</td>\n",
       "      <td>United Kingdom (1)</td>\n",
       "      <td>Male</td>\n",
       "      <td>Emigrants: All destinations</td>\n",
       "      <td>Thousand</td>\n",
       "      <td>13.1</td>\n",
       "    </tr>\n",
       "  </tbody>\n",
       "</table>\n",
       "</div>"
      ],
      "text/plain": [
       "                          STATISTIC Label  Year             Country  \\\n",
       "0  Estimated Migration (Persons in April)  1987  United Kingdom (1)   \n",
       "1  Estimated Migration (Persons in April)  1987  United Kingdom (1)   \n",
       "2  Estimated Migration (Persons in April)  1987  United Kingdom (1)   \n",
       "3  Estimated Migration (Persons in April)  1987  United Kingdom (1)   \n",
       "4  Estimated Migration (Persons in April)  1987  United Kingdom (1)   \n",
       "\n",
       "          Sex        Origin or Destination      UNIT  VALUE  \n",
       "0  Both sexes                Net migration  Thousand  -13.7  \n",
       "1  Both sexes  Emigrants: All destinations  Thousand   21.8  \n",
       "2  Both sexes      Immigrants: All origins  Thousand    8.1  \n",
       "3        Male                Net migration  Thousand   -9.0  \n",
       "4        Male  Emigrants: All destinations  Thousand   13.1  "
      ]
     },
     "execution_count": 3,
     "metadata": {},
     "output_type": "execute_result"
    }
   ],
   "source": [
    "# Load in data\n",
    "\n",
    "pop_data = pd.read_csv(\"migration_data.csv\")\n",
    "\n",
    "#printing the first 5 rows\n",
    "pop_data.head()"
   ]
  },
  {
   "cell_type": "markdown",
   "id": "b55e6676",
   "metadata": {},
   "source": [
    "### Getting a sense of the data..."
   ]
  },
  {
   "cell_type": "code",
   "execution_count": 4,
   "id": "ae60ba63",
   "metadata": {},
   "outputs": [
    {
     "data": {
      "text/plain": [
       "(2664, 7)"
      ]
     },
     "execution_count": 4,
     "metadata": {},
     "output_type": "execute_result"
    }
   ],
   "source": [
    "# Getting the length of the dataframe along with the number of columns, in the output (number of rows, number of cols)\n",
    "pop_data.shape"
   ]
  },
  {
   "cell_type": "code",
   "execution_count": 5,
   "id": "3c1db2d8",
   "metadata": {},
   "outputs": [
    {
     "data": {
      "text/plain": [
       "STATISTIC Label           object\n",
       "Year                       int64\n",
       "Country                   object\n",
       "Sex                       object\n",
       "Origin or Destination     object\n",
       "UNIT                      object\n",
       "VALUE                    float64\n",
       "dtype: object"
      ]
     },
     "execution_count": 5,
     "metadata": {},
     "output_type": "execute_result"
    }
   ],
   "source": [
    "# getting data types..\n",
    "\n",
    "pop_data.dtypes"
   ]
  },
  {
   "cell_type": "code",
   "execution_count": 6,
   "id": "013fc91e",
   "metadata": {},
   "outputs": [
    {
     "data": {
      "text/html": [
       "<div>\n",
       "<style scoped>\n",
       "    .dataframe tbody tr th:only-of-type {\n",
       "        vertical-align: middle;\n",
       "    }\n",
       "\n",
       "    .dataframe tbody tr th {\n",
       "        vertical-align: top;\n",
       "    }\n",
       "\n",
       "    .dataframe thead th {\n",
       "        text-align: right;\n",
       "    }\n",
       "</style>\n",
       "<table border=\"1\" class=\"dataframe\">\n",
       "  <thead>\n",
       "    <tr style=\"text-align: right;\">\n",
       "      <th></th>\n",
       "      <th>Year</th>\n",
       "      <th>VALUE</th>\n",
       "    </tr>\n",
       "  </thead>\n",
       "  <tbody>\n",
       "    <tr>\n",
       "      <th>count</th>\n",
       "      <td>2664.000000</td>\n",
       "      <td>2104.000000</td>\n",
       "    </tr>\n",
       "    <tr>\n",
       "      <th>mean</th>\n",
       "      <td>2005.000000</td>\n",
       "      <td>8.943726</td>\n",
       "    </tr>\n",
       "    <tr>\n",
       "      <th>std</th>\n",
       "      <td>10.679083</td>\n",
       "      <td>15.513703</td>\n",
       "    </tr>\n",
       "    <tr>\n",
       "      <th>min</th>\n",
       "      <td>1987.000000</td>\n",
       "      <td>-43.900000</td>\n",
       "    </tr>\n",
       "    <tr>\n",
       "      <th>25%</th>\n",
       "      <td>1996.000000</td>\n",
       "      <td>1.800000</td>\n",
       "    </tr>\n",
       "    <tr>\n",
       "      <th>50%</th>\n",
       "      <td>2005.000000</td>\n",
       "      <td>4.700000</td>\n",
       "    </tr>\n",
       "    <tr>\n",
       "      <th>75%</th>\n",
       "      <td>2014.000000</td>\n",
       "      <td>10.200000</td>\n",
       "    </tr>\n",
       "    <tr>\n",
       "      <th>max</th>\n",
       "      <td>2023.000000</td>\n",
       "      <td>151.100000</td>\n",
       "    </tr>\n",
       "  </tbody>\n",
       "</table>\n",
       "</div>"
      ],
      "text/plain": [
       "              Year        VALUE\n",
       "count  2664.000000  2104.000000\n",
       "mean   2005.000000     8.943726\n",
       "std      10.679083    15.513703\n",
       "min    1987.000000   -43.900000\n",
       "25%    1996.000000     1.800000\n",
       "50%    2005.000000     4.700000\n",
       "75%    2014.000000    10.200000\n",
       "max    2023.000000   151.100000"
      ]
     },
     "execution_count": 6,
     "metadata": {},
     "output_type": "execute_result"
    }
   ],
   "source": [
    "# getting a sense of the distrubution and variables..\n",
    "\n",
    "pop_data.describe()"
   ]
  },
  {
   "cell_type": "markdown",
   "id": "35f0a648",
   "metadata": {},
   "source": [
    "From the above info, the \"year\" column and the \"VALUE\" column are the only numerical variables. Year happens to be a categorical variable, and the information I'm interested in is that the min is 1987 and the max is 2023. This means there is population migration data for this period, 1987 to 2023.  \n",
    "Regarding the value column, I note from when I called `pop_data.head()` that this is vairable contains information on the net migration, as well as the number of incoming and outgoing people all as individual observations. So, the statistical information extracted (ie. the mean, std, etc.) isn't reliable.  \n",
    "Also worth noting is the difference between the counts for \"Year\" and \"VALUE\". There's a lot more values for Year, implying missing data in VALUE. So I would like to find out just how many are empty, and may as well check the whole dataset for missing data:"
   ]
  },
  {
   "cell_type": "code",
   "execution_count": 7,
   "id": "b946e730",
   "metadata": {},
   "outputs": [
    {
     "name": "stdout",
     "output_type": "stream",
     "text": [
      "STATISTIC Label            0\n",
      "Year                       0\n",
      "Country                    0\n",
      "Sex                        0\n",
      "Origin or Destination      0\n",
      "UNIT                       0\n",
      "VALUE                    560\n",
      "dtype: int64\n"
     ]
    }
   ],
   "source": [
    "# find whether columns contain null values\n",
    "print(pop_data.isnull().sum())"
   ]
  },
  {
   "cell_type": "code",
   "execution_count": 8,
   "id": "2739af5e",
   "metadata": {
    "scrolled": true
   },
   "outputs": [
    {
     "data": {
      "text/html": [
       "<div>\n",
       "<style scoped>\n",
       "    .dataframe tbody tr th:only-of-type {\n",
       "        vertical-align: middle;\n",
       "    }\n",
       "\n",
       "    .dataframe tbody tr th {\n",
       "        vertical-align: top;\n",
       "    }\n",
       "\n",
       "    .dataframe thead th {\n",
       "        text-align: right;\n",
       "    }\n",
       "</style>\n",
       "<table border=\"1\" class=\"dataframe\">\n",
       "  <thead>\n",
       "    <tr style=\"text-align: right;\">\n",
       "      <th></th>\n",
       "      <th>STATISTIC Label</th>\n",
       "      <th>Country</th>\n",
       "      <th>Sex</th>\n",
       "      <th>Origin or Destination</th>\n",
       "      <th>UNIT</th>\n",
       "    </tr>\n",
       "  </thead>\n",
       "  <tbody>\n",
       "    <tr>\n",
       "      <th>count</th>\n",
       "      <td>2664</td>\n",
       "      <td>2664</td>\n",
       "      <td>2664</td>\n",
       "      <td>2664</td>\n",
       "      <td>2664</td>\n",
       "    </tr>\n",
       "    <tr>\n",
       "      <th>unique</th>\n",
       "      <td>1</td>\n",
       "      <td>8</td>\n",
       "      <td>3</td>\n",
       "      <td>3</td>\n",
       "      <td>1</td>\n",
       "    </tr>\n",
       "    <tr>\n",
       "      <th>top</th>\n",
       "      <td>Estimated Migration (Persons in April)</td>\n",
       "      <td>United Kingdom (1)</td>\n",
       "      <td>Both sexes</td>\n",
       "      <td>Net migration</td>\n",
       "      <td>Thousand</td>\n",
       "    </tr>\n",
       "    <tr>\n",
       "      <th>freq</th>\n",
       "      <td>2664</td>\n",
       "      <td>333</td>\n",
       "      <td>888</td>\n",
       "      <td>888</td>\n",
       "      <td>2664</td>\n",
       "    </tr>\n",
       "  </tbody>\n",
       "</table>\n",
       "</div>"
      ],
      "text/plain": [
       "                               STATISTIC Label             Country  \\\n",
       "count                                     2664                2664   \n",
       "unique                                       1                   8   \n",
       "top     Estimated Migration (Persons in April)  United Kingdom (1)   \n",
       "freq                                      2664                 333   \n",
       "\n",
       "               Sex Origin or Destination      UNIT  \n",
       "count         2664                  2664      2664  \n",
       "unique           3                     3         1  \n",
       "top     Both sexes         Net migration  Thousand  \n",
       "freq           888                   888      2664  "
      ]
     },
     "execution_count": 8,
     "metadata": {},
     "output_type": "execute_result"
    }
   ],
   "source": [
    "# Summarising the categorical variables:\n",
    "pop_data.describe(include=object)"
   ]
  },
  {
   "cell_type": "markdown",
   "id": "064aeb59",
   "metadata": {},
   "source": [
    "Not much valuable info above I think? But I'm curious about the modes for each of these, I assume they are just listed in as the mode as they are the top value in the dataset, but just for piece of mind:"
   ]
  },
  {
   "cell_type": "code",
   "execution_count": 9,
   "id": "55c0a439",
   "metadata": {},
   "outputs": [
    {
     "name": "stdout",
     "output_type": "stream",
     "text": [
      "Value counts for \"Country\":\n",
      " United Kingdom (1)                                     333\n",
      "United States                                          333\n",
      "Canada                                                 333\n",
      "Australia                                              333\n",
      "Other countries (23)                                   333\n",
      "All countries                                          333\n",
      "EU14 excl Irl (UK & Ireland)                           333\n",
      "EU15 to EU27 (accession countries joined post 2004)    333\n",
      "Name: Country, dtype: int64 \n",
      "\n",
      "Value counts for \"sex\":\n",
      " Both sexes    888\n",
      "Male          888\n",
      "Female        888\n",
      "Name: Sex, dtype: int64\n"
     ]
    }
   ],
   "source": [
    "print('Value counts for \"Country\":\\n', pop_data['Country'].value_counts(), '\\n\\nValue counts for \"sex\":\\n', pop_data['Sex'].value_counts())\n",
    "\n"
   ]
  },
  {
   "cell_type": "code",
   "execution_count": 10,
   "id": "ce4fd37d",
   "metadata": {},
   "outputs": [
    {
     "name": "stdout",
     "output_type": "stream",
     "text": [
      "<class 'pandas.core.frame.DataFrame'>\n",
      "RangeIndex: 2664 entries, 0 to 2663\n",
      "Data columns (total 7 columns):\n",
      " #   Column                 Non-Null Count  Dtype  \n",
      "---  ------                 --------------  -----  \n",
      " 0   STATISTIC Label        2664 non-null   object \n",
      " 1   Year                   2664 non-null   int64  \n",
      " 2   Country                2664 non-null   object \n",
      " 3   Sex                    2664 non-null   object \n",
      " 4   Origin or Destination  2664 non-null   object \n",
      " 5   UNIT                   2664 non-null   object \n",
      " 6   VALUE                  2104 non-null   float64\n",
      "dtypes: float64(1), int64(1), object(5)\n",
      "memory usage: 145.8+ KB\n"
     ]
    }
   ],
   "source": [
    "# Obtaining some further information on the dataset:\n",
    "pop_data.info()"
   ]
  },
  {
   "cell_type": "markdown",
   "id": "5716b679",
   "metadata": {},
   "source": [
    "Initial thoughts: This dataset is a count of the total number of emigrants and immigrants in any given year, to and from a given county.\n",
    "\n",
    "The first column is a bit redundant and it's a bit inconvenient to have the net migration plus the number of immigrants and emigrants in the same column I think, but I should be able to find a work around without making additional unnecessary columns."
   ]
  },
  {
   "cell_type": "markdown",
   "id": "cee2f419",
   "metadata": {},
   "source": [
    "### Tiding it up a bit to make it easier to work with:\n",
    "Ideas for tidying:\n",
    "* make some things lower case?\n",
    "* rename cols, e.g. instead of \"Origin or Destination\" change it to migration_type"
   ]
  },
  {
   "cell_type": "code",
   "execution_count": 13,
   "id": "9443406e",
   "metadata": {},
   "outputs": [
    {
     "name": "stdout",
     "output_type": "stream",
     "text": [
      "Net migration                  888\n",
      "Emigrants: All destinations    888\n",
      "Immigrants: All origins        888\n",
      "Name: Origin or Destination, dtype: int64\n"
     ]
    }
   ],
   "source": [
    "# Making it lowercase\n",
    "## acc no dont do this\n",
    "\n",
    "#pop_data = pop_data[.lower()\n",
    "\n",
    "# Renaming columns\n",
    "\n",
    "\n",
    "# making sure the there is only 3 types of \"Origin or Destination\"\n",
    "#print(pop_data['Origin or Destination'].value_counts())          # output confirms this \n",
    "\n",
    "#rename col\n"
   ]
  },
  {
   "cell_type": "code",
   "execution_count": null,
   "id": "db67953f",
   "metadata": {},
   "outputs": [],
   "source": [
    "## Goal: Extract all instances of net migration and move it into a new dataframe. Make sure to bring all other cols with it."
   ]
  },
  {
   "cell_type": "code",
   "execution_count": 46,
   "id": "e38e9ca9",
   "metadata": {},
   "outputs": [
    {
     "ename": "ValueError",
     "evalue": "Boolean array expected for the condition, not object",
     "output_type": "error",
     "traceback": [
      "\u001b[1;31m---------------------------------------------------------------------------\u001b[0m",
      "\u001b[1;31mValueError\u001b[0m                                Traceback (most recent call last)",
      "Cell \u001b[1;32mIn[46], line 12\u001b[0m\n\u001b[0;32m      7\u001b[0m net_migration \u001b[38;5;241m=\u001b[39m pop_data[net_migration \u001b[38;5;241m&\u001b[39m both_sexes]\u001b[38;5;66;03m# creates a new dataframe with just rows where net_migration was true for both sexes\u001b[39;00m\n\u001b[0;32m      9\u001b[0m \u001b[38;5;66;03m#net_migration.head()\u001b[39;00m\n\u001b[0;32m     10\u001b[0m \n\u001b[0;32m     11\u001b[0m \u001b[38;5;66;03m# Creating the opposite dataset.. \u001b[39;00m\n\u001b[1;32m---> 12\u001b[0m not_net_migration \u001b[38;5;241m=\u001b[39m \u001b[38;5;241m~\u001b[39mpop_data[net_migration]\n\u001b[0;32m     13\u001b[0m individual_sexes \u001b[38;5;241m=\u001b[39m \u001b[38;5;241m~\u001b[39mboth_sexes\n\u001b[0;32m     14\u001b[0m migration_by_sex \u001b[38;5;241m=\u001b[39m not_net_migration \u001b[38;5;241m&\u001b[39m individual_sexes\n",
      "File \u001b[1;32m~\\anaconda3\\Lib\\site-packages\\pandas\\core\\frame.py:3794\u001b[0m, in \u001b[0;36mDataFrame.__getitem__\u001b[1;34m(self, key)\u001b[0m\n\u001b[0;32m   3792\u001b[0m \u001b[38;5;66;03m# Do we have a (boolean) DataFrame?\u001b[39;00m\n\u001b[0;32m   3793\u001b[0m \u001b[38;5;28;01mif\u001b[39;00m \u001b[38;5;28misinstance\u001b[39m(key, DataFrame):\n\u001b[1;32m-> 3794\u001b[0m     \u001b[38;5;28;01mreturn\u001b[39;00m \u001b[38;5;28mself\u001b[39m\u001b[38;5;241m.\u001b[39mwhere(key)\n\u001b[0;32m   3796\u001b[0m \u001b[38;5;66;03m# Do we have a (boolean) 1d indexer?\u001b[39;00m\n\u001b[0;32m   3797\u001b[0m \u001b[38;5;28;01mif\u001b[39;00m com\u001b[38;5;241m.\u001b[39mis_bool_indexer(key):\n",
      "File \u001b[1;32m~\\anaconda3\\Lib\\site-packages\\pandas\\util\\_decorators.py:211\u001b[0m, in \u001b[0;36mdeprecate_kwarg.<locals>._deprecate_kwarg.<locals>.wrapper\u001b[1;34m(*args, **kwargs)\u001b[0m\n\u001b[0;32m    209\u001b[0m     \u001b[38;5;28;01melse\u001b[39;00m:\n\u001b[0;32m    210\u001b[0m         kwargs[new_arg_name] \u001b[38;5;241m=\u001b[39m new_arg_value\n\u001b[1;32m--> 211\u001b[0m \u001b[38;5;28;01mreturn\u001b[39;00m func(\u001b[38;5;241m*\u001b[39margs, \u001b[38;5;241m*\u001b[39m\u001b[38;5;241m*\u001b[39mkwargs)\n",
      "File \u001b[1;32m~\\anaconda3\\Lib\\site-packages\\pandas\\util\\_decorators.py:331\u001b[0m, in \u001b[0;36mdeprecate_nonkeyword_arguments.<locals>.decorate.<locals>.wrapper\u001b[1;34m(*args, **kwargs)\u001b[0m\n\u001b[0;32m    325\u001b[0m \u001b[38;5;28;01mif\u001b[39;00m \u001b[38;5;28mlen\u001b[39m(args) \u001b[38;5;241m>\u001b[39m num_allow_args:\n\u001b[0;32m    326\u001b[0m     warnings\u001b[38;5;241m.\u001b[39mwarn(\n\u001b[0;32m    327\u001b[0m         msg\u001b[38;5;241m.\u001b[39mformat(arguments\u001b[38;5;241m=\u001b[39m_format_argument_list(allow_args)),\n\u001b[0;32m    328\u001b[0m         \u001b[38;5;167;01mFutureWarning\u001b[39;00m,\n\u001b[0;32m    329\u001b[0m         stacklevel\u001b[38;5;241m=\u001b[39mfind_stack_level(),\n\u001b[0;32m    330\u001b[0m     )\n\u001b[1;32m--> 331\u001b[0m \u001b[38;5;28;01mreturn\u001b[39;00m func(\u001b[38;5;241m*\u001b[39margs, \u001b[38;5;241m*\u001b[39m\u001b[38;5;241m*\u001b[39mkwargs)\n",
      "File \u001b[1;32m~\\anaconda3\\Lib\\site-packages\\pandas\\core\\frame.py:11923\u001b[0m, in \u001b[0;36mDataFrame.where\u001b[1;34m(self, cond, other, inplace, axis, level, errors, try_cast)\u001b[0m\n\u001b[0;32m  11909\u001b[0m \u001b[38;5;129m@deprecate_kwarg\u001b[39m(old_arg_name\u001b[38;5;241m=\u001b[39m\u001b[38;5;124m\"\u001b[39m\u001b[38;5;124merrors\u001b[39m\u001b[38;5;124m\"\u001b[39m, new_arg_name\u001b[38;5;241m=\u001b[39m\u001b[38;5;28;01mNone\u001b[39;00m)\n\u001b[0;32m  11910\u001b[0m \u001b[38;5;129m@deprecate_nonkeyword_arguments\u001b[39m(\n\u001b[0;32m  11911\u001b[0m     version\u001b[38;5;241m=\u001b[39m\u001b[38;5;28;01mNone\u001b[39;00m, allowed_args\u001b[38;5;241m=\u001b[39m[\u001b[38;5;124m\"\u001b[39m\u001b[38;5;124mself\u001b[39m\u001b[38;5;124m\"\u001b[39m, \u001b[38;5;124m\"\u001b[39m\u001b[38;5;124mcond\u001b[39m\u001b[38;5;124m\"\u001b[39m, \u001b[38;5;124m\"\u001b[39m\u001b[38;5;124mother\u001b[39m\u001b[38;5;124m\"\u001b[39m]\n\u001b[1;32m   (...)\u001b[0m\n\u001b[0;32m  11921\u001b[0m     try_cast: \u001b[38;5;28mbool\u001b[39m \u001b[38;5;241m|\u001b[39m lib\u001b[38;5;241m.\u001b[39mNoDefault \u001b[38;5;241m=\u001b[39m lib\u001b[38;5;241m.\u001b[39mno_default,\n\u001b[0;32m  11922\u001b[0m ) \u001b[38;5;241m-\u001b[39m\u001b[38;5;241m>\u001b[39m DataFrame \u001b[38;5;241m|\u001b[39m \u001b[38;5;28;01mNone\u001b[39;00m:\n\u001b[1;32m> 11923\u001b[0m     \u001b[38;5;28;01mreturn\u001b[39;00m \u001b[38;5;28msuper\u001b[39m()\u001b[38;5;241m.\u001b[39mwhere(\n\u001b[0;32m  11924\u001b[0m         cond,\n\u001b[0;32m  11925\u001b[0m         other,\n\u001b[0;32m  11926\u001b[0m         inplace\u001b[38;5;241m=\u001b[39minplace,\n\u001b[0;32m  11927\u001b[0m         axis\u001b[38;5;241m=\u001b[39maxis,\n\u001b[0;32m  11928\u001b[0m         level\u001b[38;5;241m=\u001b[39mlevel,\n\u001b[0;32m  11929\u001b[0m         try_cast\u001b[38;5;241m=\u001b[39mtry_cast,\n\u001b[0;32m  11930\u001b[0m     )\n",
      "File \u001b[1;32m~\\anaconda3\\Lib\\site-packages\\pandas\\util\\_decorators.py:211\u001b[0m, in \u001b[0;36mdeprecate_kwarg.<locals>._deprecate_kwarg.<locals>.wrapper\u001b[1;34m(*args, **kwargs)\u001b[0m\n\u001b[0;32m    209\u001b[0m     \u001b[38;5;28;01melse\u001b[39;00m:\n\u001b[0;32m    210\u001b[0m         kwargs[new_arg_name] \u001b[38;5;241m=\u001b[39m new_arg_value\n\u001b[1;32m--> 211\u001b[0m \u001b[38;5;28;01mreturn\u001b[39;00m func(\u001b[38;5;241m*\u001b[39margs, \u001b[38;5;241m*\u001b[39m\u001b[38;5;241m*\u001b[39mkwargs)\n",
      "File \u001b[1;32m~\\anaconda3\\Lib\\site-packages\\pandas\\util\\_decorators.py:331\u001b[0m, in \u001b[0;36mdeprecate_nonkeyword_arguments.<locals>.decorate.<locals>.wrapper\u001b[1;34m(*args, **kwargs)\u001b[0m\n\u001b[0;32m    325\u001b[0m \u001b[38;5;28;01mif\u001b[39;00m \u001b[38;5;28mlen\u001b[39m(args) \u001b[38;5;241m>\u001b[39m num_allow_args:\n\u001b[0;32m    326\u001b[0m     warnings\u001b[38;5;241m.\u001b[39mwarn(\n\u001b[0;32m    327\u001b[0m         msg\u001b[38;5;241m.\u001b[39mformat(arguments\u001b[38;5;241m=\u001b[39m_format_argument_list(allow_args)),\n\u001b[0;32m    328\u001b[0m         \u001b[38;5;167;01mFutureWarning\u001b[39;00m,\n\u001b[0;32m    329\u001b[0m         stacklevel\u001b[38;5;241m=\u001b[39mfind_stack_level(),\n\u001b[0;32m    330\u001b[0m     )\n\u001b[1;32m--> 331\u001b[0m \u001b[38;5;28;01mreturn\u001b[39;00m func(\u001b[38;5;241m*\u001b[39margs, \u001b[38;5;241m*\u001b[39m\u001b[38;5;241m*\u001b[39mkwargs)\n",
      "File \u001b[1;32m~\\anaconda3\\Lib\\site-packages\\pandas\\core\\generic.py:9968\u001b[0m, in \u001b[0;36mNDFrame.where\u001b[1;34m(self, cond, other, inplace, axis, level, errors, try_cast)\u001b[0m\n\u001b[0;32m   9960\u001b[0m \u001b[38;5;28;01mif\u001b[39;00m try_cast \u001b[38;5;129;01mis\u001b[39;00m \u001b[38;5;129;01mnot\u001b[39;00m lib\u001b[38;5;241m.\u001b[39mno_default:\n\u001b[0;32m   9961\u001b[0m     warnings\u001b[38;5;241m.\u001b[39mwarn(\n\u001b[0;32m   9962\u001b[0m         \u001b[38;5;124m\"\u001b[39m\u001b[38;5;124mtry_cast keyword is deprecated and will be removed in a \u001b[39m\u001b[38;5;124m\"\u001b[39m\n\u001b[0;32m   9963\u001b[0m         \u001b[38;5;124m\"\u001b[39m\u001b[38;5;124mfuture version.\u001b[39m\u001b[38;5;124m\"\u001b[39m,\n\u001b[0;32m   9964\u001b[0m         \u001b[38;5;167;01mFutureWarning\u001b[39;00m,\n\u001b[0;32m   9965\u001b[0m         stacklevel\u001b[38;5;241m=\u001b[39mfind_stack_level(),\n\u001b[0;32m   9966\u001b[0m     )\n\u001b[1;32m-> 9968\u001b[0m \u001b[38;5;28;01mreturn\u001b[39;00m \u001b[38;5;28mself\u001b[39m\u001b[38;5;241m.\u001b[39m_where(cond, other, inplace, axis, level)\n",
      "File \u001b[1;32m~\\anaconda3\\Lib\\site-packages\\pandas\\core\\generic.py:9657\u001b[0m, in \u001b[0;36mNDFrame._where\u001b[1;34m(self, cond, other, inplace, axis, level)\u001b[0m\n\u001b[0;32m   9655\u001b[0m         \u001b[38;5;28;01mfor\u001b[39;00m dt \u001b[38;5;129;01min\u001b[39;00m cond\u001b[38;5;241m.\u001b[39mdtypes:\n\u001b[0;32m   9656\u001b[0m             \u001b[38;5;28;01mif\u001b[39;00m \u001b[38;5;129;01mnot\u001b[39;00m is_bool_dtype(dt):\n\u001b[1;32m-> 9657\u001b[0m                 \u001b[38;5;28;01mraise\u001b[39;00m \u001b[38;5;167;01mValueError\u001b[39;00m(msg\u001b[38;5;241m.\u001b[39mformat(dtype\u001b[38;5;241m=\u001b[39mdt))\n\u001b[0;32m   9658\u001b[0m \u001b[38;5;28;01melse\u001b[39;00m:\n\u001b[0;32m   9659\u001b[0m     \u001b[38;5;66;03m# GH#21947 we have an empty DataFrame/Series, could be object-dtype\u001b[39;00m\n\u001b[0;32m   9660\u001b[0m     cond \u001b[38;5;241m=\u001b[39m cond\u001b[38;5;241m.\u001b[39mastype(\u001b[38;5;28mbool\u001b[39m)\n",
      "\u001b[1;31mValueError\u001b[0m: Boolean array expected for the condition, not object"
     ]
    }
   ],
   "source": [
    "#loc to pull out the info I want\n",
    "#net_migration = pop_data.loc[[\"Net migration\"], [\"Origin or Destination\"]]\n",
    "\n",
    "## this is using = a boolean mask...\n",
    "net_migration = (pop_data[\"Origin or Destination\"] == \"Net migration\")  # assigns each row w True or False based on whether or not the data is 'Net migration\n",
    "both_sexes = (pop_data[\"Sex\"] == \"Both sexes\") # Same as above, but for both sexes\n",
    "net_migration = pop_data[net_migration & both_sexes]# creates a new dataframe with just rows where net_migration was true for both sexes\n",
    "\n",
    "#net_migration.head()\n",
    "\n",
    "# Creating the opposite dataset.. figure this out?\n",
    "#not_net_migration = ~pop_data[net_migration]\n",
    "#individual_sexes = ~both_sexes\n",
    "#migration_by_sex = not_net_migration & individual_sexes #pop_data[~net_migration & ~both_sexes]"
   ]
  },
  {
   "cell_type": "markdown",
   "id": "5e78876e",
   "metadata": {},
   "source": [
    "Now the statistical info for the migration will be much more meaningful;"
   ]
  },
  {
   "cell_type": "code",
   "execution_count": 42,
   "id": "47fccf76",
   "metadata": {},
   "outputs": [
    {
     "data": {
      "text/plain": [
       "count    236.000000\n",
       "mean       5.311017\n",
       "std       17.635191\n",
       "min      -43.900000\n",
       "25%       -1.400000\n",
       "50%        1.550000\n",
       "75%        7.250000\n",
       "max      104.800000\n",
       "Name: VALUE, dtype: float64"
      ]
     },
     "execution_count": 42,
     "metadata": {},
     "output_type": "execute_result"
    }
   ],
   "source": [
    "net_migration[\"VALUE\"].describe()"
   ]
  }
 ],
 "metadata": {
  "kernelspec": {
   "display_name": "Python 3 (ipykernel)",
   "language": "python",
   "name": "python3"
  },
  "language_info": {
   "codemirror_mode": {
    "name": "ipython",
    "version": 3
   },
   "file_extension": ".py",
   "mimetype": "text/x-python",
   "name": "python",
   "nbconvert_exporter": "python",
   "pygments_lexer": "ipython3",
   "version": "3.11.4"
  }
 },
 "nbformat": 4,
 "nbformat_minor": 5
}
