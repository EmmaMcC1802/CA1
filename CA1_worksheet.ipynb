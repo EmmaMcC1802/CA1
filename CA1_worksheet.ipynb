{
 "cells": [
  {
   "cell_type": "markdown",
   "id": "6cd16ee7",
   "metadata": {},
   "source": [
    "# Assignment 1\n",
    "**Emma McCready**\n",
    "\n",
    "---\n",
    "\n",
    "### Analysis of population over time\n",
    "\n",
    "You are required to collect, process, analyse and interpret the data in order to identify possible issues/problems at present and make predictions/classifications in regard to the future. This analysis will rely on the available data from CSO and any additional data you deem necessary (with supporting evidence) to support your hypothesis for this scenario.\n",
    "\n",
    "Areas of focus:\n",
    "* Annual Population Change\n",
    "* Population Forecasting\n"
   ]
  },
  {
   "cell_type": "markdown",
   "id": "46edd045",
   "metadata": {},
   "source": [
    "# Part one: Data prep"
   ]
  },
  {
   "cell_type": "code",
   "execution_count": 30,
   "id": "2695131f",
   "metadata": {},
   "outputs": [],
   "source": [
    "# Load in packages\n",
    "import pandas as pd\n",
    "import numpy as np\n",
    "from scipy import stats\n"
   ]
  },
  {
   "cell_type": "code",
   "execution_count": 22,
   "id": "b83e688e",
   "metadata": {
    "scrolled": true
   },
   "outputs": [
    {
     "data": {
      "text/html": [
       "<div>\n",
       "<style scoped>\n",
       "    .dataframe tbody tr th:only-of-type {\n",
       "        vertical-align: middle;\n",
       "    }\n",
       "\n",
       "    .dataframe tbody tr th {\n",
       "        vertical-align: top;\n",
       "    }\n",
       "\n",
       "    .dataframe thead th {\n",
       "        text-align: right;\n",
       "    }\n",
       "</style>\n",
       "<table border=\"1\" class=\"dataframe\">\n",
       "  <thead>\n",
       "    <tr style=\"text-align: right;\">\n",
       "      <th></th>\n",
       "      <th>STATISTIC Label</th>\n",
       "      <th>Year</th>\n",
       "      <th>Country</th>\n",
       "      <th>Sex</th>\n",
       "      <th>Origin or Destination</th>\n",
       "      <th>UNIT</th>\n",
       "      <th>VALUE</th>\n",
       "    </tr>\n",
       "  </thead>\n",
       "  <tbody>\n",
       "    <tr>\n",
       "      <th>0</th>\n",
       "      <td>Estimated Migration (Persons in April)</td>\n",
       "      <td>1987</td>\n",
       "      <td>United Kingdom (1)</td>\n",
       "      <td>Both sexes</td>\n",
       "      <td>Net migration</td>\n",
       "      <td>Thousand</td>\n",
       "      <td>-13.7</td>\n",
       "    </tr>\n",
       "    <tr>\n",
       "      <th>1</th>\n",
       "      <td>Estimated Migration (Persons in April)</td>\n",
       "      <td>1987</td>\n",
       "      <td>United Kingdom (1)</td>\n",
       "      <td>Both sexes</td>\n",
       "      <td>Emigrants: All destinations</td>\n",
       "      <td>Thousand</td>\n",
       "      <td>21.8</td>\n",
       "    </tr>\n",
       "    <tr>\n",
       "      <th>2</th>\n",
       "      <td>Estimated Migration (Persons in April)</td>\n",
       "      <td>1987</td>\n",
       "      <td>United Kingdom (1)</td>\n",
       "      <td>Both sexes</td>\n",
       "      <td>Immigrants: All origins</td>\n",
       "      <td>Thousand</td>\n",
       "      <td>8.1</td>\n",
       "    </tr>\n",
       "    <tr>\n",
       "      <th>3</th>\n",
       "      <td>Estimated Migration (Persons in April)</td>\n",
       "      <td>1987</td>\n",
       "      <td>United Kingdom (1)</td>\n",
       "      <td>Male</td>\n",
       "      <td>Net migration</td>\n",
       "      <td>Thousand</td>\n",
       "      <td>-9.0</td>\n",
       "    </tr>\n",
       "    <tr>\n",
       "      <th>4</th>\n",
       "      <td>Estimated Migration (Persons in April)</td>\n",
       "      <td>1987</td>\n",
       "      <td>United Kingdom (1)</td>\n",
       "      <td>Male</td>\n",
       "      <td>Emigrants: All destinations</td>\n",
       "      <td>Thousand</td>\n",
       "      <td>13.1</td>\n",
       "    </tr>\n",
       "  </tbody>\n",
       "</table>\n",
       "</div>"
      ],
      "text/plain": [
       "                          STATISTIC Label  Year             Country  \\\n",
       "0  Estimated Migration (Persons in April)  1987  United Kingdom (1)   \n",
       "1  Estimated Migration (Persons in April)  1987  United Kingdom (1)   \n",
       "2  Estimated Migration (Persons in April)  1987  United Kingdom (1)   \n",
       "3  Estimated Migration (Persons in April)  1987  United Kingdom (1)   \n",
       "4  Estimated Migration (Persons in April)  1987  United Kingdom (1)   \n",
       "\n",
       "          Sex        Origin or Destination      UNIT  VALUE  \n",
       "0  Both sexes                Net migration  Thousand  -13.7  \n",
       "1  Both sexes  Emigrants: All destinations  Thousand   21.8  \n",
       "2  Both sexes      Immigrants: All origins  Thousand    8.1  \n",
       "3        Male                Net migration  Thousand   -9.0  \n",
       "4        Male  Emigrants: All destinations  Thousand   13.1  "
      ]
     },
     "execution_count": 22,
     "metadata": {},
     "output_type": "execute_result"
    }
   ],
   "source": [
    "# Load in data\n",
    "\n",
    "pop_data = pd.read_csv(\"migration_data.csv\")\n",
    "\n",
    "#printing the first 5 rows\n",
    "pop_data.head()"
   ]
  },
  {
   "cell_type": "markdown",
   "id": "b55e6676",
   "metadata": {},
   "source": [
    "### Getting a sense of the data..."
   ]
  },
  {
   "cell_type": "code",
   "execution_count": 12,
   "id": "ae60ba63",
   "metadata": {},
   "outputs": [
    {
     "data": {
      "text/plain": [
       "(2664, 7)"
      ]
     },
     "execution_count": 12,
     "metadata": {},
     "output_type": "execute_result"
    }
   ],
   "source": [
    "# Getting the length of the dataframe along with the number of columns, in the output (number of rows, number of cols)\n",
    "pop_data.shape"
   ]
  },
  {
   "cell_type": "code",
   "execution_count": 17,
   "id": "3c1db2d8",
   "metadata": {},
   "outputs": [
    {
     "data": {
      "text/plain": [
       "STATISTIC Label           object\n",
       "Year                       int64\n",
       "Country                   object\n",
       "Sex                       object\n",
       "Origin or Destination     object\n",
       "UNIT                      object\n",
       "VALUE                    float64\n",
       "dtype: object"
      ]
     },
     "execution_count": 17,
     "metadata": {},
     "output_type": "execute_result"
    }
   ],
   "source": [
    "# getting data types..\n",
    "\n",
    "pop_data.dtypes"
   ]
  },
  {
   "cell_type": "code",
   "execution_count": 19,
   "id": "013fc91e",
   "metadata": {},
   "outputs": [
    {
     "data": {
      "text/html": [
       "<div>\n",
       "<style scoped>\n",
       "    .dataframe tbody tr th:only-of-type {\n",
       "        vertical-align: middle;\n",
       "    }\n",
       "\n",
       "    .dataframe tbody tr th {\n",
       "        vertical-align: top;\n",
       "    }\n",
       "\n",
       "    .dataframe thead th {\n",
       "        text-align: right;\n",
       "    }\n",
       "</style>\n",
       "<table border=\"1\" class=\"dataframe\">\n",
       "  <thead>\n",
       "    <tr style=\"text-align: right;\">\n",
       "      <th></th>\n",
       "      <th>Year</th>\n",
       "      <th>VALUE</th>\n",
       "    </tr>\n",
       "  </thead>\n",
       "  <tbody>\n",
       "    <tr>\n",
       "      <th>count</th>\n",
       "      <td>2664.000000</td>\n",
       "      <td>2104.000000</td>\n",
       "    </tr>\n",
       "    <tr>\n",
       "      <th>mean</th>\n",
       "      <td>2005.000000</td>\n",
       "      <td>8.943726</td>\n",
       "    </tr>\n",
       "    <tr>\n",
       "      <th>std</th>\n",
       "      <td>10.679083</td>\n",
       "      <td>15.513703</td>\n",
       "    </tr>\n",
       "    <tr>\n",
       "      <th>min</th>\n",
       "      <td>1987.000000</td>\n",
       "      <td>-43.900000</td>\n",
       "    </tr>\n",
       "    <tr>\n",
       "      <th>25%</th>\n",
       "      <td>1996.000000</td>\n",
       "      <td>1.800000</td>\n",
       "    </tr>\n",
       "    <tr>\n",
       "      <th>50%</th>\n",
       "      <td>2005.000000</td>\n",
       "      <td>4.700000</td>\n",
       "    </tr>\n",
       "    <tr>\n",
       "      <th>75%</th>\n",
       "      <td>2014.000000</td>\n",
       "      <td>10.200000</td>\n",
       "    </tr>\n",
       "    <tr>\n",
       "      <th>max</th>\n",
       "      <td>2023.000000</td>\n",
       "      <td>151.100000</td>\n",
       "    </tr>\n",
       "  </tbody>\n",
       "</table>\n",
       "</div>"
      ],
      "text/plain": [
       "              Year        VALUE\n",
       "count  2664.000000  2104.000000\n",
       "mean   2005.000000     8.943726\n",
       "std      10.679083    15.513703\n",
       "min    1987.000000   -43.900000\n",
       "25%    1996.000000     1.800000\n",
       "50%    2005.000000     4.700000\n",
       "75%    2014.000000    10.200000\n",
       "max    2023.000000   151.100000"
      ]
     },
     "execution_count": 19,
     "metadata": {},
     "output_type": "execute_result"
    }
   ],
   "source": [
    "# getting a sense of the distrubution and variables..\n",
    "\n",
    "pop_data.describe()"
   ]
  },
  {
   "cell_type": "markdown",
   "id": "35f0a648",
   "metadata": {},
   "source": [
    "From the above info, the \"year\" column and the \"VALUE\" column are the only numerical variables. Year happens to be a categorical variable, and the information I'm interested in is that the min is 1987 and the max is 2023. This means there is population migration data for this period, 1987 to 2023.  \n",
    "Regarding the value column, I note from when I called `pop_data.head()` that this is vairable contains information on the net migration, as well as the number of incoming and outgoing people all as individual observations. So, the statistical information extracted (ie. the mean, std, etc.) isn't reliable.  \n",
    "Also worth noting is the difference between the counts for \"Year\" and \"VALUE\". There's a lot more values for Year, implying missing data in VALUE. So I would like to find out just how many are empty, and may as well check the whole dataset for missing data:"
   ]
  },
  {
   "cell_type": "code",
   "execution_count": 23,
   "id": "b946e730",
   "metadata": {},
   "outputs": [
    {
     "name": "stdout",
     "output_type": "stream",
     "text": [
      "STATISTIC Label            0\n",
      "Year                       0\n",
      "Country                    0\n",
      "Sex                        0\n",
      "Origin or Destination      0\n",
      "UNIT                       0\n",
      "VALUE                    560\n",
      "dtype: int64\n"
     ]
    }
   ],
   "source": [
    "# find whether columns contain null values\n",
    "print(pop_data.isnull().sum())"
   ]
  },
  {
   "cell_type": "code",
   "execution_count": 24,
   "id": "2739af5e",
   "metadata": {
    "scrolled": true
   },
   "outputs": [
    {
     "data": {
      "text/html": [
       "<div>\n",
       "<style scoped>\n",
       "    .dataframe tbody tr th:only-of-type {\n",
       "        vertical-align: middle;\n",
       "    }\n",
       "\n",
       "    .dataframe tbody tr th {\n",
       "        vertical-align: top;\n",
       "    }\n",
       "\n",
       "    .dataframe thead th {\n",
       "        text-align: right;\n",
       "    }\n",
       "</style>\n",
       "<table border=\"1\" class=\"dataframe\">\n",
       "  <thead>\n",
       "    <tr style=\"text-align: right;\">\n",
       "      <th></th>\n",
       "      <th>STATISTIC Label</th>\n",
       "      <th>Country</th>\n",
       "      <th>Sex</th>\n",
       "      <th>Origin or Destination</th>\n",
       "      <th>UNIT</th>\n",
       "    </tr>\n",
       "  </thead>\n",
       "  <tbody>\n",
       "    <tr>\n",
       "      <th>count</th>\n",
       "      <td>2664</td>\n",
       "      <td>2664</td>\n",
       "      <td>2664</td>\n",
       "      <td>2664</td>\n",
       "      <td>2664</td>\n",
       "    </tr>\n",
       "    <tr>\n",
       "      <th>unique</th>\n",
       "      <td>1</td>\n",
       "      <td>8</td>\n",
       "      <td>3</td>\n",
       "      <td>3</td>\n",
       "      <td>1</td>\n",
       "    </tr>\n",
       "    <tr>\n",
       "      <th>top</th>\n",
       "      <td>Estimated Migration (Persons in April)</td>\n",
       "      <td>United Kingdom (1)</td>\n",
       "      <td>Both sexes</td>\n",
       "      <td>Net migration</td>\n",
       "      <td>Thousand</td>\n",
       "    </tr>\n",
       "    <tr>\n",
       "      <th>freq</th>\n",
       "      <td>2664</td>\n",
       "      <td>333</td>\n",
       "      <td>888</td>\n",
       "      <td>888</td>\n",
       "      <td>2664</td>\n",
       "    </tr>\n",
       "  </tbody>\n",
       "</table>\n",
       "</div>"
      ],
      "text/plain": [
       "                               STATISTIC Label             Country  \\\n",
       "count                                     2664                2664   \n",
       "unique                                       1                   8   \n",
       "top     Estimated Migration (Persons in April)  United Kingdom (1)   \n",
       "freq                                      2664                 333   \n",
       "\n",
       "               Sex Origin or Destination      UNIT  \n",
       "count         2664                  2664      2664  \n",
       "unique           3                     3         1  \n",
       "top     Both sexes         Net migration  Thousand  \n",
       "freq           888                   888      2664  "
      ]
     },
     "execution_count": 24,
     "metadata": {},
     "output_type": "execute_result"
    }
   ],
   "source": [
    "# Summarising the categorical variables:\n",
    "pop_data.describe(include=object)"
   ]
  },
  {
   "cell_type": "markdown",
   "id": "064aeb59",
   "metadata": {},
   "source": [
    "Not much valuable info above I think? But I'm curious about the modes for each of these, I assume they are just listed in as the mode as they are the top value in the dataset, but just for piece of mind:"
   ]
  },
  {
   "cell_type": "code",
   "execution_count": 41,
   "id": "55c0a439",
   "metadata": {},
   "outputs": [
    {
     "name": "stdout",
     "output_type": "stream",
     "text": [
      "Value counts for \"Country\":\n",
      " United Kingdom (1)                                     333\n",
      "United States                                          333\n",
      "Canada                                                 333\n",
      "Australia                                              333\n",
      "Other countries (23)                                   333\n",
      "All countries                                          333\n",
      "EU14 excl Irl (UK & Ireland)                           333\n",
      "EU15 to EU27 (accession countries joined post 2004)    333\n",
      "Name: Country, dtype: int64 \n",
      "\n",
      "Value counts for \"sex\":\n",
      " Both sexes    888\n",
      "Male          888\n",
      "Female        888\n",
      "Name: Sex, dtype: int64\n"
     ]
    }
   ],
   "source": [
    "print('Value counts for \"Country\":\\n', pop_data['Country'].value_counts(), '\\n\\nValue counts for \"sex\":\\n', pop_data['Sex'].value_counts())\n",
    "\n"
   ]
  },
  {
   "cell_type": "code",
   "execution_count": 25,
   "id": "ce4fd37d",
   "metadata": {},
   "outputs": [
    {
     "name": "stdout",
     "output_type": "stream",
     "text": [
      "<class 'pandas.core.frame.DataFrame'>\n",
      "RangeIndex: 2664 entries, 0 to 2663\n",
      "Data columns (total 7 columns):\n",
      " #   Column                 Non-Null Count  Dtype  \n",
      "---  ------                 --------------  -----  \n",
      " 0   STATISTIC Label        2664 non-null   object \n",
      " 1   Year                   2664 non-null   int64  \n",
      " 2   Country                2664 non-null   object \n",
      " 3   Sex                    2664 non-null   object \n",
      " 4   Origin or Destination  2664 non-null   object \n",
      " 5   UNIT                   2664 non-null   object \n",
      " 6   VALUE                  2104 non-null   float64\n",
      "dtypes: float64(1), int64(1), object(5)\n",
      "memory usage: 145.8+ KB\n"
     ]
    }
   ],
   "source": [
    "# Obtaining some further information on the dataset:\n",
    "pop_data.info()"
   ]
  },
  {
   "cell_type": "markdown",
   "id": "5716b679",
   "metadata": {},
   "source": [
    "Initial thoughts: This dataset is a count of the total number of emigrants and immigrants in any given year, to and from a given county.\n",
    "\n",
    "The first column is a bit redundant and it's a bit inconvenient to have the net migration plus the number of immigrants and emigrants in the same column I think, but I should be able to find a work around without making additional unnecessary columns."
   ]
  },
  {
   "cell_type": "markdown",
   "id": "cee2f419",
   "metadata": {},
   "source": [
    "### Tiding it up a bit.."
   ]
  },
  {
   "cell_type": "code",
   "execution_count": null,
   "id": "9443406e",
   "metadata": {},
   "outputs": [],
   "source": [
    "#Renaming columns to make it a bit easier to deal with.\n",
    "\n"
   ]
  }
 ],
 "metadata": {
  "kernelspec": {
   "display_name": "Python 3 (ipykernel)",
   "language": "python",
   "name": "python3"
  },
  "language_info": {
   "codemirror_mode": {
    "name": "ipython",
    "version": 3
   },
   "file_extension": ".py",
   "mimetype": "text/x-python",
   "name": "python",
   "nbconvert_exporter": "python",
   "pygments_lexer": "ipython3",
   "version": "3.11.4"
  }
 },
 "nbformat": 4,
 "nbformat_minor": 5
}
